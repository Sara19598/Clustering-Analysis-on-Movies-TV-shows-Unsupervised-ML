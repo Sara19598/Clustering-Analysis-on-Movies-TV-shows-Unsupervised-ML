{
  "nbformat": 4,
  "nbformat_minor": 0,
  "metadata": {
    "colab": {
      "name": "NETFLIX MOVIES AND TV SHOWS CLUSTERING.ipynb",
      "provenance": [],
      "collapsed_sections": [],
      "include_colab_link": true
    },
    "kernelspec": {
      "name": "python3",
      "display_name": "Python 3"
    },
    "language_info": {
      "name": "python"
    }
  },
  "cells": [
    {
      "cell_type": "markdown",
      "metadata": {
        "id": "view-in-github",
        "colab_type": "text"
      },
      "source": [
        "<a href=\"https://colab.research.google.com/github/Sara19598/Clustering-Analysis-on-Movies-TV-shows-Unsupervised-ML/blob/main/NETFLIX_MOVIES_AND_TV_SHOWS_CLUSTERING.ipynb\" target=\"_parent\"><img src=\"https://colab.research.google.com/assets/colab-badge.svg\" alt=\"Open In Colab\"/></a>"
      ]
    },
    {
      "cell_type": "markdown",
      "metadata": {
        "id": "LGcl5Bv9ed6u"
      },
      "source": [
        "# **Problem Statement**"
      ]
    },
    {
      "cell_type": "markdown",
      "metadata": {
        "id": "8M5kyFaVjzXk"
      },
      "source": [
        "This dataset consists of tv shows and movies available on Netflix as of 2019. The dataset is collected from Flixable which is a third-party Netflix search engine.\n",
        "\n",
        "In 2018, they released an interesting report which shows that the number of TV shows on Netflix has nearly tripled since 2010. The streaming service’s number of movies has decreased by more than 2,000 titles since 2010, while its number of TV shows has nearly tripled. It will be interesting to explore what all other insights can be obtained from the same dataset.\n",
        "\n",
        "Integrating this dataset with other external datasets such as IMDB ratings, rotten tomatoes can also provide many interesting findings."
      ]
    },
    {
      "cell_type": "markdown",
      "metadata": {
        "id": "tLx5cJO8hzb1"
      },
      "source": [
        "## <b>In this  project, you are required to do </b>\n",
        "1. Exploratory Data Analysis \n",
        "\n",
        "2. Understanding what type content is available in different countries\n",
        "\n",
        "3. Is Netflix has increasingly focusing on TV rather than movies in recent years.\n",
        "4. Clustering similar content by matching text-based features\n",
        "\n"
      ]
    },
    {
      "cell_type": "markdown",
      "metadata": {
        "id": "AzGDqdC4fZ-b"
      },
      "source": [
        "# **Attribute Information**"
      ]
    },
    {
      "cell_type": "markdown",
      "metadata": {
        "id": "jhfLYargscGV"
      },
      "source": [
        "1. show_id : Unique ID for every Movie / Tv Show\n",
        "\n",
        "2. type : Identifier - A Movie or TV Show\n",
        "\n",
        "3. title : Title of the Movie / Tv Show\n",
        "\n",
        "4. director : Director of the Movie\n",
        "\n",
        "5. cast : Actors involved in the movie / show\n",
        "\n",
        "6. country : Country where the movie / show was produced\n",
        "\n",
        "7. date_added : Date it was added on Netflix\n",
        "\n",
        "8. release_year : Actual Releaseyear of the movie / show\n",
        "\n",
        "9. rating : TV Rating of the movie / show\n",
        "\n",
        "10. duration : Total Duration - in minutes or number of seasons\n",
        "\n",
        "11. listed_in : Genere\n",
        "\n",
        "12. description: The Summary description"
      ]
    },
    {
      "cell_type": "markdown",
      "source": [
        "Importing Libraries"
      ],
      "metadata": {
        "id": "qqeXAbrmpDv-"
      }
    },
    {
      "cell_type": "code",
      "source": [
        "#loading the Required libraries-\n",
        "import numpy as np                   # linear algebra & Extensively used to load and wrangle with the dataset.\n",
        "import pandas as pd                  # data processing & For some math operations in predictions\n",
        "import matplotlib.pyplot as plt      # Used for visualization.\n",
        "import seaborn as sns                # Used for visualization.\n",
        "import plotly.express as px\n",
        "import plotly.graph_objects as go\n",
        "from plotly.subplots import make_subplots\n",
        "import plotly.figure_factory as ff\n",
        "import missingno as mno             # install  pip install missingno\n",
        "import warnings                     # For filtering and ignoring the warnings.\n",
        "warnings.filterwarnings('ignore')\n",
        "from scipy import stats             # used for statistical analysis\n",
        "%matplotlib inline\n",
        "sns.set_style(\"whitegrid\")\n",
        "plt.style.use(\"fivethirtyeight\")\n"
      ],
      "metadata": {
        "id": "GIAyhaExpHTn"
      },
      "execution_count": 21,
      "outputs": []
    },
    {
      "cell_type": "code",
      "execution_count": 22,
      "metadata": {
        "colab": {
          "base_uri": "https://localhost:8080/"
        },
        "id": "qkBlQovP7g_S",
        "outputId": "d5f1b6a9-149b-48d6-9603-5550e3634854"
      },
      "outputs": [
        {
          "output_type": "stream",
          "name": "stdout",
          "text": [
            "Drive already mounted at /content/drive; to attempt to forcibly remount, call drive.mount(\"/content/drive\", force_remount=True).\n"
          ]
        }
      ],
      "source": [
        "# Mounting Drive \n",
        "from google.colab import drive\n",
        "drive.mount('/content/drive')"
      ]
    },
    {
      "cell_type": "code",
      "source": [
        "\n",
        "# Loading the dataset of csv file-\n",
        "nf=pd.read_csv('/content/drive/MyDrive/Capstone Project 4- Unsupervised ML - Netflix & Tv shows clustering/NETFLIX MOVIES AND TV SHOWS CLUSTERING.csv')"
      ],
      "metadata": {
        "id": "e_9KzBhDpSsH"
      },
      "execution_count": 23,
      "outputs": []
    },
    {
      "cell_type": "markdown",
      "metadata": {
        "papermill": {
          "duration": 0.030327,
          "end_time": "2021-08-10T14:53:06.394797",
          "exception": false,
          "start_time": "2021-08-10T14:53:06.364470",
          "status": "completed"
        },
        "tags": [],
        "id": "dd1ab279"
      },
      "source": [
        "# ***Data Summary***\n",
        "\n",
        "- Size of the dataset.\n",
        "- Printing few rows of it.\n",
        "- What type of feature in our dataset."
      ]
    },
    {
      "cell_type": "code",
      "source": [
        "#To view the dataset \n",
        "nf.head()"
      ],
      "metadata": {
        "colab": {
          "base_uri": "https://localhost:8080/",
          "height": 739
        },
        "id": "arLtIk6ZCIWj",
        "outputId": "ce322e82-2f6e-437a-bb21-048128edc2fc"
      },
      "execution_count": 24,
      "outputs": [
        {
          "output_type": "execute_result",
          "data": {
            "text/plain": [
              "  show_id     type  title           director  \\\n",
              "0      s1  TV Show     3%                NaN   \n",
              "1      s2    Movie   7:19  Jorge Michel Grau   \n",
              "2      s3    Movie  23:59       Gilbert Chan   \n",
              "3      s4    Movie      9        Shane Acker   \n",
              "4      s5    Movie     21     Robert Luketic   \n",
              "\n",
              "                                                cast        country  \\\n",
              "0  João Miguel, Bianca Comparato, Michel Gomes, R...         Brazil   \n",
              "1  Demián Bichir, Héctor Bonilla, Oscar Serrano, ...         Mexico   \n",
              "2  Tedd Chan, Stella Chung, Henley Hii, Lawrence ...      Singapore   \n",
              "3  Elijah Wood, John C. Reilly, Jennifer Connelly...  United States   \n",
              "4  Jim Sturgess, Kevin Spacey, Kate Bosworth, Aar...  United States   \n",
              "\n",
              "          date_added  release_year rating   duration  \\\n",
              "0    August 14, 2020          2020  TV-MA  4 Seasons   \n",
              "1  December 23, 2016          2016  TV-MA     93 min   \n",
              "2  December 20, 2018          2011      R     78 min   \n",
              "3  November 16, 2017          2009  PG-13     80 min   \n",
              "4    January 1, 2020          2008  PG-13    123 min   \n",
              "\n",
              "                                           listed_in  \\\n",
              "0  International TV Shows, TV Dramas, TV Sci-Fi &...   \n",
              "1                       Dramas, International Movies   \n",
              "2                Horror Movies, International Movies   \n",
              "3  Action & Adventure, Independent Movies, Sci-Fi...   \n",
              "4                                             Dramas   \n",
              "\n",
              "                                         description  \n",
              "0  In a future where the elite inhabit an island ...  \n",
              "1  After a devastating earthquake hits Mexico Cit...  \n",
              "2  When an army recruit is found dead, his fellow...  \n",
              "3  In a postapocalyptic world, rag-doll robots hi...  \n",
              "4  A brilliant group of students become card-coun...  "
            ],
            "text/html": [
              "\n",
              "  <div id=\"df-30ea02d2-101f-41d7-b55d-41bd29c90d32\">\n",
              "    <div class=\"colab-df-container\">\n",
              "      <div>\n",
              "<style scoped>\n",
              "    .dataframe tbody tr th:only-of-type {\n",
              "        vertical-align: middle;\n",
              "    }\n",
              "\n",
              "    .dataframe tbody tr th {\n",
              "        vertical-align: top;\n",
              "    }\n",
              "\n",
              "    .dataframe thead th {\n",
              "        text-align: right;\n",
              "    }\n",
              "</style>\n",
              "<table border=\"1\" class=\"dataframe\">\n",
              "  <thead>\n",
              "    <tr style=\"text-align: right;\">\n",
              "      <th></th>\n",
              "      <th>show_id</th>\n",
              "      <th>type</th>\n",
              "      <th>title</th>\n",
              "      <th>director</th>\n",
              "      <th>cast</th>\n",
              "      <th>country</th>\n",
              "      <th>date_added</th>\n",
              "      <th>release_year</th>\n",
              "      <th>rating</th>\n",
              "      <th>duration</th>\n",
              "      <th>listed_in</th>\n",
              "      <th>description</th>\n",
              "    </tr>\n",
              "  </thead>\n",
              "  <tbody>\n",
              "    <tr>\n",
              "      <th>0</th>\n",
              "      <td>s1</td>\n",
              "      <td>TV Show</td>\n",
              "      <td>3%</td>\n",
              "      <td>NaN</td>\n",
              "      <td>João Miguel, Bianca Comparato, Michel Gomes, R...</td>\n",
              "      <td>Brazil</td>\n",
              "      <td>August 14, 2020</td>\n",
              "      <td>2020</td>\n",
              "      <td>TV-MA</td>\n",
              "      <td>4 Seasons</td>\n",
              "      <td>International TV Shows, TV Dramas, TV Sci-Fi &amp;...</td>\n",
              "      <td>In a future where the elite inhabit an island ...</td>\n",
              "    </tr>\n",
              "    <tr>\n",
              "      <th>1</th>\n",
              "      <td>s2</td>\n",
              "      <td>Movie</td>\n",
              "      <td>7:19</td>\n",
              "      <td>Jorge Michel Grau</td>\n",
              "      <td>Demián Bichir, Héctor Bonilla, Oscar Serrano, ...</td>\n",
              "      <td>Mexico</td>\n",
              "      <td>December 23, 2016</td>\n",
              "      <td>2016</td>\n",
              "      <td>TV-MA</td>\n",
              "      <td>93 min</td>\n",
              "      <td>Dramas, International Movies</td>\n",
              "      <td>After a devastating earthquake hits Mexico Cit...</td>\n",
              "    </tr>\n",
              "    <tr>\n",
              "      <th>2</th>\n",
              "      <td>s3</td>\n",
              "      <td>Movie</td>\n",
              "      <td>23:59</td>\n",
              "      <td>Gilbert Chan</td>\n",
              "      <td>Tedd Chan, Stella Chung, Henley Hii, Lawrence ...</td>\n",
              "      <td>Singapore</td>\n",
              "      <td>December 20, 2018</td>\n",
              "      <td>2011</td>\n",
              "      <td>R</td>\n",
              "      <td>78 min</td>\n",
              "      <td>Horror Movies, International Movies</td>\n",
              "      <td>When an army recruit is found dead, his fellow...</td>\n",
              "    </tr>\n",
              "    <tr>\n",
              "      <th>3</th>\n",
              "      <td>s4</td>\n",
              "      <td>Movie</td>\n",
              "      <td>9</td>\n",
              "      <td>Shane Acker</td>\n",
              "      <td>Elijah Wood, John C. Reilly, Jennifer Connelly...</td>\n",
              "      <td>United States</td>\n",
              "      <td>November 16, 2017</td>\n",
              "      <td>2009</td>\n",
              "      <td>PG-13</td>\n",
              "      <td>80 min</td>\n",
              "      <td>Action &amp; Adventure, Independent Movies, Sci-Fi...</td>\n",
              "      <td>In a postapocalyptic world, rag-doll robots hi...</td>\n",
              "    </tr>\n",
              "    <tr>\n",
              "      <th>4</th>\n",
              "      <td>s5</td>\n",
              "      <td>Movie</td>\n",
              "      <td>21</td>\n",
              "      <td>Robert Luketic</td>\n",
              "      <td>Jim Sturgess, Kevin Spacey, Kate Bosworth, Aar...</td>\n",
              "      <td>United States</td>\n",
              "      <td>January 1, 2020</td>\n",
              "      <td>2008</td>\n",
              "      <td>PG-13</td>\n",
              "      <td>123 min</td>\n",
              "      <td>Dramas</td>\n",
              "      <td>A brilliant group of students become card-coun...</td>\n",
              "    </tr>\n",
              "  </tbody>\n",
              "</table>\n",
              "</div>\n",
              "      <button class=\"colab-df-convert\" onclick=\"convertToInteractive('df-30ea02d2-101f-41d7-b55d-41bd29c90d32')\"\n",
              "              title=\"Convert this dataframe to an interactive table.\"\n",
              "              style=\"display:none;\">\n",
              "        \n",
              "  <svg xmlns=\"http://www.w3.org/2000/svg\" height=\"24px\"viewBox=\"0 0 24 24\"\n",
              "       width=\"24px\">\n",
              "    <path d=\"M0 0h24v24H0V0z\" fill=\"none\"/>\n",
              "    <path d=\"M18.56 5.44l.94 2.06.94-2.06 2.06-.94-2.06-.94-.94-2.06-.94 2.06-2.06.94zm-11 1L8.5 8.5l.94-2.06 2.06-.94-2.06-.94L8.5 2.5l-.94 2.06-2.06.94zm10 10l.94 2.06.94-2.06 2.06-.94-2.06-.94-.94-2.06-.94 2.06-2.06.94z\"/><path d=\"M17.41 7.96l-1.37-1.37c-.4-.4-.92-.59-1.43-.59-.52 0-1.04.2-1.43.59L10.3 9.45l-7.72 7.72c-.78.78-.78 2.05 0 2.83L4 21.41c.39.39.9.59 1.41.59.51 0 1.02-.2 1.41-.59l7.78-7.78 2.81-2.81c.8-.78.8-2.07 0-2.86zM5.41 20L4 18.59l7.72-7.72 1.47 1.35L5.41 20z\"/>\n",
              "  </svg>\n",
              "      </button>\n",
              "      \n",
              "  <style>\n",
              "    .colab-df-container {\n",
              "      display:flex;\n",
              "      flex-wrap:wrap;\n",
              "      gap: 12px;\n",
              "    }\n",
              "\n",
              "    .colab-df-convert {\n",
              "      background-color: #E8F0FE;\n",
              "      border: none;\n",
              "      border-radius: 50%;\n",
              "      cursor: pointer;\n",
              "      display: none;\n",
              "      fill: #1967D2;\n",
              "      height: 32px;\n",
              "      padding: 0 0 0 0;\n",
              "      width: 32px;\n",
              "    }\n",
              "\n",
              "    .colab-df-convert:hover {\n",
              "      background-color: #E2EBFA;\n",
              "      box-shadow: 0px 1px 2px rgba(60, 64, 67, 0.3), 0px 1px 3px 1px rgba(60, 64, 67, 0.15);\n",
              "      fill: #174EA6;\n",
              "    }\n",
              "\n",
              "    [theme=dark] .colab-df-convert {\n",
              "      background-color: #3B4455;\n",
              "      fill: #D2E3FC;\n",
              "    }\n",
              "\n",
              "    [theme=dark] .colab-df-convert:hover {\n",
              "      background-color: #434B5C;\n",
              "      box-shadow: 0px 1px 3px 1px rgba(0, 0, 0, 0.15);\n",
              "      filter: drop-shadow(0px 1px 2px rgba(0, 0, 0, 0.3));\n",
              "      fill: #FFFFFF;\n",
              "    }\n",
              "  </style>\n",
              "\n",
              "      <script>\n",
              "        const buttonEl =\n",
              "          document.querySelector('#df-30ea02d2-101f-41d7-b55d-41bd29c90d32 button.colab-df-convert');\n",
              "        buttonEl.style.display =\n",
              "          google.colab.kernel.accessAllowed ? 'block' : 'none';\n",
              "\n",
              "        async function convertToInteractive(key) {\n",
              "          const element = document.querySelector('#df-30ea02d2-101f-41d7-b55d-41bd29c90d32');\n",
              "          const dataTable =\n",
              "            await google.colab.kernel.invokeFunction('convertToInteractive',\n",
              "                                                     [key], {});\n",
              "          if (!dataTable) return;\n",
              "\n",
              "          const docLinkHtml = 'Like what you see? Visit the ' +\n",
              "            '<a target=\"_blank\" href=https://colab.research.google.com/notebooks/data_table.ipynb>data table notebook</a>'\n",
              "            + ' to learn more about interactive tables.';\n",
              "          element.innerHTML = '';\n",
              "          dataTable['output_type'] = 'display_data';\n",
              "          await google.colab.output.renderOutput(dataTable, element);\n",
              "          const docLink = document.createElement('div');\n",
              "          docLink.innerHTML = docLinkHtml;\n",
              "          element.appendChild(docLink);\n",
              "        }\n",
              "      </script>\n",
              "    </div>\n",
              "  </div>\n",
              "  "
            ]
          },
          "metadata": {},
          "execution_count": 24
        }
      ]
    },
    {
      "cell_type": "code",
      "source": [
        "nf.tail()"
      ],
      "metadata": {
        "colab": {
          "base_uri": "https://localhost:8080/",
          "height": 704
        },
        "id": "S_Cr6NpvCeG4",
        "outputId": "596b1198-9f0c-47bf-9066-7e75705e5af6"
      },
      "execution_count": 25,
      "outputs": [
        {
          "output_type": "execute_result",
          "data": {
            "text/plain": [
              "     show_id     type                                    title     director  \\\n",
              "7782   s7783    Movie                                     Zozo  Josef Fares   \n",
              "7783   s7784    Movie                                   Zubaan  Mozez Singh   \n",
              "7784   s7785    Movie                        Zulu Man in Japan          NaN   \n",
              "7785   s7786  TV Show                    Zumbo's Just Desserts          NaN   \n",
              "7786   s7787    Movie  ZZ TOP: THAT LITTLE OL' BAND FROM TEXAS     Sam Dunn   \n",
              "\n",
              "                                                   cast  \\\n",
              "7782  Imad Creidi, Antoinette Turk, Elias Gergi, Car...   \n",
              "7783  Vicky Kaushal, Sarah-Jane Dias, Raaghav Chanan...   \n",
              "7784                                            Nasty C   \n",
              "7785                         Adriano Zumbo, Rachel Khoo   \n",
              "7786                                                NaN   \n",
              "\n",
              "                                                country          date_added  \\\n",
              "7782  Sweden, Czech Republic, United Kingdom, Denmar...    October 19, 2020   \n",
              "7783                                              India       March 2, 2019   \n",
              "7784                                                NaN  September 25, 2020   \n",
              "7785                                          Australia    October 31, 2020   \n",
              "7786              United Kingdom, Canada, United States       March 1, 2020   \n",
              "\n",
              "      release_year rating  duration  \\\n",
              "7782          2005  TV-MA    99 min   \n",
              "7783          2015  TV-14   111 min   \n",
              "7784          2019  TV-MA    44 min   \n",
              "7785          2019  TV-PG  1 Season   \n",
              "7786          2019  TV-MA    90 min   \n",
              "\n",
              "                                              listed_in  \\\n",
              "7782                       Dramas, International Movies   \n",
              "7783     Dramas, International Movies, Music & Musicals   \n",
              "7784  Documentaries, International Movies, Music & M...   \n",
              "7785                 International TV Shows, Reality TV   \n",
              "7786                    Documentaries, Music & Musicals   \n",
              "\n",
              "                                            description  \n",
              "7782  When Lebanon's Civil War deprives Zozo of his ...  \n",
              "7783  A scrappy but poor boy worms his way into a ty...  \n",
              "7784  In this documentary, South African rapper Nast...  \n",
              "7785  Dessert wizard Adriano Zumbo looks for the nex...  \n",
              "7786  This documentary delves into the mystique behi...  "
            ],
            "text/html": [
              "\n",
              "  <div id=\"df-afd47bc5-13fa-48bb-84a6-57730679c5cb\">\n",
              "    <div class=\"colab-df-container\">\n",
              "      <div>\n",
              "<style scoped>\n",
              "    .dataframe tbody tr th:only-of-type {\n",
              "        vertical-align: middle;\n",
              "    }\n",
              "\n",
              "    .dataframe tbody tr th {\n",
              "        vertical-align: top;\n",
              "    }\n",
              "\n",
              "    .dataframe thead th {\n",
              "        text-align: right;\n",
              "    }\n",
              "</style>\n",
              "<table border=\"1\" class=\"dataframe\">\n",
              "  <thead>\n",
              "    <tr style=\"text-align: right;\">\n",
              "      <th></th>\n",
              "      <th>show_id</th>\n",
              "      <th>type</th>\n",
              "      <th>title</th>\n",
              "      <th>director</th>\n",
              "      <th>cast</th>\n",
              "      <th>country</th>\n",
              "      <th>date_added</th>\n",
              "      <th>release_year</th>\n",
              "      <th>rating</th>\n",
              "      <th>duration</th>\n",
              "      <th>listed_in</th>\n",
              "      <th>description</th>\n",
              "    </tr>\n",
              "  </thead>\n",
              "  <tbody>\n",
              "    <tr>\n",
              "      <th>7782</th>\n",
              "      <td>s7783</td>\n",
              "      <td>Movie</td>\n",
              "      <td>Zozo</td>\n",
              "      <td>Josef Fares</td>\n",
              "      <td>Imad Creidi, Antoinette Turk, Elias Gergi, Car...</td>\n",
              "      <td>Sweden, Czech Republic, United Kingdom, Denmar...</td>\n",
              "      <td>October 19, 2020</td>\n",
              "      <td>2005</td>\n",
              "      <td>TV-MA</td>\n",
              "      <td>99 min</td>\n",
              "      <td>Dramas, International Movies</td>\n",
              "      <td>When Lebanon's Civil War deprives Zozo of his ...</td>\n",
              "    </tr>\n",
              "    <tr>\n",
              "      <th>7783</th>\n",
              "      <td>s7784</td>\n",
              "      <td>Movie</td>\n",
              "      <td>Zubaan</td>\n",
              "      <td>Mozez Singh</td>\n",
              "      <td>Vicky Kaushal, Sarah-Jane Dias, Raaghav Chanan...</td>\n",
              "      <td>India</td>\n",
              "      <td>March 2, 2019</td>\n",
              "      <td>2015</td>\n",
              "      <td>TV-14</td>\n",
              "      <td>111 min</td>\n",
              "      <td>Dramas, International Movies, Music &amp; Musicals</td>\n",
              "      <td>A scrappy but poor boy worms his way into a ty...</td>\n",
              "    </tr>\n",
              "    <tr>\n",
              "      <th>7784</th>\n",
              "      <td>s7785</td>\n",
              "      <td>Movie</td>\n",
              "      <td>Zulu Man in Japan</td>\n",
              "      <td>NaN</td>\n",
              "      <td>Nasty C</td>\n",
              "      <td>NaN</td>\n",
              "      <td>September 25, 2020</td>\n",
              "      <td>2019</td>\n",
              "      <td>TV-MA</td>\n",
              "      <td>44 min</td>\n",
              "      <td>Documentaries, International Movies, Music &amp; M...</td>\n",
              "      <td>In this documentary, South African rapper Nast...</td>\n",
              "    </tr>\n",
              "    <tr>\n",
              "      <th>7785</th>\n",
              "      <td>s7786</td>\n",
              "      <td>TV Show</td>\n",
              "      <td>Zumbo's Just Desserts</td>\n",
              "      <td>NaN</td>\n",
              "      <td>Adriano Zumbo, Rachel Khoo</td>\n",
              "      <td>Australia</td>\n",
              "      <td>October 31, 2020</td>\n",
              "      <td>2019</td>\n",
              "      <td>TV-PG</td>\n",
              "      <td>1 Season</td>\n",
              "      <td>International TV Shows, Reality TV</td>\n",
              "      <td>Dessert wizard Adriano Zumbo looks for the nex...</td>\n",
              "    </tr>\n",
              "    <tr>\n",
              "      <th>7786</th>\n",
              "      <td>s7787</td>\n",
              "      <td>Movie</td>\n",
              "      <td>ZZ TOP: THAT LITTLE OL' BAND FROM TEXAS</td>\n",
              "      <td>Sam Dunn</td>\n",
              "      <td>NaN</td>\n",
              "      <td>United Kingdom, Canada, United States</td>\n",
              "      <td>March 1, 2020</td>\n",
              "      <td>2019</td>\n",
              "      <td>TV-MA</td>\n",
              "      <td>90 min</td>\n",
              "      <td>Documentaries, Music &amp; Musicals</td>\n",
              "      <td>This documentary delves into the mystique behi...</td>\n",
              "    </tr>\n",
              "  </tbody>\n",
              "</table>\n",
              "</div>\n",
              "      <button class=\"colab-df-convert\" onclick=\"convertToInteractive('df-afd47bc5-13fa-48bb-84a6-57730679c5cb')\"\n",
              "              title=\"Convert this dataframe to an interactive table.\"\n",
              "              style=\"display:none;\">\n",
              "        \n",
              "  <svg xmlns=\"http://www.w3.org/2000/svg\" height=\"24px\"viewBox=\"0 0 24 24\"\n",
              "       width=\"24px\">\n",
              "    <path d=\"M0 0h24v24H0V0z\" fill=\"none\"/>\n",
              "    <path d=\"M18.56 5.44l.94 2.06.94-2.06 2.06-.94-2.06-.94-.94-2.06-.94 2.06-2.06.94zm-11 1L8.5 8.5l.94-2.06 2.06-.94-2.06-.94L8.5 2.5l-.94 2.06-2.06.94zm10 10l.94 2.06.94-2.06 2.06-.94-2.06-.94-.94-2.06-.94 2.06-2.06.94z\"/><path d=\"M17.41 7.96l-1.37-1.37c-.4-.4-.92-.59-1.43-.59-.52 0-1.04.2-1.43.59L10.3 9.45l-7.72 7.72c-.78.78-.78 2.05 0 2.83L4 21.41c.39.39.9.59 1.41.59.51 0 1.02-.2 1.41-.59l7.78-7.78 2.81-2.81c.8-.78.8-2.07 0-2.86zM5.41 20L4 18.59l7.72-7.72 1.47 1.35L5.41 20z\"/>\n",
              "  </svg>\n",
              "      </button>\n",
              "      \n",
              "  <style>\n",
              "    .colab-df-container {\n",
              "      display:flex;\n",
              "      flex-wrap:wrap;\n",
              "      gap: 12px;\n",
              "    }\n",
              "\n",
              "    .colab-df-convert {\n",
              "      background-color: #E8F0FE;\n",
              "      border: none;\n",
              "      border-radius: 50%;\n",
              "      cursor: pointer;\n",
              "      display: none;\n",
              "      fill: #1967D2;\n",
              "      height: 32px;\n",
              "      padding: 0 0 0 0;\n",
              "      width: 32px;\n",
              "    }\n",
              "\n",
              "    .colab-df-convert:hover {\n",
              "      background-color: #E2EBFA;\n",
              "      box-shadow: 0px 1px 2px rgba(60, 64, 67, 0.3), 0px 1px 3px 1px rgba(60, 64, 67, 0.15);\n",
              "      fill: #174EA6;\n",
              "    }\n",
              "\n",
              "    [theme=dark] .colab-df-convert {\n",
              "      background-color: #3B4455;\n",
              "      fill: #D2E3FC;\n",
              "    }\n",
              "\n",
              "    [theme=dark] .colab-df-convert:hover {\n",
              "      background-color: #434B5C;\n",
              "      box-shadow: 0px 1px 3px 1px rgba(0, 0, 0, 0.15);\n",
              "      filter: drop-shadow(0px 1px 2px rgba(0, 0, 0, 0.3));\n",
              "      fill: #FFFFFF;\n",
              "    }\n",
              "  </style>\n",
              "\n",
              "      <script>\n",
              "        const buttonEl =\n",
              "          document.querySelector('#df-afd47bc5-13fa-48bb-84a6-57730679c5cb button.colab-df-convert');\n",
              "        buttonEl.style.display =\n",
              "          google.colab.kernel.accessAllowed ? 'block' : 'none';\n",
              "\n",
              "        async function convertToInteractive(key) {\n",
              "          const element = document.querySelector('#df-afd47bc5-13fa-48bb-84a6-57730679c5cb');\n",
              "          const dataTable =\n",
              "            await google.colab.kernel.invokeFunction('convertToInteractive',\n",
              "                                                     [key], {});\n",
              "          if (!dataTable) return;\n",
              "\n",
              "          const docLinkHtml = 'Like what you see? Visit the ' +\n",
              "            '<a target=\"_blank\" href=https://colab.research.google.com/notebooks/data_table.ipynb>data table notebook</a>'\n",
              "            + ' to learn more about interactive tables.';\n",
              "          element.innerHTML = '';\n",
              "          dataTable['output_type'] = 'display_data';\n",
              "          await google.colab.output.renderOutput(dataTable, element);\n",
              "          const docLink = document.createElement('div');\n",
              "          docLink.innerHTML = docLinkHtml;\n",
              "          element.appendChild(docLink);\n",
              "        }\n",
              "      </script>\n",
              "    </div>\n",
              "  </div>\n",
              "  "
            ]
          },
          "metadata": {},
          "execution_count": 25
        }
      ]
    },
    {
      "cell_type": "code",
      "source": [
        "#Shape of the dataset\n",
        "nf.shape"
      ],
      "metadata": {
        "colab": {
          "base_uri": "https://localhost:8080/"
        },
        "id": "jkDCTUYZC8o-",
        "outputId": "6c90ad1d-3c3f-417c-93a2-03cfa0f76115"
      },
      "execution_count": 26,
      "outputs": [
        {
          "output_type": "execute_result",
          "data": {
            "text/plain": [
              "(7787, 12)"
            ]
          },
          "metadata": {},
          "execution_count": 26
        }
      ]
    },
    {
      "cell_type": "code",
      "source": [
        "#To get the columns of the dataset\n",
        "nf.columns"
      ],
      "metadata": {
        "colab": {
          "base_uri": "https://localhost:8080/"
        },
        "id": "KsBMxuXTDJLL",
        "outputId": "9bd29f80-adae-4e04-d834-7c9468f4e0d0"
      },
      "execution_count": 27,
      "outputs": [
        {
          "output_type": "execute_result",
          "data": {
            "text/plain": [
              "Index(['show_id', 'type', 'title', 'director', 'cast', 'country', 'date_added',\n",
              "       'release_year', 'rating', 'duration', 'listed_in', 'description'],\n",
              "      dtype='object')"
            ]
          },
          "metadata": {},
          "execution_count": 27
        }
      ]
    },
    {
      "cell_type": "code",
      "source": [
        "# number of unique values that each column contains\n",
        "nf.nunique()"
      ],
      "metadata": {
        "colab": {
          "base_uri": "https://localhost:8080/"
        },
        "id": "yApB2ZpkDGE0",
        "outputId": "0f414c0c-5eeb-4664-d2af-97226ad4da1f"
      },
      "execution_count": 28,
      "outputs": [
        {
          "output_type": "execute_result",
          "data": {
            "text/plain": [
              "show_id         7787\n",
              "type               2\n",
              "title           7787\n",
              "director        4049\n",
              "cast            6831\n",
              "country          681\n",
              "date_added      1565\n",
              "release_year      73\n",
              "rating            14\n",
              "duration         216\n",
              "listed_in        492\n",
              "description     7769\n",
              "dtype: int64"
            ]
          },
          "metadata": {},
          "execution_count": 28
        }
      ]
    },
    {
      "cell_type": "code",
      "source": [
        "#showing the datatype of all features\n",
        "nf.info()"
      ],
      "metadata": {
        "colab": {
          "base_uri": "https://localhost:8080/"
        },
        "id": "CQg2975RDfVO",
        "outputId": "3bb7a84c-6ebb-42b3-deb3-0c37c1c1b2a4"
      },
      "execution_count": 29,
      "outputs": [
        {
          "output_type": "stream",
          "name": "stdout",
          "text": [
            "<class 'pandas.core.frame.DataFrame'>\n",
            "RangeIndex: 7787 entries, 0 to 7786\n",
            "Data columns (total 12 columns):\n",
            " #   Column        Non-Null Count  Dtype \n",
            "---  ------        --------------  ----- \n",
            " 0   show_id       7787 non-null   object\n",
            " 1   type          7787 non-null   object\n",
            " 2   title         7787 non-null   object\n",
            " 3   director      5398 non-null   object\n",
            " 4   cast          7069 non-null   object\n",
            " 5   country       7280 non-null   object\n",
            " 6   date_added    7777 non-null   object\n",
            " 7   release_year  7787 non-null   int64 \n",
            " 8   rating        7780 non-null   object\n",
            " 9   duration      7787 non-null   object\n",
            " 10  listed_in     7787 non-null   object\n",
            " 11  description   7787 non-null   object\n",
            "dtypes: int64(1), object(11)\n",
            "memory usage: 730.2+ KB\n"
          ]
        }
      ]
    },
    {
      "cell_type": "code",
      "source": [
        "#Summary of the dataset\n",
        "nf.describe()"
      ],
      "metadata": {
        "colab": {
          "base_uri": "https://localhost:8080/",
          "height": 300
        },
        "id": "NRpLlSXgCtMu",
        "outputId": "52d8b005-784c-4530-a549-38f5037e7ed1"
      },
      "execution_count": 30,
      "outputs": [
        {
          "output_type": "execute_result",
          "data": {
            "text/plain": [
              "       release_year\n",
              "count   7787.000000\n",
              "mean    2013.932580\n",
              "std        8.757395\n",
              "min     1925.000000\n",
              "25%     2013.000000\n",
              "50%     2017.000000\n",
              "75%     2018.000000\n",
              "max     2021.000000"
            ],
            "text/html": [
              "\n",
              "  <div id=\"df-704b456c-3590-4ec1-98cb-c252e3f2a6c0\">\n",
              "    <div class=\"colab-df-container\">\n",
              "      <div>\n",
              "<style scoped>\n",
              "    .dataframe tbody tr th:only-of-type {\n",
              "        vertical-align: middle;\n",
              "    }\n",
              "\n",
              "    .dataframe tbody tr th {\n",
              "        vertical-align: top;\n",
              "    }\n",
              "\n",
              "    .dataframe thead th {\n",
              "        text-align: right;\n",
              "    }\n",
              "</style>\n",
              "<table border=\"1\" class=\"dataframe\">\n",
              "  <thead>\n",
              "    <tr style=\"text-align: right;\">\n",
              "      <th></th>\n",
              "      <th>release_year</th>\n",
              "    </tr>\n",
              "  </thead>\n",
              "  <tbody>\n",
              "    <tr>\n",
              "      <th>count</th>\n",
              "      <td>7787.000000</td>\n",
              "    </tr>\n",
              "    <tr>\n",
              "      <th>mean</th>\n",
              "      <td>2013.932580</td>\n",
              "    </tr>\n",
              "    <tr>\n",
              "      <th>std</th>\n",
              "      <td>8.757395</td>\n",
              "    </tr>\n",
              "    <tr>\n",
              "      <th>min</th>\n",
              "      <td>1925.000000</td>\n",
              "    </tr>\n",
              "    <tr>\n",
              "      <th>25%</th>\n",
              "      <td>2013.000000</td>\n",
              "    </tr>\n",
              "    <tr>\n",
              "      <th>50%</th>\n",
              "      <td>2017.000000</td>\n",
              "    </tr>\n",
              "    <tr>\n",
              "      <th>75%</th>\n",
              "      <td>2018.000000</td>\n",
              "    </tr>\n",
              "    <tr>\n",
              "      <th>max</th>\n",
              "      <td>2021.000000</td>\n",
              "    </tr>\n",
              "  </tbody>\n",
              "</table>\n",
              "</div>\n",
              "      <button class=\"colab-df-convert\" onclick=\"convertToInteractive('df-704b456c-3590-4ec1-98cb-c252e3f2a6c0')\"\n",
              "              title=\"Convert this dataframe to an interactive table.\"\n",
              "              style=\"display:none;\">\n",
              "        \n",
              "  <svg xmlns=\"http://www.w3.org/2000/svg\" height=\"24px\"viewBox=\"0 0 24 24\"\n",
              "       width=\"24px\">\n",
              "    <path d=\"M0 0h24v24H0V0z\" fill=\"none\"/>\n",
              "    <path d=\"M18.56 5.44l.94 2.06.94-2.06 2.06-.94-2.06-.94-.94-2.06-.94 2.06-2.06.94zm-11 1L8.5 8.5l.94-2.06 2.06-.94-2.06-.94L8.5 2.5l-.94 2.06-2.06.94zm10 10l.94 2.06.94-2.06 2.06-.94-2.06-.94-.94-2.06-.94 2.06-2.06.94z\"/><path d=\"M17.41 7.96l-1.37-1.37c-.4-.4-.92-.59-1.43-.59-.52 0-1.04.2-1.43.59L10.3 9.45l-7.72 7.72c-.78.78-.78 2.05 0 2.83L4 21.41c.39.39.9.59 1.41.59.51 0 1.02-.2 1.41-.59l7.78-7.78 2.81-2.81c.8-.78.8-2.07 0-2.86zM5.41 20L4 18.59l7.72-7.72 1.47 1.35L5.41 20z\"/>\n",
              "  </svg>\n",
              "      </button>\n",
              "      \n",
              "  <style>\n",
              "    .colab-df-container {\n",
              "      display:flex;\n",
              "      flex-wrap:wrap;\n",
              "      gap: 12px;\n",
              "    }\n",
              "\n",
              "    .colab-df-convert {\n",
              "      background-color: #E8F0FE;\n",
              "      border: none;\n",
              "      border-radius: 50%;\n",
              "      cursor: pointer;\n",
              "      display: none;\n",
              "      fill: #1967D2;\n",
              "      height: 32px;\n",
              "      padding: 0 0 0 0;\n",
              "      width: 32px;\n",
              "    }\n",
              "\n",
              "    .colab-df-convert:hover {\n",
              "      background-color: #E2EBFA;\n",
              "      box-shadow: 0px 1px 2px rgba(60, 64, 67, 0.3), 0px 1px 3px 1px rgba(60, 64, 67, 0.15);\n",
              "      fill: #174EA6;\n",
              "    }\n",
              "\n",
              "    [theme=dark] .colab-df-convert {\n",
              "      background-color: #3B4455;\n",
              "      fill: #D2E3FC;\n",
              "    }\n",
              "\n",
              "    [theme=dark] .colab-df-convert:hover {\n",
              "      background-color: #434B5C;\n",
              "      box-shadow: 0px 1px 3px 1px rgba(0, 0, 0, 0.15);\n",
              "      filter: drop-shadow(0px 1px 2px rgba(0, 0, 0, 0.3));\n",
              "      fill: #FFFFFF;\n",
              "    }\n",
              "  </style>\n",
              "\n",
              "      <script>\n",
              "        const buttonEl =\n",
              "          document.querySelector('#df-704b456c-3590-4ec1-98cb-c252e3f2a6c0 button.colab-df-convert');\n",
              "        buttonEl.style.display =\n",
              "          google.colab.kernel.accessAllowed ? 'block' : 'none';\n",
              "\n",
              "        async function convertToInteractive(key) {\n",
              "          const element = document.querySelector('#df-704b456c-3590-4ec1-98cb-c252e3f2a6c0');\n",
              "          const dataTable =\n",
              "            await google.colab.kernel.invokeFunction('convertToInteractive',\n",
              "                                                     [key], {});\n",
              "          if (!dataTable) return;\n",
              "\n",
              "          const docLinkHtml = 'Like what you see? Visit the ' +\n",
              "            '<a target=\"_blank\" href=https://colab.research.google.com/notebooks/data_table.ipynb>data table notebook</a>'\n",
              "            + ' to learn more about interactive tables.';\n",
              "          element.innerHTML = '';\n",
              "          dataTable['output_type'] = 'display_data';\n",
              "          await google.colab.output.renderOutput(dataTable, element);\n",
              "          const docLink = document.createElement('div');\n",
              "          docLink.innerHTML = docLinkHtml;\n",
              "          element.appendChild(docLink);\n",
              "        }\n",
              "      </script>\n",
              "    </div>\n",
              "  </div>\n",
              "  "
            ]
          },
          "metadata": {},
          "execution_count": 30
        }
      ]
    },
    {
      "cell_type": "markdown",
      "source": [
        "# ***Data Cleaning***"
      ],
      "metadata": {
        "id": "q-oTkqzxEhnC"
      }
    },
    {
      "cell_type": "code",
      "source": [
        "#Checking of Missing value\n",
        "nf.isnull().sum()"
      ],
      "metadata": {
        "colab": {
          "base_uri": "https://localhost:8080/"
        },
        "id": "E1-SyejECgT8",
        "outputId": "53b41e5a-b248-439c-9981-70b6b2f039b7"
      },
      "execution_count": 31,
      "outputs": [
        {
          "output_type": "execute_result",
          "data": {
            "text/plain": [
              "show_id            0\n",
              "type               0\n",
              "title              0\n",
              "director        2389\n",
              "cast             718\n",
              "country          507\n",
              "date_added        10\n",
              "release_year       0\n",
              "rating             7\n",
              "duration           0\n",
              "listed_in          0\n",
              "description        0\n",
              "dtype: int64"
            ]
          },
          "metadata": {},
          "execution_count": 31
        }
      ]
    },
    {
      "cell_type": "code",
      "source": [
        "mno.matrix(nf,figsize=(10,5),color=(0.5,0.0,0.15))\n"
      ],
      "metadata": {
        "colab": {
          "base_uri": "https://localhost:8080/",
          "height": 439
        },
        "id": "tuq6bN-xV7Z2",
        "outputId": "bc89761d-df28-44ac-b453-db7063b0c576"
      },
      "execution_count": 32,
      "outputs": [
        {
          "output_type": "execute_result",
          "data": {
            "text/plain": [
              "<matplotlib.axes._subplots.AxesSubplot at 0x7f01bb7c2550>"
            ]
          },
          "metadata": {},
          "execution_count": 32
        },
        {
          "output_type": "display_data",
          "data": {
            "text/plain": [
              "<Figure size 720x360 with 2 Axes>"
            ],
            "image/png": "[encoded data removed]"
          },
          "metadata": {}
        }
      ]
    },
    {
      "cell_type": "markdown",
      "source": [
        "### ***Comment:- There are misisng values present in the features such as director,cast,country & date_added.***"
      ],
      "metadata": {
        "id": "uI9T15JEE2nf"
      }
    },
    {
      "cell_type": "code",
      "source": [
        "#Dropping null values -\n",
        "nf.dropna( how='any',subset=['cast', 'director'])\n",
        "nf.drop_duplicates(inplace=True)"
      ],
      "metadata": {
        "id": "bQKdAwA-RZnI"
      },
      "execution_count": 33,
      "outputs": []
    },
    {
      "cell_type": "code",
      "source": [
        "# To remove the missing values-\n",
        "nf.dropna(axis=0,inplace=True)\n",
        "nf.shape"
      ],
      "metadata": {
        "id": "x_2tAR3nEwqY",
        "colab": {
          "base_uri": "https://localhost:8080/"
        },
        "outputId": "6a25735c-0e9b-4f44-bc05-e0f1cce14383"
      },
      "execution_count": 34,
      "outputs": [
        {
          "output_type": "execute_result",
          "data": {
            "text/plain": [
              "(4808, 12)"
            ]
          },
          "metadata": {},
          "execution_count": 34
        }
      ]
    },
    {
      "cell_type": "code",
      "source": [
        "#Visualization after removing NAN values from the dataset-\n",
        "mno.matrix(nf,figsize=(10,5),color=(0.2,0.0,0.19))"
      ],
      "metadata": {
        "colab": {
          "base_uri": "https://localhost:8080/",
          "height": 439
        },
        "id": "wObynmTKEETq",
        "outputId": "c155eb48-f0d1-4f78-b330-a15ab2e5adb5"
      },
      "execution_count": 35,
      "outputs": [
        {
          "output_type": "execute_result",
          "data": {
            "text/plain": [
              "<matplotlib.axes._subplots.AxesSubplot at 0x7f01bb6aee10>"
            ]
          },
          "metadata": {},
          "execution_count": 35
        },
        {
          "output_type": "display_data",
          "data": {
            "text/plain": [
              "<Figure size 720x360 with 2 Axes>"
            ],
            "image/png": "[encoded data removed]"
          },
          "metadata": {}
        }
      ]
    },
    {
      "cell_type": "markdown",
      "source": [
        "## **Converting into a proper date-time format and adding two more features year and month.**"
      ],
      "metadata": {
        "id": "v-6AN_0UWpcT"
      }
    },
    {
      "cell_type": "code",
      "source": [
        "nf[\"date_added\"] = pd.to_datetime(nf['date_added'])\n",
        "nf['day_added'] = nf['date_added'].dt.day\n",
        "nf['year_added'] = nf['date_added'].dt.year\n",
        "nf['month_added']=nf['date_added'].dt.month\n",
        "nf['year_added'].astype(int);\n",
        "nf['day_added'].astype(int);\n",
        "nf['date_added'].astype(int);\n"
      ],
      "metadata": {
        "id": "zy3Tv3B8LwLX"
      },
      "execution_count": 36,
      "outputs": []
    },
    {
      "cell_type": "code",
      "source": [
        "#Finding seasons from durations\n",
        "nf['season_count'] = nf.apply(lambda x : x['duration'].split(\" \")[0] if \"Season\" in x['duration'] else \"\", axis = 1)\n",
        "nf['duration'] = nf.apply(lambda x : x['duration'].split(\" \")[0] if \"Season\" not in x['duration'] else \"\", axis = 1)"
      ],
      "metadata": {
        "id": "IkfI9fRtW8r7"
      },
      "execution_count": 37,
      "outputs": []
    },
    {
      "cell_type": "code",
      "source": [
        "#Renaming the ‘listed_in’ feature to the genre for easy use.\n",
        "nf = nf.rename(columns={\"listed_in\":\"genere\"})\n",
        "nf['genere'] = nf['genere'].apply(lambda x: x.split(\",\")[0])\n",
        "\n"
      ],
      "metadata": {
        "id": "p7mKqrSmXWAn"
      },
      "execution_count": 38,
      "outputs": []
    },
    {
      "cell_type": "code",
      "source": [
        "# Cleaned dataset -\n",
        "nf.head()"
      ],
      "metadata": {
        "colab": {
          "base_uri": "https://localhost:8080/",
          "height": 687
        },
        "id": "qpo1oOwaXkcn",
        "outputId": "7e314b9c-5907-44e8-af71-9b10586c60f8"
      },
      "execution_count": 39,
      "outputs": [
        {
          "output_type": "execute_result",
          "data": {
            "text/plain": [
              "  show_id     type  title           director  \\\n",
              "1      s2    Movie   7:19  Jorge Michel Grau   \n",
              "2      s3    Movie  23:59       Gilbert Chan   \n",
              "3      s4    Movie      9        Shane Acker   \n",
              "4      s5    Movie     21     Robert Luketic   \n",
              "5      s6  TV Show     46        Serdar Akar   \n",
              "\n",
              "                                                cast        country  \\\n",
              "1  Demián Bichir, Héctor Bonilla, Oscar Serrano, ...         Mexico   \n",
              "2  Tedd Chan, Stella Chung, Henley Hii, Lawrence ...      Singapore   \n",
              "3  Elijah Wood, John C. Reilly, Jennifer Connelly...  United States   \n",
              "4  Jim Sturgess, Kevin Spacey, Kate Bosworth, Aar...  United States   \n",
              "5  Erdal Beşikçioğlu, Yasemin Allen, Melis Birkan...         Turkey   \n",
              "\n",
              "  date_added  release_year rating duration                  genere  \\\n",
              "1 2016-12-23          2016  TV-MA       93                  Dramas   \n",
              "2 2018-12-20          2011      R       78           Horror Movies   \n",
              "3 2017-11-16          2009  PG-13       80      Action & Adventure   \n",
              "4 2020-01-01          2008  PG-13      123                  Dramas   \n",
              "5 2017-07-01          2016  TV-MA           International TV Shows   \n",
              "\n",
              "                                         description  day_added  year_added  \\\n",
              "1  After a devastating earthquake hits Mexico Cit...         23        2016   \n",
              "2  When an army recruit is found dead, his fellow...         20        2018   \n",
              "3  In a postapocalyptic world, rag-doll robots hi...         16        2017   \n",
              "4  A brilliant group of students become card-coun...          1        2020   \n",
              "5  A genetics professor experiments with a treatm...          1        2017   \n",
              "\n",
              "   month_added season_count  \n",
              "1           12               \n",
              "2           12               \n",
              "3           11               \n",
              "4            1               \n",
              "5            7            1  "
            ],
            "text/html": [
              "\n",
              "  <div id=\"df-4de94f7f-de53-49c9-9505-5ac4cf3aa559\">\n",
              "    <div class=\"colab-df-container\">\n",
              "      <div>\n",
              "<style scoped>\n",
              "    .dataframe tbody tr th:only-of-type {\n",
              "        vertical-align: middle;\n",
              "    }\n",
              "\n",
              "    .dataframe tbody tr th {\n",
              "        vertical-align: top;\n",
              "    }\n",
              "\n",
              "    .dataframe thead th {\n",
              "        text-align: right;\n",
              "    }\n",
              "</style>\n",
              "<table border=\"1\" class=\"dataframe\">\n",
              "  <thead>\n",
              "    <tr style=\"text-align: right;\">\n",
              "      <th></th>\n",
              "      <th>show_id</th>\n",
              "      <th>type</th>\n",
              "      <th>title</th>\n",
              "      <th>director</th>\n",
              "      <th>cast</th>\n",
              "      <th>country</th>\n",
              "      <th>date_added</th>\n",
              "      <th>release_year</th>\n",
              "      <th>rating</th>\n",
              "      <th>duration</th>\n",
              "      <th>genere</th>\n",
              "      <th>description</th>\n",
              "      <th>day_added</th>\n",
              "      <th>year_added</th>\n",
              "      <th>month_added</th>\n",
              "      <th>season_count</th>\n",
              "    </tr>\n",
              "  </thead>\n",
              "  <tbody>\n",
              "    <tr>\n",
              "      <th>1</th>\n",
              "      <td>s2</td>\n",
              "      <td>Movie</td>\n",
              "      <td>7:19</td>\n",
              "      <td>Jorge Michel Grau</td>\n",
              "      <td>Demián Bichir, Héctor Bonilla, Oscar Serrano, ...</td>\n",
              "      <td>Mexico</td>\n",
              "      <td>2016-12-23</td>\n",
              "      <td>2016</td>\n",
              "      <td>TV-MA</td>\n",
              "      <td>93</td>\n",
              "      <td>Dramas</td>\n",
              "      <td>After a devastating earthquake hits Mexico Cit...</td>\n",
              "      <td>23</td>\n",
              "      <td>2016</td>\n",
              "      <td>12</td>\n",
              "      <td></td>\n",
              "    </tr>\n",
              "    <tr>\n",
              "      <th>2</th>\n",
              "      <td>s3</td>\n",
              "      <td>Movie</td>\n",
              "      <td>23:59</td>\n",
              "      <td>Gilbert Chan</td>\n",
              "      <td>Tedd Chan, Stella Chung, Henley Hii, Lawrence ...</td>\n",
              "      <td>Singapore</td>\n",
              "      <td>2018-12-20</td>\n",
              "      <td>2011</td>\n",
              "      <td>R</td>\n",
              "      <td>78</td>\n",
              "      <td>Horror Movies</td>\n",
              "      <td>When an army recruit is found dead, his fellow...</td>\n",
              "      <td>20</td>\n",
              "      <td>2018</td>\n",
              "      <td>12</td>\n",
              "      <td></td>\n",
              "    </tr>\n",
              "    <tr>\n",
              "      <th>3</th>\n",
              "      <td>s4</td>\n",
              "      <td>Movie</td>\n",
              "      <td>9</td>\n",
              "      <td>Shane Acker</td>\n",
              "      <td>Elijah Wood, John C. Reilly, Jennifer Connelly...</td>\n",
              "      <td>United States</td>\n",
              "      <td>2017-11-16</td>\n",
              "      <td>2009</td>\n",
              "      <td>PG-13</td>\n",
              "      <td>80</td>\n",
              "      <td>Action &amp; Adventure</td>\n",
              "      <td>In a postapocalyptic world, rag-doll robots hi...</td>\n",
              "      <td>16</td>\n",
              "      <td>2017</td>\n",
              "      <td>11</td>\n",
              "      <td></td>\n",
              "    </tr>\n",
              "    <tr>\n",
              "      <th>4</th>\n",
              "      <td>s5</td>\n",
              "      <td>Movie</td>\n",
              "      <td>21</td>\n",
              "      <td>Robert Luketic</td>\n",
              "      <td>Jim Sturgess, Kevin Spacey, Kate Bosworth, Aar...</td>\n",
              "      <td>United States</td>\n",
              "      <td>2020-01-01</td>\n",
              "      <td>2008</td>\n",
              "      <td>PG-13</td>\n",
              "      <td>123</td>\n",
              "      <td>Dramas</td>\n",
              "      <td>A brilliant group of students become card-coun...</td>\n",
              "      <td>1</td>\n",
              "      <td>2020</td>\n",
              "      <td>1</td>\n",
              "      <td></td>\n",
              "    </tr>\n",
              "    <tr>\n",
              "      <th>5</th>\n",
              "      <td>s6</td>\n",
              "      <td>TV Show</td>\n",
              "      <td>46</td>\n",
              "      <td>Serdar Akar</td>\n",
              "      <td>Erdal Beşikçioğlu, Yasemin Allen, Melis Birkan...</td>\n",
              "      <td>Turkey</td>\n",
              "      <td>2017-07-01</td>\n",
              "      <td>2016</td>\n",
              "      <td>TV-MA</td>\n",
              "      <td></td>\n",
              "      <td>International TV Shows</td>\n",
              "      <td>A genetics professor experiments with a treatm...</td>\n",
              "      <td>1</td>\n",
              "      <td>2017</td>\n",
              "      <td>7</td>\n",
              "      <td>1</td>\n",
              "    </tr>\n",
              "  </tbody>\n",
              "</table>\n",
              "</div>\n",
              "      <button class=\"colab-df-convert\" onclick=\"convertToInteractive('df-4de94f7f-de53-49c9-9505-5ac4cf3aa559')\"\n",
              "              title=\"Convert this dataframe to an interactive table.\"\n",
              "              style=\"display:none;\">\n",
              "        \n",
              "  <svg xmlns=\"http://www.w3.org/2000/svg\" height=\"24px\"viewBox=\"0 0 24 24\"\n",
              "       width=\"24px\">\n",
              "    <path d=\"M0 0h24v24H0V0z\" fill=\"none\"/>\n",
              "    <path d=\"M18.56 5.44l.94 2.06.94-2.06 2.06-.94-2.06-.94-.94-2.06-.94 2.06-2.06.94zm-11 1L8.5 8.5l.94-2.06 2.06-.94-2.06-.94L8.5 2.5l-.94 2.06-2.06.94zm10 10l.94 2.06.94-2.06 2.06-.94-2.06-.94-.94-2.06-.94 2.06-2.06.94z\"/><path d=\"M17.41 7.96l-1.37-1.37c-.4-.4-.92-.59-1.43-.59-.52 0-1.04.2-1.43.59L10.3 9.45l-7.72 7.72c-.78.78-.78 2.05 0 2.83L4 21.41c.39.39.9.59 1.41.59.51 0 1.02-.2 1.41-.59l7.78-7.78 2.81-2.81c.8-.78.8-2.07 0-2.86zM5.41 20L4 18.59l7.72-7.72 1.47 1.35L5.41 20z\"/>\n",
              "  </svg>\n",
              "      </button>\n",
              "      \n",
              "  <style>\n",
              "    .colab-df-container {\n",
              "      display:flex;\n",
              "      flex-wrap:wrap;\n",
              "      gap: 12px;\n",
              "    }\n",
              "\n",
              "    .colab-df-convert {\n",
              "      background-color: #E8F0FE;\n",
              "      border: none;\n",
              "      border-radius: 50%;\n",
              "      cursor: pointer;\n",
              "      display: none;\n",
              "      fill: #1967D2;\n",
              "      height: 32px;\n",
              "      padding: 0 0 0 0;\n",
              "      width: 32px;\n",
              "    }\n",
              "\n",
              "    .colab-df-convert:hover {\n",
              "      background-color: #E2EBFA;\n",
              "      box-shadow: 0px 1px 2px rgba(60, 64, 67, 0.3), 0px 1px 3px 1px rgba(60, 64, 67, 0.15);\n",
              "      fill: #174EA6;\n",
              "    }\n",
              "\n",
              "    [theme=dark] .colab-df-convert {\n",
              "      background-color: #3B4455;\n",
              "      fill: #D2E3FC;\n",
              "    }\n",
              "\n",
              "    [theme=dark] .colab-df-convert:hover {\n",
              "      background-color: #434B5C;\n",
              "      box-shadow: 0px 1px 3px 1px rgba(0, 0, 0, 0.15);\n",
              "      filter: drop-shadow(0px 1px 2px rgba(0, 0, 0, 0.3));\n",
              "      fill: #FFFFFF;\n",
              "    }\n",
              "  </style>\n",
              "\n",
              "      <script>\n",
              "        const buttonEl =\n",
              "          document.querySelector('#df-4de94f7f-de53-49c9-9505-5ac4cf3aa559 button.colab-df-convert');\n",
              "        buttonEl.style.display =\n",
              "          google.colab.kernel.accessAllowed ? 'block' : 'none';\n",
              "\n",
              "        async function convertToInteractive(key) {\n",
              "          const element = document.querySelector('#df-4de94f7f-de53-49c9-9505-5ac4cf3aa559');\n",
              "          const dataTable =\n",
              "            await google.colab.kernel.invokeFunction('convertToInteractive',\n",
              "                                                     [key], {});\n",
              "          if (!dataTable) return;\n",
              "\n",
              "          const docLinkHtml = 'Like what you see? Visit the ' +\n",
              "            '<a target=\"_blank\" href=https://colab.research.google.com/notebooks/data_table.ipynb>data table notebook</a>'\n",
              "            + ' to learn more about interactive tables.';\n",
              "          element.innerHTML = '';\n",
              "          dataTable['output_type'] = 'display_data';\n",
              "          await google.colab.output.renderOutput(dataTable, element);\n",
              "          const docLink = document.createElement('div');\n",
              "          docLink.innerHTML = docLinkHtml;\n",
              "          element.appendChild(docLink);\n",
              "        }\n",
              "      </script>\n",
              "    </div>\n",
              "  </div>\n",
              "  "
            ]
          },
          "metadata": {},
          "execution_count": 39
        }
      ]
    },
    {
      "cell_type": "code",
      "source": [
        "nf.info()"
      ],
      "metadata": {
        "colab": {
          "base_uri": "https://localhost:8080/"
        },
        "id": "TxlYCPW32TM9",
        "outputId": "af3d43d3-497b-4463-8472-ad4b37b0f5a8"
      },
      "execution_count": 40,
      "outputs": [
        {
          "output_type": "stream",
          "name": "stdout",
          "text": [
            "<class 'pandas.core.frame.DataFrame'>\n",
            "Int64Index: 4808 entries, 1 to 7783\n",
            "Data columns (total 16 columns):\n",
            " #   Column        Non-Null Count  Dtype         \n",
            "---  ------        --------------  -----         \n",
            " 0   show_id       4808 non-null   object        \n",
            " 1   type          4808 non-null   object        \n",
            " 2   title         4808 non-null   object        \n",
            " 3   director      4808 non-null   object        \n",
            " 4   cast          4808 non-null   object        \n",
            " 5   country       4808 non-null   object        \n",
            " 6   date_added    4808 non-null   datetime64[ns]\n",
            " 7   release_year  4808 non-null   int64         \n",
            " 8   rating        4808 non-null   object        \n",
            " 9   duration      4808 non-null   object        \n",
            " 10  genere        4808 non-null   object        \n",
            " 11  description   4808 non-null   object        \n",
            " 12  day_added     4808 non-null   int64         \n",
            " 13  year_added    4808 non-null   int64         \n",
            " 14  month_added   4808 non-null   int64         \n",
            " 15  season_count  4808 non-null   object        \n",
            "dtypes: datetime64[ns](1), int64(4), object(11)\n",
            "memory usage: 638.6+ KB\n"
          ]
        }
      ]
    },
    {
      "cell_type": "code",
      "source": [
        "#After data cleaning the dataset look like this\n",
        "\n",
        "#Let’s see the disribution of data\n",
        "\n",
        "nf.describe(include='O')"
      ],
      "metadata": {
        "colab": {
          "base_uri": "https://localhost:8080/",
          "height": 254
        },
        "id": "1rY-maKEYI5M",
        "outputId": "5db8382a-626b-4c33-fcda-b1e47953b6b0"
      },
      "execution_count": 41,
      "outputs": [
        {
          "output_type": "execute_result",
          "data": {
            "text/plain": [
              "       show_id   type title                director         cast  \\\n",
              "count     4808   4808  4808                    4808         4808   \n",
              "unique    4808      2  4808                    3613         4688   \n",
              "top         s2  Movie  7:19  Raúl Campos, Jan Suter  Samuel West   \n",
              "freq         1   4673     1                      18           10   \n",
              "\n",
              "              country rating duration  genere  \\\n",
              "count            4808   4808     4808    4808   \n",
              "unique            544     14      187      32   \n",
              "top     United States  TV-MA           Dramas   \n",
              "freq             1653   1665      135    1342   \n",
              "\n",
              "                                              description season_count  \n",
              "count                                                4808         4808  \n",
              "unique                                               4803           10  \n",
              "top     A scheming matriarch plots to cut off her disa...               \n",
              "freq                                                    2         4673  "
            ],
            "text/html": [
              "\n",
              "  <div id=\"df-01441032-1d07-49ec-ab07-81e5100522f2\">\n",
              "    <div class=\"colab-df-container\">\n",
              "      <div>\n",
              "<style scoped>\n",
              "    .dataframe tbody tr th:only-of-type {\n",
              "        vertical-align: middle;\n",
              "    }\n",
              "\n",
              "    .dataframe tbody tr th {\n",
              "        vertical-align: top;\n",
              "    }\n",
              "\n",
              "    .dataframe thead th {\n",
              "        text-align: right;\n",
              "    }\n",
              "</style>\n",
              "<table border=\"1\" class=\"dataframe\">\n",
              "  <thead>\n",
              "    <tr style=\"text-align: right;\">\n",
              "      <th></th>\n",
              "      <th>show_id</th>\n",
              "      <th>type</th>\n",
              "      <th>title</th>\n",
              "      <th>director</th>\n",
              "      <th>cast</th>\n",
              "      <th>country</th>\n",
              "      <th>rating</th>\n",
              "      <th>duration</th>\n",
              "      <th>genere</th>\n",
              "      <th>description</th>\n",
              "      <th>season_count</th>\n",
              "    </tr>\n",
              "  </thead>\n",
              "  <tbody>\n",
              "    <tr>\n",
              "      <th>count</th>\n",
              "      <td>4808</td>\n",
              "      <td>4808</td>\n",
              "      <td>4808</td>\n",
              "      <td>4808</td>\n",
              "      <td>4808</td>\n",
              "      <td>4808</td>\n",
              "      <td>4808</td>\n",
              "      <td>4808</td>\n",
              "      <td>4808</td>\n",
              "      <td>4808</td>\n",
              "      <td>4808</td>\n",
              "    </tr>\n",
              "    <tr>\n",
              "      <th>unique</th>\n",
              "      <td>4808</td>\n",
              "      <td>2</td>\n",
              "      <td>4808</td>\n",
              "      <td>3613</td>\n",
              "      <td>4688</td>\n",
              "      <td>544</td>\n",
              "      <td>14</td>\n",
              "      <td>187</td>\n",
              "      <td>32</td>\n",
              "      <td>4803</td>\n",
              "      <td>10</td>\n",
              "    </tr>\n",
              "    <tr>\n",
              "      <th>top</th>\n",
              "      <td>s2</td>\n",
              "      <td>Movie</td>\n",
              "      <td>7:19</td>\n",
              "      <td>Raúl Campos, Jan Suter</td>\n",
              "      <td>Samuel West</td>\n",
              "      <td>United States</td>\n",
              "      <td>TV-MA</td>\n",
              "      <td></td>\n",
              "      <td>Dramas</td>\n",
              "      <td>A scheming matriarch plots to cut off her disa...</td>\n",
              "      <td></td>\n",
              "    </tr>\n",
              "    <tr>\n",
              "      <th>freq</th>\n",
              "      <td>1</td>\n",
              "      <td>4673</td>\n",
              "      <td>1</td>\n",
              "      <td>18</td>\n",
              "      <td>10</td>\n",
              "      <td>1653</td>\n",
              "      <td>1665</td>\n",
              "      <td>135</td>\n",
              "      <td>1342</td>\n",
              "      <td>2</td>\n",
              "      <td>4673</td>\n",
              "    </tr>\n",
              "  </tbody>\n",
              "</table>\n",
              "</div>\n",
              "      <button class=\"colab-df-convert\" onclick=\"convertToInteractive('df-01441032-1d07-49ec-ab07-81e5100522f2')\"\n",
              "              title=\"Convert this dataframe to an interactive table.\"\n",
              "              style=\"display:none;\">\n",
              "        \n",
              "  <svg xmlns=\"http://www.w3.org/2000/svg\" height=\"24px\"viewBox=\"0 0 24 24\"\n",
              "       width=\"24px\">\n",
              "    <path d=\"M0 0h24v24H0V0z\" fill=\"none\"/>\n",
              "    <path d=\"M18.56 5.44l.94 2.06.94-2.06 2.06-.94-2.06-.94-.94-2.06-.94 2.06-2.06.94zm-11 1L8.5 8.5l.94-2.06 2.06-.94-2.06-.94L8.5 2.5l-.94 2.06-2.06.94zm10 10l.94 2.06.94-2.06 2.06-.94-2.06-.94-.94-2.06-.94 2.06-2.06.94z\"/><path d=\"M17.41 7.96l-1.37-1.37c-.4-.4-.92-.59-1.43-.59-.52 0-1.04.2-1.43.59L10.3 9.45l-7.72 7.72c-.78.78-.78 2.05 0 2.83L4 21.41c.39.39.9.59 1.41.59.51 0 1.02-.2 1.41-.59l7.78-7.78 2.81-2.81c.8-.78.8-2.07 0-2.86zM5.41 20L4 18.59l7.72-7.72 1.47 1.35L5.41 20z\"/>\n",
              "  </svg>\n",
              "      </button>\n",
              "      \n",
              "  <style>\n",
              "    .colab-df-container {\n",
              "      display:flex;\n",
              "      flex-wrap:wrap;\n",
              "      gap: 12px;\n",
              "    }\n",
              "\n",
              "    .colab-df-convert {\n",
              "      background-color: #E8F0FE;\n",
              "      border: none;\n",
              "      border-radius: 50%;\n",
              "      cursor: pointer;\n",
              "      display: none;\n",
              "      fill: #1967D2;\n",
              "      height: 32px;\n",
              "      padding: 0 0 0 0;\n",
              "      width: 32px;\n",
              "    }\n",
              "\n",
              "    .colab-df-convert:hover {\n",
              "      background-color: #E2EBFA;\n",
              "      box-shadow: 0px 1px 2px rgba(60, 64, 67, 0.3), 0px 1px 3px 1px rgba(60, 64, 67, 0.15);\n",
              "      fill: #174EA6;\n",
              "    }\n",
              "\n",
              "    [theme=dark] .colab-df-convert {\n",
              "      background-color: #3B4455;\n",
              "      fill: #D2E3FC;\n",
              "    }\n",
              "\n",
              "    [theme=dark] .colab-df-convert:hover {\n",
              "      background-color: #434B5C;\n",
              "      box-shadow: 0px 1px 3px 1px rgba(0, 0, 0, 0.15);\n",
              "      filter: drop-shadow(0px 1px 2px rgba(0, 0, 0, 0.3));\n",
              "      fill: #FFFFFF;\n",
              "    }\n",
              "  </style>\n",
              "\n",
              "      <script>\n",
              "        const buttonEl =\n",
              "          document.querySelector('#df-01441032-1d07-49ec-ab07-81e5100522f2 button.colab-df-convert');\n",
              "        buttonEl.style.display =\n",
              "          google.colab.kernel.accessAllowed ? 'block' : 'none';\n",
              "\n",
              "        async function convertToInteractive(key) {\n",
              "          const element = document.querySelector('#df-01441032-1d07-49ec-ab07-81e5100522f2');\n",
              "          const dataTable =\n",
              "            await google.colab.kernel.invokeFunction('convertToInteractive',\n",
              "                                                     [key], {});\n",
              "          if (!dataTable) return;\n",
              "\n",
              "          const docLinkHtml = 'Like what you see? Visit the ' +\n",
              "            '<a target=\"_blank\" href=https://colab.research.google.com/notebooks/data_table.ipynb>data table notebook</a>'\n",
              "            + ' to learn more about interactive tables.';\n",
              "          element.innerHTML = '';\n",
              "          dataTable['output_type'] = 'display_data';\n",
              "          await google.colab.output.renderOutput(dataTable, element);\n",
              "          const docLink = document.createElement('div');\n",
              "          docLink.innerHTML = docLinkHtml;\n",
              "          element.appendChild(docLink);\n",
              "        }\n",
              "      </script>\n",
              "    </div>\n",
              "  </div>\n",
              "  "
            ]
          },
          "metadata": {},
          "execution_count": 41
        }
      ]
    },
    {
      "cell_type": "markdown",
      "source": [
        "# ***Data Visualization***"
      ],
      "metadata": {
        "id": "7_zFXTKt_NDO"
      }
    },
    {
      "cell_type": "markdown",
      "source": [
        "## **Distribution of Rating and finding what audience prefer to watch.**"
      ],
      "metadata": {
        "id": "wJ8KbvAPmHZD"
      }
    },
    {
      "cell_type": "markdown",
      "source": [
        "To know which type of content is most watched by the audience so that Netflix can decide what type of content to be released next. It helps Netflix to understand the most and least favourite content watched by an audience."
      ],
      "metadata": {
        "id": "xHIsPITTmLAV"
      }
    },
    {
      "cell_type": "code",
      "source": [
        "df_rating = pd.DataFrame(nf['rating'].value_counts()).reset_index().rename(columns={'index':'rating','rating':'count'})\n",
        "fig_bar = px.bar(df_rating, y='rating', x='count', title='Distribution of Rating',\n",
        "color_discrete_sequence=['#b20710'], text='count')\n",
        "fig_bar.update_xaxes(showgrid=False)\n",
        "fig_bar.update_yaxes(showgrid=False, categoryorder='total ascending', ticksuffix=' ', showline=False)\n",
        "fig_bar.update_traces(hovertemplate=None, marker=dict(line=dict(width=0)))\n",
        "fig_bar.update_layout(margin=dict(t=80, b=0, l=70, r=40),\n",
        "hovermode=\"y unified\",\n",
        "xaxis_title=' ', yaxis_title=\" \", height=400,\n",
        "plot_bgcolor='#333', paper_bgcolor='#333',\n",
        "title_font=dict(size=25, color='#8a8d93', family=\"Lato, sans-serif\"),\n",
        "font=dict(color='#8a8d93'),\n",
        "legend=dict(orientation=\"h\", yanchor=\"bottom\", y=1, xanchor=\"center\", x=0.5),\n",
        "hoverlabel=dict(bgcolor=\"black\", font_size=13, font_family=\"Lato, sans-serif\")) "
      ],
      "metadata": {
        "colab": {
          "base_uri": "https://localhost:8080/",
          "height": 417
        },
        "id": "Qnt-scN9mG3V",
        "outputId": "8ab09be5-07a3-4952-9e5c-4ab6db23daa4"
      },
      "execution_count": 42,
      "outputs": [
        {
          "output_type": "display_data",
          "data": {
            "text/html": [
              "<html>\n",
              "<head><meta charset=\"utf-8\" /></head>\n",
              "<body>\n",
              "    <div>            <script src=\"https://cdnjs.cloudflare.com/ajax/libs/mathjax/2.7.5/MathJax.js?config=TeX-AMS-MML_SVG\"></script><script type=\"text/javascript\">if (window.MathJax) {MathJax.Hub.Config({SVG: {font: \"STIX-Web\"}});}</script>                <script type=\"text/javascript\">window.PlotlyConfig = {MathJaxConfig: 'local'};</script>\n",
              "        <script src=\"https://cdn.plot.ly/plotly-2.8.3.min.js\"></script>                <div id=\"585c9023-b247-4f4b-9acb-2eb47e6b283a\" class=\"plotly-graph-div\" style=\"height:400px; width:100%;\"></div>            <script type=\"text/javascript\">                                    window.PLOTLYENV=window.PLOTLYENV || {};                                    if (document.getElementById(\"585c9023-b247-4f4b-9acb-2eb47e6b283a\")) {                    Plotly.newPlot(                        \"585c9023-b247-4f4b-9acb-2eb47e6b283a\",                        [{\"alignmentgroup\":\"True\",\"legendgroup\":\"\",\"marker\":{\"color\":\"#b20710\",\"pattern\":{\"shape\":\"\"},\"line\":{\"width\":0}},\"name\":\"\",\"offsetgroup\":\"\",\"orientation\":\"h\",\"showlegend\":false,\"text\":[1665.0,1133.0,654.0,413.0,375.0,238.0,80.0,71.0,69.0,62.0,38.0,5.0,3.0,2.0],\"textposition\":\"auto\",\"x\":[1665,1133,654,413,375,238,80,71,69,62,38,5,3,2],\"xaxis\":\"x\",\"y\":[\"TV-MA\",\"TV-14\",\"R\",\"TV-PG\",\"PG-13\",\"PG\",\"TV-G\",\"TV-Y\",\"TV-Y7\",\"NR\",\"G\",\"UR\",\"TV-Y7-FV\",\"NC-17\"],\"yaxis\":\"y\",\"type\":\"bar\"}],                        {\"template\":{\"data\":{\"bar\":[{\"error_x\":{\"color\":\"#2a3f5f\"},\"error_y\":{\"color\":\"#2a3f5f\"},\"marker\":{\"line\":{\"color\":\"#E5ECF6\",\"width\":0.5},\"pattern\":{\"fillmode\":\"overlay\",\"size\":10,\"solidity\":0.2}},\"type\":\"bar\"}],\"barpolar\":[{\"marker\":{\"line\":{\"color\":\"#E5ECF6\",\"width\":0.5},\"pattern\":{\"fillmode\":\"overlay\",\"size\":10,\"solidity\":0.2}},\"type\":\"barpolar\"}],\"carpet\":[{\"aaxis\":{\"endlinecolor\":\"#2a3f5f\",\"gridcolor\":\"white\",\"linecolor\":\"white\",\"minorgridcolor\":\"white\",\"startlinecolor\":\"#2a3f5f\"},\"baxis\":{\"endlinecolor\":\"#2a3f5f\",\"gridcolor\":\"white\",\"linecolor\":\"white\",\"minorgridcolor\":\"white\",\"startlinecolor\":\"#2a3f5f\"},\"type\":\"carpet\"}],\"choropleth\":[{\"colorbar\":{\"outlinewidth\":0,\"ticks\":\"\"},\"type\":\"choropleth\"}],\"contour\":[{\"colorbar\":{\"outlinewidth\":0,\"ticks\":\"\"},\"colorscale\":[[0.0,\"#0d0887\"],[0.1111111111111111,\"#46039f\"],[0.2222222222222222,\"#7201a8\"],[0.3333333333333333,\"#9c179e\"],[0.4444444444444444,\"#bd3786\"],[0.5555555555555556,\"#d8576b\"],[0.6666666666666666,\"#ed7953\"],[0.7777777777777778,\"#fb9f3a\"],[0.8888888888888888,\"#fdca26\"],[1.0,\"#f0f921\"]],\"type\":\"contour\"}],\"contourcarpet\":[{\"colorbar\":{\"outlinewidth\":0,\"ticks\":\"\"},\"type\":\"contourcarpet\"}],\"heatmap\":[{\"colorbar\":{\"outlinewidth\":0,\"ticks\":\"\"},\"colorscale\":[[0.0,\"#0d0887\"],[0.1111111111111111,\"#46039f\"],[0.2222222222222222,\"#7201a8\"],[0.3333333333333333,\"#9c179e\"],[0.4444444444444444,\"#bd3786\"],[0.5555555555555556,\"#d8576b\"],[0.6666666666666666,\"#ed7953\"],[0.7777777777777778,\"#fb9f3a\"],[0.8888888888888888,\"#fdca26\"],[1.0,\"#f0f921\"]],\"type\":\"heatmap\"}],\"heatmapgl\":[{\"colorbar\":{\"outlinewidth\":0,\"ticks\":\"\"},\"colorscale\":[[0.0,\"#0d0887\"],[0.1111111111111111,\"#46039f\"],[0.2222222222222222,\"#7201a8\"],[0.3333333333333333,\"#9c179e\"],[0.4444444444444444,\"#bd3786\"],[0.5555555555555556,\"#d8576b\"],[0.6666666666666666,\"#ed7953\"],[0.7777777777777778,\"#fb9f3a\"],[0.8888888888888888,\"#fdca26\"],[1.0,\"#f0f921\"]],\"type\":\"heatmapgl\"}],\"histogram\":[{\"marker\":{\"pattern\":{\"fillmode\":\"overlay\",\"size\":10,\"solidity\":0.2}},\"type\":\"histogram\"}],\"histogram2d\":[{\"colorbar\":{\"outlinewidth\":0,\"ticks\":\"\"},\"colorscale\":[[0.0,\"#0d0887\"],[0.1111111111111111,\"#46039f\"],[0.2222222222222222,\"#7201a8\"],[0.3333333333333333,\"#9c179e\"],[0.4444444444444444,\"#bd3786\"],[0.5555555555555556,\"#d8576b\"],[0.6666666666666666,\"#ed7953\"],[0.7777777777777778,\"#fb9f3a\"],[0.8888888888888888,\"#fdca26\"],[1.0,\"#f0f921\"]],\"type\":\"histogram2d\"}],\"histogram2dcontour\":[{\"colorbar\":{\"outlinewidth\":0,\"ticks\":\"\"},\"colorscale\":[[0.0,\"#0d0887\"],[0.1111111111111111,\"#46039f\"],[0.2222222222222222,\"#7201a8\"],[0.3333333333333333,\"#9c179e\"],[0.4444444444444444,\"#bd3786\"],[0.5555555555555556,\"#d8576b\"],[0.6666666666666666,\"#ed7953\"],[0.7777777777777778,\"#fb9f3a\"],[0.8888888888888888,\"#fdca26\"],[1.0,\"#f0f921\"]],\"type\":\"histogram2dcontour\"}],\"mesh3d\":[{\"colorbar\":{\"outlinewidth\":0,\"ticks\":\"\"},\"type\":\"mesh3d\"}],\"parcoords\":[{\"line\":{\"colorbar\":{\"outlinewidth\":0,\"ticks\":\"\"}},\"type\":\"parcoords\"}],\"pie\":[{\"automargin\":true,\"type\":\"pie\"}],\"scatter\":[{\"marker\":{\"colorbar\":{\"outlinewidth\":0,\"ticks\":\"\"}},\"type\":\"scatter\"}],\"scatter3d\":[{\"line\":{\"colorbar\":{\"outlinewidth\":0,\"ticks\":\"\"}},\"marker\":{\"colorbar\":{\"outlinewidth\":0,\"ticks\":\"\"}},\"type\":\"scatter3d\"}],\"scattercarpet\":[{\"marker\":{\"colorbar\":{\"outlinewidth\":0,\"ticks\":\"\"}},\"type\":\"scattercarpet\"}],\"scattergeo\":[{\"marker\":{\"colorbar\":{\"outlinewidth\":0,\"ticks\":\"\"}},\"type\":\"scattergeo\"}],\"scattergl\":[{\"marker\":{\"colorbar\":{\"outlinewidth\":0,\"ticks\":\"\"}},\"type\":\"scattergl\"}],\"scattermapbox\":[{\"marker\":{\"colorbar\":{\"outlinewidth\":0,\"ticks\":\"\"}},\"type\":\"scattermapbox\"}],\"scatterpolar\":[{\"marker\":{\"colorbar\":{\"outlinewidth\":0,\"ticks\":\"\"}},\"type\":\"scatterpolar\"}],\"scatterpolargl\":[{\"marker\":{\"colorbar\":{\"outlinewidth\":0,\"ticks\":\"\"}},\"type\":\"scatterpolargl\"}],\"scatterternary\":[{\"marker\":{\"colorbar\":{\"outlinewidth\":0,\"ticks\":\"\"}},\"type\":\"scatterternary\"}],\"surface\":[{\"colorbar\":{\"outlinewidth\":0,\"ticks\":\"\"},\"colorscale\":[[0.0,\"#0d0887\"],[0.1111111111111111,\"#46039f\"],[0.2222222222222222,\"#7201a8\"],[0.3333333333333333,\"#9c179e\"],[0.4444444444444444,\"#bd3786\"],[0.5555555555555556,\"#d8576b\"],[0.6666666666666666,\"#ed7953\"],[0.7777777777777778,\"#fb9f3a\"],[0.8888888888888888,\"#fdca26\"],[1.0,\"#f0f921\"]],\"type\":\"surface\"}],\"table\":[{\"cells\":{\"fill\":{\"color\":\"#EBF0F8\"},\"line\":{\"color\":\"white\"}},\"header\":{\"fill\":{\"color\":\"#C8D4E3\"},\"line\":{\"color\":\"white\"}},\"type\":\"table\"}]},\"layout\":{\"annotationdefaults\":{\"arrowcolor\":\"#2a3f5f\",\"arrowhead\":0,\"arrowwidth\":1},\"autotypenumbers\":\"strict\",\"coloraxis\":{\"colorbar\":{\"outlinewidth\":0,\"ticks\":\"\"}},\"colorscale\":{\"diverging\":[[0,\"#8e0152\"],[0.1,\"#c51b7d\"],[0.2,\"#de77ae\"],[0.3,\"#f1b6da\"],[0.4,\"#fde0ef\"],[0.5,\"#f7f7f7\"],[0.6,\"#e6f5d0\"],[0.7,\"#b8e186\"],[0.8,\"#7fbc41\"],[0.9,\"#4d9221\"],[1,\"#276419\"]],\"sequential\":[[0.0,\"#0d0887\"],[0.1111111111111111,\"#46039f\"],[0.2222222222222222,\"#7201a8\"],[0.3333333333333333,\"#9c179e\"],[0.4444444444444444,\"#bd3786\"],[0.5555555555555556,\"#d8576b\"],[0.6666666666666666,\"#ed7953\"],[0.7777777777777778,\"#fb9f3a\"],[0.8888888888888888,\"#fdca26\"],[1.0,\"#f0f921\"]],\"sequentialminus\":[[0.0,\"#0d0887\"],[0.1111111111111111,\"#46039f\"],[0.2222222222222222,\"#7201a8\"],[0.3333333333333333,\"#9c179e\"],[0.4444444444444444,\"#bd3786\"],[0.5555555555555556,\"#d8576b\"],[0.6666666666666666,\"#ed7953\"],[0.7777777777777778,\"#fb9f3a\"],[0.8888888888888888,\"#fdca26\"],[1.0,\"#f0f921\"]]},\"colorway\":[\"#636efa\",\"#EF553B\",\"#00cc96\",\"#ab63fa\",\"#FFA15A\",\"#19d3f3\",\"#FF6692\",\"#B6E880\",\"#FF97FF\",\"#FECB52\"],\"font\":{\"color\":\"#2a3f5f\"},\"geo\":{\"bgcolor\":\"white\",\"lakecolor\":\"white\",\"landcolor\":\"#E5ECF6\",\"showlakes\":true,\"showland\":true,\"subunitcolor\":\"white\"},\"hoverlabel\":{\"align\":\"left\"},\"hovermode\":\"closest\",\"mapbox\":{\"style\":\"light\"},\"paper_bgcolor\":\"white\",\"plot_bgcolor\":\"#E5ECF6\",\"polar\":{\"angularaxis\":{\"gridcolor\":\"white\",\"linecolor\":\"white\",\"ticks\":\"\"},\"bgcolor\":\"#E5ECF6\",\"radialaxis\":{\"gridcolor\":\"white\",\"linecolor\":\"white\",\"ticks\":\"\"}},\"scene\":{\"xaxis\":{\"backgroundcolor\":\"#E5ECF6\",\"gridcolor\":\"white\",\"gridwidth\":2,\"linecolor\":\"white\",\"showbackground\":true,\"ticks\":\"\",\"zerolinecolor\":\"white\"},\"yaxis\":{\"backgroundcolor\":\"#E5ECF6\",\"gridcolor\":\"white\",\"gridwidth\":2,\"linecolor\":\"white\",\"showbackground\":true,\"ticks\":\"\",\"zerolinecolor\":\"white\"},\"zaxis\":{\"backgroundcolor\":\"#E5ECF6\",\"gridcolor\":\"white\",\"gridwidth\":2,\"linecolor\":\"white\",\"showbackground\":true,\"ticks\":\"\",\"zerolinecolor\":\"white\"}},\"shapedefaults\":{\"line\":{\"color\":\"#2a3f5f\"}},\"ternary\":{\"aaxis\":{\"gridcolor\":\"white\",\"linecolor\":\"white\",\"ticks\":\"\"},\"baxis\":{\"gridcolor\":\"white\",\"linecolor\":\"white\",\"ticks\":\"\"},\"bgcolor\":\"#E5ECF6\",\"caxis\":{\"gridcolor\":\"white\",\"linecolor\":\"white\",\"ticks\":\"\"}},\"title\":{\"x\":0.05},\"xaxis\":{\"automargin\":true,\"gridcolor\":\"white\",\"linecolor\":\"white\",\"ticks\":\"\",\"title\":{\"standoff\":15},\"zerolinecolor\":\"white\",\"zerolinewidth\":2},\"yaxis\":{\"automargin\":true,\"gridcolor\":\"white\",\"linecolor\":\"white\",\"ticks\":\"\",\"title\":{\"standoff\":15},\"zerolinecolor\":\"white\",\"zerolinewidth\":2}}},\"xaxis\":{\"anchor\":\"y\",\"domain\":[0.0,1.0],\"title\":{\"text\":\" \"},\"showgrid\":false},\"yaxis\":{\"anchor\":\"x\",\"domain\":[0.0,1.0],\"title\":{\"text\":\" \"},\"showgrid\":false,\"categoryorder\":\"total ascending\",\"ticksuffix\":\" \",\"showline\":false},\"legend\":{\"tracegroupgap\":0,\"orientation\":\"h\",\"yanchor\":\"bottom\",\"y\":1,\"xanchor\":\"center\",\"x\":0.5},\"title\":{\"text\":\"Distribution of Rating\",\"font\":{\"size\":25,\"color\":\"#8a8d93\",\"family\":\"Lato, sans-serif\"}},\"barmode\":\"relative\",\"margin\":{\"t\":80,\"b\":0,\"l\":70,\"r\":40},\"font\":{\"color\":\"#8a8d93\"},\"hoverlabel\":{\"font\":{\"size\":13,\"family\":\"Lato, sans-serif\"},\"bgcolor\":\"black\"},\"hovermode\":\"y unified\",\"height\":400,\"plot_bgcolor\":\"#333\",\"paper_bgcolor\":\"#333\"},                        {\"responsive\": true}                    ).then(function(){\n",
              "                            \n",
              "var gd = document.getElementById('585c9023-b247-4f4b-9acb-2eb47e6b283a');\n",
              "var x = new MutationObserver(function (mutations, observer) {{\n",
              "        var display = window.getComputedStyle(gd).display;\n",
              "        if (!display || display === 'none') {{\n",
              "            console.log([gd, 'removed!']);\n",
              "            Plotly.purge(gd);\n",
              "            observer.disconnect();\n",
              "        }}\n",
              "}});\n",
              "\n",
              "// Listen for the removal of the full notebook cells\n",
              "var notebookContainer = gd.closest('#notebook-container');\n",
              "if (notebookContainer) {{\n",
              "    x.observe(notebookContainer, {childList: true});\n",
              "}}\n",
              "\n",
              "// Listen for the clearing of the current output cell\n",
              "var outputEl = gd.closest('.output');\n",
              "if (outputEl) {{\n",
              "    x.observe(outputEl, {childList: true});\n",
              "}}\n",
              "\n",
              "                        })                };                            </script>        </div>\n",
              "</body>\n",
              "</html>"
            ]
          },
          "metadata": {}
        }
      ]
    },
    {
      "cell_type": "markdown",
      "source": [
        "### The audience prefers TV-MA and TV-14 shows more and the least preferred rating shows are Nc-17.  Most of the content watched by the audience is for a mature audience. The TV-MA rating is a type of rating given by the TV parental guidelines to a television program.\n",
        "### The second largest type of rating watched by the audience is TV-14 which is inappropriate for children younger than age 14. The conclusion is drawn here is most of the audience is of mature age."
      ],
      "metadata": {
        "id": "wcOBV3cpmmMA"
      }
    },
    {
      "cell_type": "markdown",
      "source": [
        "**Top 5 Producer Countries**"
      ],
      "metadata": {
        "id": "97Ls_acl4KCO"
      }
    },
    {
      "cell_type": "code",
      "source": [
        "country= nf['country'].value_counts().reset_index()\n",
        "country.rename(columns={'index' : 'Production_countries'}, inplace= True)\n",
        "country.rename(columns={'country' : 'count'}, inplace= True)\n",
        "country.head()"
      ],
      "metadata": {
        "colab": {
          "base_uri": "https://localhost:8080/",
          "height": 206
        },
        "id": "sjkMuQOq3lhZ",
        "outputId": "7fcdd145-3beb-47a8-d895-edcbffb82ae9"
      },
      "execution_count": 43,
      "outputs": [
        {
          "output_type": "execute_result",
          "data": {
            "text/plain": [
              "  Production_countries  count\n",
              "0        United States   1653\n",
              "1                India    832\n",
              "2       United Kingdom    174\n",
              "3               Canada    104\n",
              "4                Egypt     87"
            ],
            "text/html": [
              "\n",
              "  <div id=\"df-10a04a29-c2f4-4f08-9591-fb1f6cc2d07d\">\n",
              "    <div class=\"colab-df-container\">\n",
              "      <div>\n",
              "<style scoped>\n",
              "    .dataframe tbody tr th:only-of-type {\n",
              "        vertical-align: middle;\n",
              "    }\n",
              "\n",
              "    .dataframe tbody tr th {\n",
              "        vertical-align: top;\n",
              "    }\n",
              "\n",
              "    .dataframe thead th {\n",
              "        text-align: right;\n",
              "    }\n",
              "</style>\n",
              "<table border=\"1\" class=\"dataframe\">\n",
              "  <thead>\n",
              "    <tr style=\"text-align: right;\">\n",
              "      <th></th>\n",
              "      <th>Production_countries</th>\n",
              "      <th>count</th>\n",
              "    </tr>\n",
              "  </thead>\n",
              "  <tbody>\n",
              "    <tr>\n",
              "      <th>0</th>\n",
              "      <td>United States</td>\n",
              "      <td>1653</td>\n",
              "    </tr>\n",
              "    <tr>\n",
              "      <th>1</th>\n",
              "      <td>India</td>\n",
              "      <td>832</td>\n",
              "    </tr>\n",
              "    <tr>\n",
              "      <th>2</th>\n",
              "      <td>United Kingdom</td>\n",
              "      <td>174</td>\n",
              "    </tr>\n",
              "    <tr>\n",
              "      <th>3</th>\n",
              "      <td>Canada</td>\n",
              "      <td>104</td>\n",
              "    </tr>\n",
              "    <tr>\n",
              "      <th>4</th>\n",
              "      <td>Egypt</td>\n",
              "      <td>87</td>\n",
              "    </tr>\n",
              "  </tbody>\n",
              "</table>\n",
              "</div>\n",
              "      <button class=\"colab-df-convert\" onclick=\"convertToInteractive('df-10a04a29-c2f4-4f08-9591-fb1f6cc2d07d')\"\n",
              "              title=\"Convert this dataframe to an interactive table.\"\n",
              "              style=\"display:none;\">\n",
              "        \n",
              "  <svg xmlns=\"http://www.w3.org/2000/svg\" height=\"24px\"viewBox=\"0 0 24 24\"\n",
              "       width=\"24px\">\n",
              "    <path d=\"M0 0h24v24H0V0z\" fill=\"none\"/>\n",
              "    <path d=\"M18.56 5.44l.94 2.06.94-2.06 2.06-.94-2.06-.94-.94-2.06-.94 2.06-2.06.94zm-11 1L8.5 8.5l.94-2.06 2.06-.94-2.06-.94L8.5 2.5l-.94 2.06-2.06.94zm10 10l.94 2.06.94-2.06 2.06-.94-2.06-.94-.94-2.06-.94 2.06-2.06.94z\"/><path d=\"M17.41 7.96l-1.37-1.37c-.4-.4-.92-.59-1.43-.59-.52 0-1.04.2-1.43.59L10.3 9.45l-7.72 7.72c-.78.78-.78 2.05 0 2.83L4 21.41c.39.39.9.59 1.41.59.51 0 1.02-.2 1.41-.59l7.78-7.78 2.81-2.81c.8-.78.8-2.07 0-2.86zM5.41 20L4 18.59l7.72-7.72 1.47 1.35L5.41 20z\"/>\n",
              "  </svg>\n",
              "      </button>\n",
              "      \n",
              "  <style>\n",
              "    .colab-df-container {\n",
              "      display:flex;\n",
              "      flex-wrap:wrap;\n",
              "      gap: 12px;\n",
              "    }\n",
              "\n",
              "    .colab-df-convert {\n",
              "      background-color: #E8F0FE;\n",
              "      border: none;\n",
              "      border-radius: 50%;\n",
              "      cursor: pointer;\n",
              "      display: none;\n",
              "      fill: #1967D2;\n",
              "      height: 32px;\n",
              "      padding: 0 0 0 0;\n",
              "      width: 32px;\n",
              "    }\n",
              "\n",
              "    .colab-df-convert:hover {\n",
              "      background-color: #E2EBFA;\n",
              "      box-shadow: 0px 1px 2px rgba(60, 64, 67, 0.3), 0px 1px 3px 1px rgba(60, 64, 67, 0.15);\n",
              "      fill: #174EA6;\n",
              "    }\n",
              "\n",
              "    [theme=dark] .colab-df-convert {\n",
              "      background-color: #3B4455;\n",
              "      fill: #D2E3FC;\n",
              "    }\n",
              "\n",
              "    [theme=dark] .colab-df-convert:hover {\n",
              "      background-color: #434B5C;\n",
              "      box-shadow: 0px 1px 3px 1px rgba(0, 0, 0, 0.15);\n",
              "      filter: drop-shadow(0px 1px 2px rgba(0, 0, 0, 0.3));\n",
              "      fill: #FFFFFF;\n",
              "    }\n",
              "  </style>\n",
              "\n",
              "      <script>\n",
              "        const buttonEl =\n",
              "          document.querySelector('#df-10a04a29-c2f4-4f08-9591-fb1f6cc2d07d button.colab-df-convert');\n",
              "        buttonEl.style.display =\n",
              "          google.colab.kernel.accessAllowed ? 'block' : 'none';\n",
              "\n",
              "        async function convertToInteractive(key) {\n",
              "          const element = document.querySelector('#df-10a04a29-c2f4-4f08-9591-fb1f6cc2d07d');\n",
              "          const dataTable =\n",
              "            await google.colab.kernel.invokeFunction('convertToInteractive',\n",
              "                                                     [key], {});\n",
              "          if (!dataTable) return;\n",
              "\n",
              "          const docLinkHtml = 'Like what you see? Visit the ' +\n",
              "            '<a target=\"_blank\" href=https://colab.research.google.com/notebooks/data_table.ipynb>data table notebook</a>'\n",
              "            + ' to learn more about interactive tables.';\n",
              "          element.innerHTML = '';\n",
              "          dataTable['output_type'] = 'display_data';\n",
              "          await google.colab.output.renderOutput(dataTable, element);\n",
              "          const docLink = document.createElement('div');\n",
              "          docLink.innerHTML = docLinkHtml;\n",
              "          element.appendChild(docLink);\n",
              "        }\n",
              "      </script>\n",
              "    </div>\n",
              "  </div>\n",
              "  "
            ]
          },
          "metadata": {},
          "execution_count": 43
        }
      ]
    },
    {
      "cell_type": "code",
      "source": [
        "plt.figure(figsize=(12,5))\n",
        "plt.title('Top 5 producer countries')\n",
        "sns.barplot(x='Production_countries',y= 'count', data= country[:5])"
      ],
      "metadata": {
        "colab": {
          "base_uri": "https://localhost:8080/",
          "height": 400
        },
        "id": "6_hl8MAJ4OJR",
        "outputId": "703c279b-d1d5-4de9-a7cf-83fb5b126e0b"
      },
      "execution_count": 44,
      "outputs": [
        {
          "output_type": "execute_result",
          "data": {
            "text/plain": [
              "<matplotlib.axes._subplots.AxesSubplot at 0x7f01bb51ebd0>"
            ]
          },
          "metadata": {},
          "execution_count": 44
        },
        {
          "output_type": "display_data",
          "data": {
            "text/plain": [
              "<Figure size 864x360 with 1 Axes>"
            ],
            "image/png": "[encoded data removed]"
          },
          "metadata": {}
        }
      ]
    },
    {
      "cell_type": "markdown",
      "source": [
        "## Finding the highest watched genres on Netflix"
      ],
      "metadata": {
        "id": "G2gKbcLsdMdi"
      }
    },
    {
      "cell_type": "markdown",
      "source": [
        "To know more about the distribution of genres and see which type of content do audience prefers to watch. So Netflix can decide and take movies or tv shows of the highest watched genres which will benefit Netflix in a long run."
      ],
      "metadata": {
        "id": "oHeA4b09dQuS"
      }
    },
    {
      "cell_type": "code",
      "source": [
        "genere_name= nf['genere'].value_counts().reset_index()\n",
        "genere_name.rename(columns={'index' : 'genere_name'}, inplace= True)\n",
        "genere_name.rename(columns={'genere' : 'count'}, inplace= True)\n",
        "genere_name"
      ],
      "metadata": {
        "colab": {
          "base_uri": "https://localhost:8080/",
          "height": 1000
        },
        "id": "VqaK9RRRdUys",
        "outputId": "685d0f3b-83ad-4973-8005-40c9509ad8a5"
      },
      "execution_count": 45,
      "outputs": [
        {
          "output_type": "execute_result",
          "data": {
            "text/plain": [
              "                     genere_name  count\n",
              "0                         Dramas   1342\n",
              "1                       Comedies   1029\n",
              "2             Action & Adventure    696\n",
              "3       Children & Family Movies    421\n",
              "4                  Documentaries    352\n",
              "5                Stand-Up Comedy    276\n",
              "6                  Horror Movies    239\n",
              "7           International Movies    100\n",
              "8                 Classic Movies     69\n",
              "9                      Thrillers     49\n",
              "10        International TV Shows     39\n",
              "11                Crime TV Shows     30\n",
              "12                        Movies     22\n",
              "13            Independent Movies     20\n",
              "14              British TV Shows     20\n",
              "15                Anime Features     18\n",
              "16              Music & Musicals     14\n",
              "17              Sci-Fi & Fantasy     11\n",
              "18                   Cult Movies     11\n",
              "19                      Kids' TV     10\n",
              "20                  Anime Series      9\n",
              "21                    Docuseries      7\n",
              "22  Stand-Up Comedy & Talk Shows      7\n",
              "23                      TV Shows      4\n",
              "24               Romantic Movies      3\n",
              "25                   TV Comedies      3\n",
              "26         TV Action & Adventure      2\n",
              "27             Romantic TV Shows      1\n",
              "28                     TV Horror      1\n",
              "29             Classic & Cult TV      1\n",
              "30                    Reality TV      1\n",
              "31                  LGBTQ Movies      1"
            ],
            "text/html": [
              "\n",
              "  <div id=\"df-90b997ed-b3a4-47c3-a3ef-92e3fd20e73d\">\n",
              "    <div class=\"colab-df-container\">\n",
              "      <div>\n",
              "<style scoped>\n",
              "    .dataframe tbody tr th:only-of-type {\n",
              "        vertical-align: middle;\n",
              "    }\n",
              "\n",
              "    .dataframe tbody tr th {\n",
              "        vertical-align: top;\n",
              "    }\n",
              "\n",
              "    .dataframe thead th {\n",
              "        text-align: right;\n",
              "    }\n",
              "</style>\n",
              "<table border=\"1\" class=\"dataframe\">\n",
              "  <thead>\n",
              "    <tr style=\"text-align: right;\">\n",
              "      <th></th>\n",
              "      <th>genere_name</th>\n",
              "      <th>count</th>\n",
              "    </tr>\n",
              "  </thead>\n",
              "  <tbody>\n",
              "    <tr>\n",
              "      <th>0</th>\n",
              "      <td>Dramas</td>\n",
              "      <td>1342</td>\n",
              "    </tr>\n",
              "    <tr>\n",
              "      <th>1</th>\n",
              "      <td>Comedies</td>\n",
              "      <td>1029</td>\n",
              "    </tr>\n",
              "    <tr>\n",
              "      <th>2</th>\n",
              "      <td>Action &amp; Adventure</td>\n",
              "      <td>696</td>\n",
              "    </tr>\n",
              "    <tr>\n",
              "      <th>3</th>\n",
              "      <td>Children &amp; Family Movies</td>\n",
              "      <td>421</td>\n",
              "    </tr>\n",
              "    <tr>\n",
              "      <th>4</th>\n",
              "      <td>Documentaries</td>\n",
              "      <td>352</td>\n",
              "    </tr>\n",
              "    <tr>\n",
              "      <th>5</th>\n",
              "      <td>Stand-Up Comedy</td>\n",
              "      <td>276</td>\n",
              "    </tr>\n",
              "    <tr>\n",
              "      <th>6</th>\n",
              "      <td>Horror Movies</td>\n",
              "      <td>239</td>\n",
              "    </tr>\n",
              "    <tr>\n",
              "      <th>7</th>\n",
              "      <td>International Movies</td>\n",
              "      <td>100</td>\n",
              "    </tr>\n",
              "    <tr>\n",
              "      <th>8</th>\n",
              "      <td>Classic Movies</td>\n",
              "      <td>69</td>\n",
              "    </tr>\n",
              "    <tr>\n",
              "      <th>9</th>\n",
              "      <td>Thrillers</td>\n",
              "      <td>49</td>\n",
              "    </tr>\n",
              "    <tr>\n",
              "      <th>10</th>\n",
              "      <td>International TV Shows</td>\n",
              "      <td>39</td>\n",
              "    </tr>\n",
              "    <tr>\n",
              "      <th>11</th>\n",
              "      <td>Crime TV Shows</td>\n",
              "      <td>30</td>\n",
              "    </tr>\n",
              "    <tr>\n",
              "      <th>12</th>\n",
              "      <td>Movies</td>\n",
              "      <td>22</td>\n",
              "    </tr>\n",
              "    <tr>\n",
              "      <th>13</th>\n",
              "      <td>Independent Movies</td>\n",
              "      <td>20</td>\n",
              "    </tr>\n",
              "    <tr>\n",
              "      <th>14</th>\n",
              "      <td>British TV Shows</td>\n",
              "      <td>20</td>\n",
              "    </tr>\n",
              "    <tr>\n",
              "      <th>15</th>\n",
              "      <td>Anime Features</td>\n",
              "      <td>18</td>\n",
              "    </tr>\n",
              "    <tr>\n",
              "      <th>16</th>\n",
              "      <td>Music &amp; Musicals</td>\n",
              "      <td>14</td>\n",
              "    </tr>\n",
              "    <tr>\n",
              "      <th>17</th>\n",
              "      <td>Sci-Fi &amp; Fantasy</td>\n",
              "      <td>11</td>\n",
              "    </tr>\n",
              "    <tr>\n",
              "      <th>18</th>\n",
              "      <td>Cult Movies</td>\n",
              "      <td>11</td>\n",
              "    </tr>\n",
              "    <tr>\n",
              "      <th>19</th>\n",
              "      <td>Kids' TV</td>\n",
              "      <td>10</td>\n",
              "    </tr>\n",
              "    <tr>\n",
              "      <th>20</th>\n",
              "      <td>Anime Series</td>\n",
              "      <td>9</td>\n",
              "    </tr>\n",
              "    <tr>\n",
              "      <th>21</th>\n",
              "      <td>Docuseries</td>\n",
              "      <td>7</td>\n",
              "    </tr>\n",
              "    <tr>\n",
              "      <th>22</th>\n",
              "      <td>Stand-Up Comedy &amp; Talk Shows</td>\n",
              "      <td>7</td>\n",
              "    </tr>\n",
              "    <tr>\n",
              "      <th>23</th>\n",
              "      <td>TV Shows</td>\n",
              "      <td>4</td>\n",
              "    </tr>\n",
              "    <tr>\n",
              "      <th>24</th>\n",
              "      <td>Romantic Movies</td>\n",
              "      <td>3</td>\n",
              "    </tr>\n",
              "    <tr>\n",
              "      <th>25</th>\n",
              "      <td>TV Comedies</td>\n",
              "      <td>3</td>\n",
              "    </tr>\n",
              "    <tr>\n",
              "      <th>26</th>\n",
              "      <td>TV Action &amp; Adventure</td>\n",
              "      <td>2</td>\n",
              "    </tr>\n",
              "    <tr>\n",
              "      <th>27</th>\n",
              "      <td>Romantic TV Shows</td>\n",
              "      <td>1</td>\n",
              "    </tr>\n",
              "    <tr>\n",
              "      <th>28</th>\n",
              "      <td>TV Horror</td>\n",
              "      <td>1</td>\n",
              "    </tr>\n",
              "    <tr>\n",
              "      <th>29</th>\n",
              "      <td>Classic &amp; Cult TV</td>\n",
              "      <td>1</td>\n",
              "    </tr>\n",
              "    <tr>\n",
              "      <th>30</th>\n",
              "      <td>Reality TV</td>\n",
              "      <td>1</td>\n",
              "    </tr>\n",
              "    <tr>\n",
              "      <th>31</th>\n",
              "      <td>LGBTQ Movies</td>\n",
              "      <td>1</td>\n",
              "    </tr>\n",
              "  </tbody>\n",
              "</table>\n",
              "</div>\n",
              "      <button class=\"colab-df-convert\" onclick=\"convertToInteractive('df-90b997ed-b3a4-47c3-a3ef-92e3fd20e73d')\"\n",
              "              title=\"Convert this dataframe to an interactive table.\"\n",
              "              style=\"display:none;\">\n",
              "        \n",
              "  <svg xmlns=\"http://www.w3.org/2000/svg\" height=\"24px\"viewBox=\"0 0 24 24\"\n",
              "       width=\"24px\">\n",
              "    <path d=\"M0 0h24v24H0V0z\" fill=\"none\"/>\n",
              "    <path d=\"M18.56 5.44l.94 2.06.94-2.06 2.06-.94-2.06-.94-.94-2.06-.94 2.06-2.06.94zm-11 1L8.5 8.5l.94-2.06 2.06-.94-2.06-.94L8.5 2.5l-.94 2.06-2.06.94zm10 10l.94 2.06.94-2.06 2.06-.94-2.06-.94-.94-2.06-.94 2.06-2.06.94z\"/><path d=\"M17.41 7.96l-1.37-1.37c-.4-.4-.92-.59-1.43-.59-.52 0-1.04.2-1.43.59L10.3 9.45l-7.72 7.72c-.78.78-.78 2.05 0 2.83L4 21.41c.39.39.9.59 1.41.59.51 0 1.02-.2 1.41-.59l7.78-7.78 2.81-2.81c.8-.78.8-2.07 0-2.86zM5.41 20L4 18.59l7.72-7.72 1.47 1.35L5.41 20z\"/>\n",
              "  </svg>\n",
              "      </button>\n",
              "      \n",
              "  <style>\n",
              "    .colab-df-container {\n",
              "      display:flex;\n",
              "      flex-wrap:wrap;\n",
              "      gap: 12px;\n",
              "    }\n",
              "\n",
              "    .colab-df-convert {\n",
              "      background-color: #E8F0FE;\n",
              "      border: none;\n",
              "      border-radius: 50%;\n",
              "      cursor: pointer;\n",
              "      display: none;\n",
              "      fill: #1967D2;\n",
              "      height: 32px;\n",
              "      padding: 0 0 0 0;\n",
              "      width: 32px;\n",
              "    }\n",
              "\n",
              "    .colab-df-convert:hover {\n",
              "      background-color: #E2EBFA;\n",
              "      box-shadow: 0px 1px 2px rgba(60, 64, 67, 0.3), 0px 1px 3px 1px rgba(60, 64, 67, 0.15);\n",
              "      fill: #174EA6;\n",
              "    }\n",
              "\n",
              "    [theme=dark] .colab-df-convert {\n",
              "      background-color: #3B4455;\n",
              "      fill: #D2E3FC;\n",
              "    }\n",
              "\n",
              "    [theme=dark] .colab-df-convert:hover {\n",
              "      background-color: #434B5C;\n",
              "      box-shadow: 0px 1px 3px 1px rgba(0, 0, 0, 0.15);\n",
              "      filter: drop-shadow(0px 1px 2px rgba(0, 0, 0, 0.3));\n",
              "      fill: #FFFFFF;\n",
              "    }\n",
              "  </style>\n",
              "\n",
              "      <script>\n",
              "        const buttonEl =\n",
              "          document.querySelector('#df-90b997ed-b3a4-47c3-a3ef-92e3fd20e73d button.colab-df-convert');\n",
              "        buttonEl.style.display =\n",
              "          google.colab.kernel.accessAllowed ? 'block' : 'none';\n",
              "\n",
              "        async function convertToInteractive(key) {\n",
              "          const element = document.querySelector('#df-90b997ed-b3a4-47c3-a3ef-92e3fd20e73d');\n",
              "          const dataTable =\n",
              "            await google.colab.kernel.invokeFunction('convertToInteractive',\n",
              "                                                     [key], {});\n",
              "          if (!dataTable) return;\n",
              "\n",
              "          const docLinkHtml = 'Like what you see? Visit the ' +\n",
              "            '<a target=\"_blank\" href=https://colab.research.google.com/notebooks/data_table.ipynb>data table notebook</a>'\n",
              "            + ' to learn more about interactive tables.';\n",
              "          element.innerHTML = '';\n",
              "          dataTable['output_type'] = 'display_data';\n",
              "          await google.colab.output.renderOutput(dataTable, element);\n",
              "          const docLink = document.createElement('div');\n",
              "          docLink.innerHTML = docLinkHtml;\n",
              "          element.appendChild(docLink);\n",
              "        }\n",
              "      </script>\n",
              "    </div>\n",
              "  </div>\n",
              "  "
            ]
          },
          "metadata": {},
          "execution_count": 45
        }
      ]
    },
    {
      "cell_type": "code",
      "source": [
        "fig_tree = px.treemap(genere_name, path=[px.Constant(\"Distribution of Genere\"), 'count','genere_name'])\n",
        "fig_tree.update_layout(title='Highest watched Generes on Netflix',\n",
        "                  margin=dict(t=50, b=0, l=70, r=40),\n",
        "                  plot_bgcolor='#333', paper_bgcolor='#333',\n",
        "                  title_font=dict(size=25, color='#fff', family=\"Lato, sans-serif\"),\n",
        "                  font=dict(color='#8a8d93'),\n",
        "                  hoverlabel=dict(bgcolor=\"#444\", font_size=13, font_family=\"Lato, sans-serif\"))"
      ],
      "metadata": {
        "colab": {
          "base_uri": "https://localhost:8080/",
          "height": 542
        },
        "id": "KPixfl5Qd0YI",
        "outputId": "e16ed566-bb1b-494b-fa38-a80d5a7e4948"
      },
      "execution_count": 46,
      "outputs": [
        {
          "output_type": "display_data",
          "data": {
            "text/html": [
              "<html>\n",
              "<head><meta charset=\"utf-8\" /></head>\n",
              "<body>\n",
              "    <div>            <script src=\"https://cdnjs.cloudflare.com/ajax/libs/mathjax/2.7.5/MathJax.js?config=TeX-AMS-MML_SVG\"></script><script type=\"text/javascript\">if (window.MathJax) {MathJax.Hub.Config({SVG: {font: \"STIX-Web\"}});}</script>                <script type=\"text/javascript\">window.PlotlyConfig = {MathJaxConfig: 'local'};</script>\n",
              "        <script src=\"https://cdn.plot.ly/plotly-2.8.3.min.js\"></script>                <div id=\"1ecc628f-24be-4cca-b25b-810ca325fc3b\" class=\"plotly-graph-div\" style=\"height:525px; width:100%;\"></div>            <script type=\"text/javascript\">                                    window.PLOTLYENV=window.PLOTLYENV || {};                                    if (document.getElementById(\"1ecc628f-24be-4cca-b25b-810ca325fc3b\")) {                    Plotly.newPlot(                        \"1ecc628f-24be-4cca-b25b-810ca325fc3b\",                        [{\"branchvalues\":\"total\",\"domain\":{\"x\":[0.0,1.0],\"y\":[0.0,1.0]},\"hovertemplate\":\"labels=%{label}<br>countgenere_namepath_0genere_name_path_copycount_path_copypath_0_path_copy=%{value}<br>parent=%{parent}<br>id=%{id}<extra></extra>\",\"ids\":[\"Distribution of Genere/696/Action & Adventure\",\"Distribution of Genere/18/Anime Features\",\"Distribution of Genere/9/Anime Series\",\"Distribution of Genere/20/British TV Shows\",\"Distribution of Genere/421/Children & Family Movies\",\"Distribution of Genere/1/Classic & Cult TV\",\"Distribution of Genere/69/Classic Movies\",\"Distribution of Genere/1029/Comedies\",\"Distribution of Genere/30/Crime TV Shows\",\"Distribution of Genere/11/Cult Movies\",\"Distribution of Genere/352/Documentaries\",\"Distribution of Genere/7/Docuseries\",\"Distribution of Genere/1342/Dramas\",\"Distribution of Genere/239/Horror Movies\",\"Distribution of Genere/20/Independent Movies\",\"Distribution of Genere/100/International Movies\",\"Distribution of Genere/39/International TV Shows\",\"Distribution of Genere/10/Kids' TV\",\"Distribution of Genere/1/LGBTQ Movies\",\"Distribution of Genere/22/Movies\",\"Distribution of Genere/14/Music & Musicals\",\"Distribution of Genere/1/Reality TV\",\"Distribution of Genere/3/Romantic Movies\",\"Distribution of Genere/1/Romantic TV Shows\",\"Distribution of Genere/11/Sci-Fi & Fantasy\",\"Distribution of Genere/276/Stand-Up Comedy\",\"Distribution of Genere/7/Stand-Up Comedy & Talk Shows\",\"Distribution of Genere/2/TV Action & Adventure\",\"Distribution of Genere/3/TV Comedies\",\"Distribution of Genere/1/TV Horror\",\"Distribution of Genere/4/TV Shows\",\"Distribution of Genere/49/Thrillers\",\"Distribution of Genere/1\",\"Distribution of Genere/2\",\"Distribution of Genere/3\",\"Distribution of Genere/4\",\"Distribution of Genere/7\",\"Distribution of Genere/9\",\"Distribution of Genere/10\",\"Distribution of Genere/11\",\"Distribution of Genere/14\",\"Distribution of Genere/18\",\"Distribution of Genere/20\",\"Distribution of Genere/22\",\"Distribution of Genere/30\",\"Distribution of Genere/39\",\"Distribution of Genere/49\",\"Distribution of Genere/69\",\"Distribution of Genere/100\",\"Distribution of Genere/239\",\"Distribution of Genere/276\",\"Distribution of Genere/352\",\"Distribution of Genere/421\",\"Distribution of Genere/696\",\"Distribution of Genere/1029\",\"Distribution of Genere/1342\",\"Distribution of Genere\"],\"labels\":[\"Action & Adventure\",\"Anime Features\",\"Anime Series\",\"British TV Shows\",\"Children & Family Movies\",\"Classic & Cult TV\",\"Classic Movies\",\"Comedies\",\"Crime TV Shows\",\"Cult Movies\",\"Documentaries\",\"Docuseries\",\"Dramas\",\"Horror Movies\",\"Independent Movies\",\"International Movies\",\"International TV Shows\",\"Kids' TV\",\"LGBTQ Movies\",\"Movies\",\"Music & Musicals\",\"Reality TV\",\"Romantic Movies\",\"Romantic TV Shows\",\"Sci-Fi & Fantasy\",\"Stand-Up Comedy\",\"Stand-Up Comedy & Talk Shows\",\"TV Action & Adventure\",\"TV Comedies\",\"TV Horror\",\"TV Shows\",\"Thrillers\",\"1\",\"2\",\"3\",\"4\",\"7\",\"9\",\"10\",\"11\",\"14\",\"18\",\"20\",\"22\",\"30\",\"39\",\"49\",\"69\",\"100\",\"239\",\"276\",\"352\",\"421\",\"696\",\"1029\",\"1342\",\"Distribution of Genere\"],\"name\":\"\",\"parents\":[\"Distribution of Genere/696\",\"Distribution of Genere/18\",\"Distribution of Genere/9\",\"Distribution of Genere/20\",\"Distribution of Genere/421\",\"Distribution of Genere/1\",\"Distribution of Genere/69\",\"Distribution of Genere/1029\",\"Distribution of Genere/30\",\"Distribution of Genere/11\",\"Distribution of Genere/352\",\"Distribution of Genere/7\",\"Distribution of Genere/1342\",\"Distribution of Genere/239\",\"Distribution of Genere/20\",\"Distribution of Genere/100\",\"Distribution of Genere/39\",\"Distribution of Genere/10\",\"Distribution of Genere/1\",\"Distribution of Genere/22\",\"Distribution of Genere/14\",\"Distribution of Genere/1\",\"Distribution of Genere/3\",\"Distribution of Genere/1\",\"Distribution of Genere/11\",\"Distribution of Genere/276\",\"Distribution of Genere/7\",\"Distribution of Genere/2\",\"Distribution of Genere/3\",\"Distribution of Genere/1\",\"Distribution of Genere/4\",\"Distribution of Genere/49\",\"Distribution of Genere\",\"Distribution of Genere\",\"Distribution of Genere\",\"Distribution of Genere\",\"Distribution of Genere\",\"Distribution of Genere\",\"Distribution of Genere\",\"Distribution of Genere\",\"Distribution of Genere\",\"Distribution of Genere\",\"Distribution of Genere\",\"Distribution of Genere\",\"Distribution of Genere\",\"Distribution of Genere\",\"Distribution of Genere\",\"Distribution of Genere\",\"Distribution of Genere\",\"Distribution of Genere\",\"Distribution of Genere\",\"Distribution of Genere\",\"Distribution of Genere\",\"Distribution of Genere\",\"Distribution of Genere\",\"Distribution of Genere\",\"\"],\"values\":[1,1,1,1,1,1,1,1,1,1,1,1,1,1,1,1,1,1,1,1,1,1,1,1,1,1,1,1,1,1,1,1,5,1,2,1,2,1,1,2,1,1,2,1,1,1,1,1,1,1,1,1,1,1,1,1,32],\"type\":\"treemap\"}],                        {\"template\":{\"data\":{\"bar\":[{\"error_x\":{\"color\":\"#2a3f5f\"},\"error_y\":{\"color\":\"#2a3f5f\"},\"marker\":{\"line\":{\"color\":\"#E5ECF6\",\"width\":0.5},\"pattern\":{\"fillmode\":\"overlay\",\"size\":10,\"solidity\":0.2}},\"type\":\"bar\"}],\"barpolar\":[{\"marker\":{\"line\":{\"color\":\"#E5ECF6\",\"width\":0.5},\"pattern\":{\"fillmode\":\"overlay\",\"size\":10,\"solidity\":0.2}},\"type\":\"barpolar\"}],\"carpet\":[{\"aaxis\":{\"endlinecolor\":\"#2a3f5f\",\"gridcolor\":\"white\",\"linecolor\":\"white\",\"minorgridcolor\":\"white\",\"startlinecolor\":\"#2a3f5f\"},\"baxis\":{\"endlinecolor\":\"#2a3f5f\",\"gridcolor\":\"white\",\"linecolor\":\"white\",\"minorgridcolor\":\"white\",\"startlinecolor\":\"#2a3f5f\"},\"type\":\"carpet\"}],\"choropleth\":[{\"colorbar\":{\"outlinewidth\":0,\"ticks\":\"\"},\"type\":\"choropleth\"}],\"contour\":[{\"colorbar\":{\"outlinewidth\":0,\"ticks\":\"\"},\"colorscale\":[[0.0,\"#0d0887\"],[0.1111111111111111,\"#46039f\"],[0.2222222222222222,\"#7201a8\"],[0.3333333333333333,\"#9c179e\"],[0.4444444444444444,\"#bd3786\"],[0.5555555555555556,\"#d8576b\"],[0.6666666666666666,\"#ed7953\"],[0.7777777777777778,\"#fb9f3a\"],[0.8888888888888888,\"#fdca26\"],[1.0,\"#f0f921\"]],\"type\":\"contour\"}],\"contourcarpet\":[{\"colorbar\":{\"outlinewidth\":0,\"ticks\":\"\"},\"type\":\"contourcarpet\"}],\"heatmap\":[{\"colorbar\":{\"outlinewidth\":0,\"ticks\":\"\"},\"colorscale\":[[0.0,\"#0d0887\"],[0.1111111111111111,\"#46039f\"],[0.2222222222222222,\"#7201a8\"],[0.3333333333333333,\"#9c179e\"],[0.4444444444444444,\"#bd3786\"],[0.5555555555555556,\"#d8576b\"],[0.6666666666666666,\"#ed7953\"],[0.7777777777777778,\"#fb9f3a\"],[0.8888888888888888,\"#fdca26\"],[1.0,\"#f0f921\"]],\"type\":\"heatmap\"}],\"heatmapgl\":[{\"colorbar\":{\"outlinewidth\":0,\"ticks\":\"\"},\"colorscale\":[[0.0,\"#0d0887\"],[0.1111111111111111,\"#46039f\"],[0.2222222222222222,\"#7201a8\"],[0.3333333333333333,\"#9c179e\"],[0.4444444444444444,\"#bd3786\"],[0.5555555555555556,\"#d8576b\"],[0.6666666666666666,\"#ed7953\"],[0.7777777777777778,\"#fb9f3a\"],[0.8888888888888888,\"#fdca26\"],[1.0,\"#f0f921\"]],\"type\":\"heatmapgl\"}],\"histogram\":[{\"marker\":{\"pattern\":{\"fillmode\":\"overlay\",\"size\":10,\"solidity\":0.2}},\"type\":\"histogram\"}],\"histogram2d\":[{\"colorbar\":{\"outlinewidth\":0,\"ticks\":\"\"},\"colorscale\":[[0.0,\"#0d0887\"],[0.1111111111111111,\"#46039f\"],[0.2222222222222222,\"#7201a8\"],[0.3333333333333333,\"#9c179e\"],[0.4444444444444444,\"#bd3786\"],[0.5555555555555556,\"#d8576b\"],[0.6666666666666666,\"#ed7953\"],[0.7777777777777778,\"#fb9f3a\"],[0.8888888888888888,\"#fdca26\"],[1.0,\"#f0f921\"]],\"type\":\"histogram2d\"}],\"histogram2dcontour\":[{\"colorbar\":{\"outlinewidth\":0,\"ticks\":\"\"},\"colorscale\":[[0.0,\"#0d0887\"],[0.1111111111111111,\"#46039f\"],[0.2222222222222222,\"#7201a8\"],[0.3333333333333333,\"#9c179e\"],[0.4444444444444444,\"#bd3786\"],[0.5555555555555556,\"#d8576b\"],[0.6666666666666666,\"#ed7953\"],[0.7777777777777778,\"#fb9f3a\"],[0.8888888888888888,\"#fdca26\"],[1.0,\"#f0f921\"]],\"type\":\"histogram2dcontour\"}],\"mesh3d\":[{\"colorbar\":{\"outlinewidth\":0,\"ticks\":\"\"},\"type\":\"mesh3d\"}],\"parcoords\":[{\"line\":{\"colorbar\":{\"outlinewidth\":0,\"ticks\":\"\"}},\"type\":\"parcoords\"}],\"pie\":[{\"automargin\":true,\"type\":\"pie\"}],\"scatter\":[{\"marker\":{\"colorbar\":{\"outlinewidth\":0,\"ticks\":\"\"}},\"type\":\"scatter\"}],\"scatter3d\":[{\"line\":{\"colorbar\":{\"outlinewidth\":0,\"ticks\":\"\"}},\"marker\":{\"colorbar\":{\"outlinewidth\":0,\"ticks\":\"\"}},\"type\":\"scatter3d\"}],\"scattercarpet\":[{\"marker\":{\"colorbar\":{\"outlinewidth\":0,\"ticks\":\"\"}},\"type\":\"scattercarpet\"}],\"scattergeo\":[{\"marker\":{\"colorbar\":{\"outlinewidth\":0,\"ticks\":\"\"}},\"type\":\"scattergeo\"}],\"scattergl\":[{\"marker\":{\"colorbar\":{\"outlinewidth\":0,\"ticks\":\"\"}},\"type\":\"scattergl\"}],\"scattermapbox\":[{\"marker\":{\"colorbar\":{\"outlinewidth\":0,\"ticks\":\"\"}},\"type\":\"scattermapbox\"}],\"scatterpolar\":[{\"marker\":{\"colorbar\":{\"outlinewidth\":0,\"ticks\":\"\"}},\"type\":\"scatterpolar\"}],\"scatterpolargl\":[{\"marker\":{\"colorbar\":{\"outlinewidth\":0,\"ticks\":\"\"}},\"type\":\"scatterpolargl\"}],\"scatterternary\":[{\"marker\":{\"colorbar\":{\"outlinewidth\":0,\"ticks\":\"\"}},\"type\":\"scatterternary\"}],\"surface\":[{\"colorbar\":{\"outlinewidth\":0,\"ticks\":\"\"},\"colorscale\":[[0.0,\"#0d0887\"],[0.1111111111111111,\"#46039f\"],[0.2222222222222222,\"#7201a8\"],[0.3333333333333333,\"#9c179e\"],[0.4444444444444444,\"#bd3786\"],[0.5555555555555556,\"#d8576b\"],[0.6666666666666666,\"#ed7953\"],[0.7777777777777778,\"#fb9f3a\"],[0.8888888888888888,\"#fdca26\"],[1.0,\"#f0f921\"]],\"type\":\"surface\"}],\"table\":[{\"cells\":{\"fill\":{\"color\":\"#EBF0F8\"},\"line\":{\"color\":\"white\"}},\"header\":{\"fill\":{\"color\":\"#C8D4E3\"},\"line\":{\"color\":\"white\"}},\"type\":\"table\"}]},\"layout\":{\"annotationdefaults\":{\"arrowcolor\":\"#2a3f5f\",\"arrowhead\":0,\"arrowwidth\":1},\"autotypenumbers\":\"strict\",\"coloraxis\":{\"colorbar\":{\"outlinewidth\":0,\"ticks\":\"\"}},\"colorscale\":{\"diverging\":[[0,\"#8e0152\"],[0.1,\"#c51b7d\"],[0.2,\"#de77ae\"],[0.3,\"#f1b6da\"],[0.4,\"#fde0ef\"],[0.5,\"#f7f7f7\"],[0.6,\"#e6f5d0\"],[0.7,\"#b8e186\"],[0.8,\"#7fbc41\"],[0.9,\"#4d9221\"],[1,\"#276419\"]],\"sequential\":[[0.0,\"#0d0887\"],[0.1111111111111111,\"#46039f\"],[0.2222222222222222,\"#7201a8\"],[0.3333333333333333,\"#9c179e\"],[0.4444444444444444,\"#bd3786\"],[0.5555555555555556,\"#d8576b\"],[0.6666666666666666,\"#ed7953\"],[0.7777777777777778,\"#fb9f3a\"],[0.8888888888888888,\"#fdca26\"],[1.0,\"#f0f921\"]],\"sequentialminus\":[[0.0,\"#0d0887\"],[0.1111111111111111,\"#46039f\"],[0.2222222222222222,\"#7201a8\"],[0.3333333333333333,\"#9c179e\"],[0.4444444444444444,\"#bd3786\"],[0.5555555555555556,\"#d8576b\"],[0.6666666666666666,\"#ed7953\"],[0.7777777777777778,\"#fb9f3a\"],[0.8888888888888888,\"#fdca26\"],[1.0,\"#f0f921\"]]},\"colorway\":[\"#636efa\",\"#EF553B\",\"#00cc96\",\"#ab63fa\",\"#FFA15A\",\"#19d3f3\",\"#FF6692\",\"#B6E880\",\"#FF97FF\",\"#FECB52\"],\"font\":{\"color\":\"#2a3f5f\"},\"geo\":{\"bgcolor\":\"white\",\"lakecolor\":\"white\",\"landcolor\":\"#E5ECF6\",\"showlakes\":true,\"showland\":true,\"subunitcolor\":\"white\"},\"hoverlabel\":{\"align\":\"left\"},\"hovermode\":\"closest\",\"mapbox\":{\"style\":\"light\"},\"paper_bgcolor\":\"white\",\"plot_bgcolor\":\"#E5ECF6\",\"polar\":{\"angularaxis\":{\"gridcolor\":\"white\",\"linecolor\":\"white\",\"ticks\":\"\"},\"bgcolor\":\"#E5ECF6\",\"radialaxis\":{\"gridcolor\":\"white\",\"linecolor\":\"white\",\"ticks\":\"\"}},\"scene\":{\"xaxis\":{\"backgroundcolor\":\"#E5ECF6\",\"gridcolor\":\"white\",\"gridwidth\":2,\"linecolor\":\"white\",\"showbackground\":true,\"ticks\":\"\",\"zerolinecolor\":\"white\"},\"yaxis\":{\"backgroundcolor\":\"#E5ECF6\",\"gridcolor\":\"white\",\"gridwidth\":2,\"linecolor\":\"white\",\"showbackground\":true,\"ticks\":\"\",\"zerolinecolor\":\"white\"},\"zaxis\":{\"backgroundcolor\":\"#E5ECF6\",\"gridcolor\":\"white\",\"gridwidth\":2,\"linecolor\":\"white\",\"showbackground\":true,\"ticks\":\"\",\"zerolinecolor\":\"white\"}},\"shapedefaults\":{\"line\":{\"color\":\"#2a3f5f\"}},\"ternary\":{\"aaxis\":{\"gridcolor\":\"white\",\"linecolor\":\"white\",\"ticks\":\"\"},\"baxis\":{\"gridcolor\":\"white\",\"linecolor\":\"white\",\"ticks\":\"\"},\"bgcolor\":\"#E5ECF6\",\"caxis\":{\"gridcolor\":\"white\",\"linecolor\":\"white\",\"ticks\":\"\"}},\"title\":{\"x\":0.05},\"xaxis\":{\"automargin\":true,\"gridcolor\":\"white\",\"linecolor\":\"white\",\"ticks\":\"\",\"title\":{\"standoff\":15},\"zerolinecolor\":\"white\",\"zerolinewidth\":2},\"yaxis\":{\"automargin\":true,\"gridcolor\":\"white\",\"linecolor\":\"white\",\"ticks\":\"\",\"title\":{\"standoff\":15},\"zerolinecolor\":\"white\",\"zerolinewidth\":2}}},\"legend\":{\"tracegroupgap\":0},\"margin\":{\"t\":50,\"b\":0,\"l\":70,\"r\":40},\"title\":{\"text\":\"Highest watched Generes on Netflix\",\"font\":{\"size\":25,\"color\":\"#fff\",\"family\":\"Lato, sans-serif\"}},\"font\":{\"color\":\"#8a8d93\"},\"hoverlabel\":{\"font\":{\"size\":13,\"family\":\"Lato, sans-serif\"},\"bgcolor\":\"#444\"},\"plot_bgcolor\":\"#333\",\"paper_bgcolor\":\"#333\"},                        {\"responsive\": true}                    ).then(function(){\n",
              "                            \n",
              "var gd = document.getElementById('1ecc628f-24be-4cca-b25b-810ca325fc3b');\n",
              "var x = new MutationObserver(function (mutations, observer) {{\n",
              "        var display = window.getComputedStyle(gd).display;\n",
              "        if (!display || display === 'none') {{\n",
              "            console.log([gd, 'removed!']);\n",
              "            Plotly.purge(gd);\n",
              "            observer.disconnect();\n",
              "        }}\n",
              "}});\n",
              "\n",
              "// Listen for the removal of the full notebook cells\n",
              "var notebookContainer = gd.closest('#notebook-container');\n",
              "if (notebookContainer) {{\n",
              "    x.observe(notebookContainer, {childList: true});\n",
              "}}\n",
              "\n",
              "// Listen for the clearing of the current output cell\n",
              "var outputEl = gd.closest('.output');\n",
              "if (outputEl) {{\n",
              "    x.observe(outputEl, {childList: true});\n",
              "}}\n",
              "\n",
              "                        })                };                            </script>        </div>\n",
              "</body>\n",
              "</html>"
            ]
          },
          "metadata": {}
        }
      ]
    },
    {
      "cell_type": "markdown",
      "source": [
        "### **Drama is the highest preferred show by the audience then comes the comedy show and action show, the least preferred show is of LGBTQ movies.**"
      ],
      "metadata": {
        "id": "TWsR9zX0f2rK"
      }
    },
    {
      "cell_type": "markdown",
      "source": [
        "## **2] Understanding what type content is available in different countries**"
      ],
      "metadata": {
        "id": "_s6wh8wnb7oY"
      }
    },
    {
      "cell_type": "code",
      "source": [
        "fig_donut = px.pie(nf, names='type', height=300, width=600, hole=0.7,\n",
        "title='Most watched on Netflix',\n",
        "color_discrete_sequence=['#b20710', '#221f1f'])\n",
        "fig_donut.update_traces(hovertemplate=None, textposition='outside',\n",
        "textinfo='percent+label', rotation=90)\n",
        "fig_donut.update_layout(margin=dict(t=60, b=30, l=0, r=0), showlegend=False,\n",
        "plot_bgcolor='#333', paper_bgcolor='#333',\n",
        "title_font=dict(size=25, color='#8a8d93', family=\"Lato, sans-serif\"),\n",
        "font=dict(size=17, color='#8a8d93'),\n",
        "hoverlabel=dict(bgcolor=\"#444\", font_size=13,font_family=\"Lato, sans-serif\"))\n"
      ],
      "metadata": {
        "colab": {
          "base_uri": "https://localhost:8080/",
          "height": 317
        },
        "id": "DENrxJTabFzD",
        "outputId": "c5ec3105-d474-4f20-8048-4bd780e0cb76"
      },
      "execution_count": 47,
      "outputs": [
        {
          "output_type": "display_data",
          "data": {
            "text/html": [
              "<html>\n",
              "<head><meta charset=\"utf-8\" /></head>\n",
              "<body>\n",
              "    <div>            <script src=\"https://cdnjs.cloudflare.com/ajax/libs/mathjax/2.7.5/MathJax.js?config=TeX-AMS-MML_SVG\"></script><script type=\"text/javascript\">if (window.MathJax) {MathJax.Hub.Config({SVG: {font: \"STIX-Web\"}});}</script>                <script type=\"text/javascript\">window.PlotlyConfig = {MathJaxConfig: 'local'};</script>\n",
              "        <script src=\"https://cdn.plot.ly/plotly-2.8.3.min.js\"></script>                <div id=\"73d0f5d7-9825-4208-8bb6-09d99055b3ff\" class=\"plotly-graph-div\" style=\"height:300px; width:600px;\"></div>            <script type=\"text/javascript\">                                    window.PLOTLYENV=window.PLOTLYENV || {};                                    if (document.getElementById(\"73d0f5d7-9825-4208-8bb6-09d99055b3ff\")) {                    Plotly.newPlot(                        \"73d0f5d7-9825-4208-8bb6-09d99055b3ff\",                        [{\"domain\":{\"x\":[0.0,1.0],\"y\":[0.0,1.0]},\"hole\":0.7,\"labels\":[\"Movie\",\"Movie\",\"Movie\",\"Movie\",\"TV Show\",\"Movie\",\"Movie\",\"Movie\",\"Movie\",\"Movie\",\"Movie\",\"Movie\",\"Movie\",\"Movie\",\"Movie\",\"Movie\",\"Movie\",\"Movie\",\"Movie\",\"Movie\",\"Movie\",\"Movie\",\"Movie\",\"Movie\",\"Movie\",\"Movie\",\"Movie\",\"Movie\",\"Movie\",\"Movie\",\"Movie\",\"Movie\",\"Movie\",\"Movie\",\"Movie\",\"Movie\",\"Movie\",\"Movie\",\"Movie\",\"Movie\",\"Movie\",\"Movie\",\"Movie\",\"Movie\",\"Movie\",\"Movie\",\"Movie\",\"Movie\",\"Movie\",\"Movie\",\"Movie\",\"Movie\",\"Movie\",\"Movie\",\"Movie\",\"Movie\",\"Movie\",\"Movie\",\"Movie\",\"Movie\",\"Movie\",\"Movie\",\"Movie\",\"Movie\",\"Movie\",\"Movie\",\"Movie\",\"Movie\",\"Movie\",\"Movie\",\"Movie\",\"Movie\",\"Movie\",\"Movie\",\"Movie\",\"Movie\",\"Movie\",\"Movie\",\"Movie\",\"Movie\",\"Movie\",\"Movie\",\"Movie\",\"Movie\",\"Movie\",\"Movie\",\"Movie\",\"Movie\",\"Movie\",\"Movie\",\"Movie\",\"Movie\",\"Movie\",\"Movie\",\"TV Show\",\"Movie\",\"Movie\",\"Movie\",\"Movie\",\"Movie\",\"Movie\",\"Movie\",\"Movie\",\"Movie\",\"Movie\",\"Movie\",\"Movie\",\"Movie\",\"Movie\",\"Movie\",\"Movie\",\"Movie\",\"Movie\",\"Movie\",\"Movie\",\"Movie\",\"Movie\",\"Movie\",\"Movie\",\"Movie\",\"Movie\",\"Movie\",\"Movie\",\"Movie\",\"Movie\",\"Movie\",\"Movie\",\"Movie\",\"Movie\",\"Movie\",\"Movie\",\"Movie\",\"Movie\",\"Movie\",\"Movie\",\"Movie\",\"Movie\",\"Movie\",\"Movie\",\"Movie\",\"Movie\",\"Movie\",\"Movie\",\"Movie\",\"Movie\",\"Movie\",\"Movie\",\"Movie\",\"Movie\",\"Movie\",\"Movie\",\"TV Show\",\"Movie\",\"Movie\",\"Movie\",\"Movie\",\"Movie\",\"Movie\",\"Movie\",\"Movie\",\"Movie\",\"Movie\",\"Movie\",\"Movie\",\"Movie\",\"Movie\",\"Movie\",\"Movie\",\"Movie\",\"Movie\",\"Movie\",\"Movie\",\"Movie\",\"Movie\",\"Movie\",\"Movie\",\"Movie\",\"Movie\",\"Movie\",\"Movie\",\"Movie\",\"TV Show\",\"Movie\",\"Movie\",\"Movie\",\"Movie\",\"Movie\",\"Movie\",\"Movie\",\"Movie\",\"Movie\",\"Movie\",\"Movie\",\"Movie\",\"Movie\",\"Movie\",\"Movie\",\"TV Show\",\"Movie\",\"Movie\",\"Movie\",\"Movie\",\"Movie\",\"TV Show\",\"Movie\",\"Movie\",\"Movie\",\"Movie\",\"Movie\",\"Movie\",\"Movie\",\"Movie\",\"Movie\",\"Movie\",\"Movie\",\"Movie\",\"Movie\",\"Movie\",\"Movie\",\"Movie\",\"Movie\",\"Movie\",\"Movie\",\"Movie\",\"Movie\",\"Movie\",\"Movie\",\"Movie\",\"Movie\",\"Movie\",\"Movie\",\"TV Show\",\"Movie\",\"Movie\",\"Movie\",\"Movie\",\"Movie\",\"Movie\",\"TV Show\",\"Movie\",\"Movie\",\"Movie\",\"Movie\",\"Movie\",\"Movie\",\"Movie\",\"Movie\",\"Movie\",\"Movie\",\"Movie\",\"Movie\",\"Movie\",\"Movie\",\"Movie\",\"Movie\",\"Movie\",\"Movie\",\"Movie\",\"Movie\",\"Movie\",\"Movie\",\"Movie\",\"Movie\",\"Movie\",\"Movie\",\"Movie\",\"Movie\",\"Movie\",\"Movie\",\"Movie\",\"Movie\",\"Movie\",\"Movie\",\"Movie\",\"Movie\",\"Movie\",\"Movie\",\"Movie\",\"Movie\",\"Movie\",\"Movie\",\"Movie\",\"Movie\",\"Movie\",\"Movie\",\"Movie\",\"Movie\",\"Movie\",\"Movie\",\"Movie\",\"Movie\",\"Movie\",\"Movie\",\"Movie\",\"Movie\",\"Movie\",\"TV Show\",\"Movie\",\"Movie\",\"Movie\",\"Movie\",\"Movie\",\"Movie\",\"Movie\",\"Movie\",\"Movie\",\"Movie\",\"Movie\",\"Movie\",\"Movie\",\"Movie\",\"Movie\",\"Movie\",\"Movie\",\"Movie\",\"Movie\",\"Movie\",\"Movie\",\"Movie\",\"Movie\",\"Movie\",\"Movie\",\"Movie\",\"Movie\",\"Movie\",\"Movie\",\"Movie\",\"Movie\",\"Movie\",\"Movie\",\"Movie\",\"Movie\",\"Movie\",\"Movie\",\"Movie\",\"Movie\",\"Movie\",\"Movie\",\"Movie\",\"Movie\",\"Movie\",\"Movie\",\"Movie\",\"Movie\",\"Movie\",\"Movie\",\"Movie\",\"Movie\",\"Movie\",\"Movie\",\"Movie\",\"Movie\",\"Movie\",\"Movie\",\"Movie\",\"Movie\",\"Movie\",\"Movie\",\"Movie\",\"Movie\",\"Movie\",\"Movie\",\"Movie\",\"Movie\",\"Movie\",\"Movie\",\"Movie\",\"Movie\",\"Movie\",\"Movie\",\"Movie\",\"TV Show\",\"Movie\",\"Movie\",\"Movie\",\"Movie\",\"Movie\",\"Movie\",\"Movie\",\"Movie\",\"Movie\",\"Movie\",\"Movie\",\"Movie\",\"Movie\",\"Movie\",\"Movie\",\"Movie\",\"Movie\",\"Movie\",\"Movie\",\"Movie\",\"Movie\",\"Movie\",\"Movie\",\"Movie\",\"Movie\",\"Movie\",\"TV Show\",\"Movie\",\"Movie\",\"Movie\",\"Movie\",\"TV Show\",\"Movie\",\"Movie\",\"Movie\",\"Movie\",\"Movie\",\"Movie\",\"Movie\",\"Movie\",\"Movie\",\"Movie\",\"Movie\",\"Movie\",\"Movie\",\"Movie\",\"Movie\",\"Movie\",\"Movie\",\"Movie\",\"Movie\",\"Movie\",\"Movie\",\"Movie\",\"Movie\",\"Movie\",\"Movie\",\"Movie\",\"Movie\",\"Movie\",\"Movie\",\"Movie\",\"Movie\",\"Movie\",\"Movie\",\"Movie\",\"Movie\",\"Movie\",\"Movie\",\"Movie\",\"Movie\",\"Movie\",\"Movie\",\"Movie\",\"Movie\",\"Movie\",\"Movie\",\"Movie\",\"Movie\",\"Movie\",\"Movie\",\"Movie\",\"Movie\",\"Movie\",\"Movie\",\"Movie\",\"Movie\",\"Movie\",\"Movie\",\"Movie\",\"Movie\",\"Movie\",\"Movie\",\"Movie\",\"Movie\",\"Movie\",\"Movie\",\"Movie\",\"Movie\",\"Movie\",\"Movie\",\"Movie\",\"Movie\",\"Movie\",\"Movie\",\"Movie\",\"Movie\",\"Movie\",\"Movie\",\"Movie\",\"Movie\",\"Movie\",\"Movie\",\"Movie\",\"Movie\",\"Movie\",\"Movie\",\"Movie\",\"Movie\",\"Movie\",\"Movie\",\"Movie\",\"Movie\",\"Movie\",\"Movie\",\"Movie\",\"Movie\",\"Movie\",\"Movie\",\"Movie\",\"Movie\",\"Movie\",\"Movie\",\"Movie\",\"Movie\",\"Movie\",\"Movie\",\"Movie\",\"Movie\",\"Movie\",\"Movie\",\"Movie\",\"Movie\",\"Movie\",\"Movie\",\"Movie\",\"Movie\",\"Movie\",\"Movie\",\"Movie\",\"Movie\",\"Movie\",\"Movie\",\"Movie\",\"Movie\",\"Movie\",\"Movie\",\"Movie\",\"Movie\",\"Movie\",\"Movie\",\"Movie\",\"Movie\",\"Movie\",\"Movie\",\"Movie\",\"Movie\",\"Movie\",\"Movie\",\"Movie\",\"Movie\",\"Movie\",\"TV Show\",\"Movie\",\"Movie\",\"Movie\",\"Movie\",\"Movie\",\"Movie\",\"Movie\",\"Movie\",\"Movie\",\"Movie\",\"Movie\",\"Movie\",\"Movie\",\"Movie\",\"Movie\",\"Movie\",\"Movie\",\"Movie\",\"Movie\",\"Movie\",\"Movie\",\"Movie\",\"Movie\",\"Movie\",\"Movie\",\"Movie\",\"Movie\",\"Movie\",\"Movie\",\"Movie\",\"Movie\",\"Movie\",\"Movie\",\"Movie\",\"Movie\",\"Movie\",\"Movie\",\"Movie\",\"Movie\",\"Movie\",\"Movie\",\"Movie\",\"Movie\",\"Movie\",\"Movie\",\"Movie\",\"Movie\",\"Movie\",\"Movie\",\"Movie\",\"Movie\",\"Movie\",\"Movie\",\"Movie\",\"Movie\",\"Movie\",\"Movie\",\"Movie\",\"Movie\",\"Movie\",\"Movie\",\"Movie\",\"Movie\",\"Movie\",\"Movie\",\"Movie\",\"Movie\",\"Movie\",\"Movie\",\"Movie\",\"Movie\",\"Movie\",\"Movie\",\"Movie\",\"Movie\",\"Movie\",\"Movie\",\"Movie\",\"Movie\",\"Movie\",\"Movie\",\"Movie\",\"Movie\",\"Movie\",\"Movie\",\"Movie\",\"Movie\",\"Movie\",\"Movie\",\"Movie\",\"Movie\",\"Movie\",\"Movie\",\"TV Show\",\"Movie\",\"Movie\",\"Movie\",\"Movie\",\"Movie\",\"Movie\",\"Movie\",\"TV Show\",\"Movie\",\"Movie\",\"Movie\",\"Movie\",\"Movie\",\"Movie\",\"Movie\",\"Movie\",\"Movie\",\"Movie\",\"Movie\",\"Movie\",\"Movie\",\"Movie\",\"Movie\",\"Movie\",\"Movie\",\"Movie\",\"Movie\",\"Movie\",\"Movie\",\"Movie\",\"Movie\",\"Movie\",\"Movie\",\"Movie\",\"Movie\",\"Movie\",\"Movie\",\"Movie\",\"Movie\",\"Movie\",\"Movie\",\"Movie\",\"Movie\",\"Movie\",\"Movie\",\"Movie\",\"Movie\",\"Movie\",\"Movie\",\"Movie\",\"Movie\",\"Movie\",\"TV Show\",\"Movie\",\"Movie\",\"Movie\",\"Movie\",\"Movie\",\"Movie\",\"Movie\",\"Movie\",\"Movie\",\"Movie\",\"Movie\",\"Movie\",\"Movie\",\"Movie\",\"Movie\",\"Movie\",\"Movie\",\"Movie\",\"Movie\",\"Movie\",\"Movie\",\"Movie\",\"Movie\",\"Movie\",\"Movie\",\"Movie\",\"Movie\",\"Movie\",\"Movie\",\"Movie\",\"TV Show\",\"Movie\",\"Movie\",\"Movie\",\"Movie\",\"Movie\",\"Movie\",\"Movie\",\"Movie\",\"Movie\",\"Movie\",\"Movie\",\"Movie\",\"Movie\",\"Movie\",\"TV Show\",\"Movie\",\"Movie\",\"Movie\",\"Movie\",\"Movie\",\"Movie\",\"Movie\",\"Movie\",\"Movie\",\"Movie\",\"Movie\",\"Movie\",\"Movie\",\"Movie\",\"Movie\",\"Movie\",\"Movie\",\"Movie\",\"Movie\",\"Movie\",\"Movie\",\"Movie\",\"Movie\",\"Movie\",\"Movie\",\"Movie\",\"Movie\",\"Movie\",\"Movie\",\"Movie\",\"Movie\",\"Movie\",\"Movie\",\"Movie\",\"Movie\",\"Movie\",\"Movie\",\"Movie\",\"Movie\",\"Movie\",\"Movie\",\"Movie\",\"Movie\",\"Movie\",\"Movie\",\"TV Show\",\"Movie\",\"Movie\",\"Movie\",\"TV Show\",\"Movie\",\"Movie\",\"Movie\",\"Movie\",\"Movie\",\"Movie\",\"Movie\",\"Movie\",\"Movie\",\"Movie\",\"Movie\",\"Movie\",\"Movie\",\"Movie\",\"Movie\",\"Movie\",\"Movie\",\"Movie\",\"Movie\",\"Movie\",\"Movie\",\"Movie\",\"Movie\",\"Movie\",\"Movie\",\"Movie\",\"Movie\",\"Movie\",\"Movie\",\"Movie\",\"Movie\",\"Movie\",\"Movie\",\"Movie\",\"Movie\",\"Movie\",\"Movie\",\"Movie\",\"Movie\",\"Movie\",\"Movie\",\"Movie\",\"Movie\",\"Movie\",\"Movie\",\"Movie\",\"Movie\",\"Movie\",\"Movie\",\"Movie\",\"Movie\",\"Movie\",\"Movie\",\"Movie\",\"Movie\",\"Movie\",\"Movie\",\"Movie\",\"Movie\",\"Movie\",\"Movie\",\"Movie\",\"Movie\",\"Movie\",\"Movie\",\"Movie\",\"Movie\",\"TV Show\",\"Movie\",\"Movie\",\"Movie\",\"Movie\",\"Movie\",\"Movie\",\"Movie\",\"Movie\",\"Movie\",\"Movie\",\"Movie\",\"Movie\",\"Movie\",\"Movie\",\"Movie\",\"Movie\",\"Movie\",\"Movie\",\"Movie\",\"Movie\",\"Movie\",\"Movie\",\"Movie\",\"Movie\",\"Movie\",\"Movie\",\"Movie\",\"Movie\",\"Movie\",\"Movie\",\"Movie\",\"Movie\",\"Movie\",\"Movie\",\"Movie\",\"Movie\",\"Movie\",\"Movie\",\"Movie\",\"Movie\",\"Movie\",\"Movie\",\"Movie\",\"Movie\",\"Movie\",\"Movie\",\"Movie\",\"Movie\",\"Movie\",\"Movie\",\"Movie\",\"Movie\",\"Movie\",\"Movie\",\"Movie\",\"Movie\",\"Movie\",\"Movie\",\"Movie\",\"Movie\",\"Movie\",\"Movie\",\"Movie\",\"Movie\",\"Movie\",\"Movie\",\"Movie\",\"Movie\",\"Movie\",\"Movie\",\"Movie\",\"Movie\",\"Movie\",\"Movie\",\"Movie\",\"Movie\",\"Movie\",\"Movie\",\"Movie\",\"Movie\",\"Movie\",\"Movie\",\"Movie\",\"Movie\",\"Movie\",\"Movie\",\"Movie\",\"Movie\",\"Movie\",\"TV Show\",\"Movie\",\"Movie\",\"Movie\",\"Movie\",\"Movie\",\"Movie\",\"Movie\",\"Movie\",\"Movie\",\"Movie\",\"Movie\",\"Movie\",\"Movie\",\"Movie\",\"Movie\",\"Movie\",\"Movie\",\"Movie\",\"Movie\",\"Movie\",\"Movie\",\"Movie\",\"Movie\",\"Movie\",\"Movie\",\"Movie\",\"Movie\",\"TV Show\",\"Movie\",\"Movie\",\"Movie\",\"TV Show\",\"TV Show\",\"Movie\",\"Movie\",\"Movie\",\"Movie\",\"Movie\",\"Movie\",\"Movie\",\"Movie\",\"Movie\",\"Movie\",\"Movie\",\"Movie\",\"Movie\",\"Movie\",\"Movie\",\"Movie\",\"Movie\",\"Movie\",\"Movie\",\"Movie\",\"Movie\",\"Movie\",\"Movie\",\"Movie\",\"Movie\",\"Movie\",\"Movie\",\"Movie\",\"Movie\",\"Movie\",\"Movie\",\"Movie\",\"Movie\",\"Movie\",\"Movie\",\"Movie\",\"Movie\",\"Movie\",\"Movie\",\"Movie\",\"Movie\",\"Movie\",\"Movie\",\"Movie\",\"Movie\",\"Movie\",\"Movie\",\"Movie\",\"Movie\",\"Movie\",\"Movie\",\"Movie\",\"Movie\",\"TV Show\",\"TV Show\",\"Movie\",\"Movie\",\"Movie\",\"Movie\",\"Movie\",\"Movie\",\"Movie\",\"Movie\",\"TV Show\",\"Movie\",\"Movie\",\"Movie\",\"Movie\",\"Movie\",\"Movie\",\"Movie\",\"Movie\",\"Movie\",\"Movie\",\"Movie\",\"Movie\",\"Movie\",\"Movie\",\"Movie\",\"Movie\",\"Movie\",\"Movie\",\"Movie\",\"Movie\",\"Movie\",\"Movie\",\"Movie\",\"Movie\",\"Movie\",\"Movie\",\"Movie\",\"Movie\",\"Movie\",\"Movie\",\"TV Show\",\"Movie\",\"Movie\",\"Movie\",\"Movie\",\"Movie\",\"Movie\",\"Movie\",\"Movie\",\"Movie\",\"Movie\",\"Movie\",\"Movie\",\"Movie\",\"Movie\",\"Movie\",\"Movie\",\"Movie\",\"Movie\",\"Movie\",\"TV Show\",\"Movie\",\"Movie\",\"Movie\",\"Movie\",\"Movie\",\"Movie\",\"Movie\",\"TV Show\",\"Movie\",\"Movie\",\"Movie\",\"Movie\",\"Movie\",\"Movie\",\"Movie\",\"Movie\",\"Movie\",\"Movie\",\"Movie\",\"Movie\",\"Movie\",\"Movie\",\"Movie\",\"Movie\",\"Movie\",\"Movie\",\"Movie\",\"Movie\",\"Movie\",\"Movie\",\"Movie\",\"Movie\",\"Movie\",\"Movie\",\"Movie\",\"Movie\",\"Movie\",\"Movie\",\"Movie\",\"Movie\",\"Movie\",\"Movie\",\"Movie\",\"Movie\",\"Movie\",\"Movie\",\"Movie\",\"Movie\",\"Movie\",\"Movie\",\"Movie\",\"Movie\",\"Movie\",\"Movie\",\"Movie\",\"Movie\",\"Movie\",\"Movie\",\"Movie\",\"Movie\",\"Movie\",\"Movie\",\"Movie\",\"Movie\",\"Movie\",\"Movie\",\"Movie\",\"Movie\",\"Movie\",\"Movie\",\"Movie\",\"Movie\",\"Movie\",\"Movie\",\"Movie\",\"Movie\",\"Movie\",\"Movie\",\"Movie\",\"Movie\",\"Movie\",\"Movie\",\"Movie\",\"Movie\",\"Movie\",\"Movie\",\"Movie\",\"Movie\",\"Movie\",\"Movie\",\"Movie\",\"Movie\",\"Movie\",\"Movie\",\"Movie\",\"Movie\",\"Movie\",\"Movie\",\"Movie\",\"Movie\",\"Movie\",\"Movie\",\"Movie\",\"Movie\",\"Movie\",\"Movie\",\"Movie\",\"Movie\",\"Movie\",\"Movie\",\"Movie\",\"Movie\",\"Movie\",\"Movie\",\"Movie\",\"Movie\",\"Movie\",\"Movie\",\"Movie\",\"Movie\",\"Movie\",\"Movie\",\"Movie\",\"Movie\",\"Movie\",\"Movie\",\"Movie\",\"Movie\",\"Movie\",\"Movie\",\"Movie\",\"Movie\",\"Movie\",\"Movie\",\"Movie\",\"Movie\",\"Movie\",\"Movie\",\"Movie\",\"Movie\",\"Movie\",\"Movie\",\"Movie\",\"Movie\",\"Movie\",\"Movie\",\"Movie\",\"Movie\",\"Movie\",\"Movie\",\"Movie\",\"Movie\",\"Movie\",\"Movie\",\"Movie\",\"Movie\",\"Movie\",\"Movie\",\"Movie\",\"Movie\",\"Movie\",\"TV Show\",\"Movie\",\"Movie\",\"Movie\",\"Movie\",\"Movie\",\"Movie\",\"Movie\",\"Movie\",\"Movie\",\"Movie\",\"Movie\",\"Movie\",\"Movie\",\"Movie\",\"Movie\",\"Movie\",\"Movie\",\"Movie\",\"Movie\",\"Movie\",\"Movie\",\"Movie\",\"Movie\",\"Movie\",\"Movie\",\"Movie\",\"Movie\",\"Movie\",\"Movie\",\"Movie\",\"Movie\",\"Movie\",\"Movie\",\"Movie\",\"Movie\",\"Movie\",\"Movie\",\"Movie\",\"Movie\",\"Movie\",\"Movie\",\"Movie\",\"Movie\",\"Movie\",\"Movie\",\"Movie\",\"Movie\",\"Movie\",\"Movie\",\"Movie\",\"Movie\",\"Movie\",\"Movie\",\"Movie\",\"Movie\",\"Movie\",\"Movie\",\"Movie\",\"Movie\",\"Movie\",\"Movie\",\"Movie\",\"Movie\",\"Movie\",\"Movie\",\"Movie\",\"Movie\",\"Movie\",\"Movie\",\"Movie\",\"Movie\",\"Movie\",\"Movie\",\"Movie\",\"Movie\",\"Movie\",\"Movie\",\"TV Show\",\"Movie\",\"Movie\",\"Movie\",\"Movie\",\"Movie\",\"TV Show\",\"Movie\",\"Movie\",\"Movie\",\"TV Show\",\"Movie\",\"Movie\",\"Movie\",\"Movie\",\"Movie\",\"Movie\",\"Movie\",\"Movie\",\"Movie\",\"Movie\",\"Movie\",\"Movie\",\"Movie\",\"Movie\",\"Movie\",\"Movie\",\"Movie\",\"Movie\",\"Movie\",\"Movie\",\"Movie\",\"Movie\",\"Movie\",\"Movie\",\"Movie\",\"Movie\",\"Movie\",\"Movie\",\"Movie\",\"Movie\",\"Movie\",\"Movie\",\"Movie\",\"Movie\",\"Movie\",\"Movie\",\"Movie\",\"Movie\",\"TV Show\",\"Movie\",\"Movie\",\"Movie\",\"Movie\",\"Movie\",\"Movie\",\"Movie\",\"Movie\",\"Movie\",\"Movie\",\"Movie\",\"Movie\",\"Movie\",\"Movie\",\"Movie\",\"Movie\",\"Movie\",\"Movie\",\"Movie\",\"Movie\",\"Movie\",\"Movie\",\"Movie\",\"Movie\",\"Movie\",\"Movie\",\"Movie\",\"Movie\",\"Movie\",\"Movie\",\"Movie\",\"Movie\",\"Movie\",\"Movie\",\"Movie\",\"Movie\",\"Movie\",\"Movie\",\"Movie\",\"Movie\",\"Movie\",\"Movie\",\"Movie\",\"Movie\",\"Movie\",\"Movie\",\"Movie\",\"Movie\",\"Movie\",\"Movie\",\"Movie\",\"Movie\",\"Movie\",\"Movie\",\"Movie\",\"Movie\",\"Movie\",\"TV Show\",\"Movie\",\"Movie\",\"Movie\",\"Movie\",\"Movie\",\"Movie\",\"Movie\",\"Movie\",\"TV Show\",\"Movie\",\"Movie\",\"Movie\",\"Movie\",\"Movie\",\"Movie\",\"Movie\",\"Movie\",\"Movie\",\"Movie\",\"Movie\",\"Movie\",\"Movie\",\"Movie\",\"Movie\",\"Movie\",\"Movie\",\"Movie\",\"Movie\",\"Movie\",\"Movie\",\"Movie\",\"Movie\",\"Movie\",\"Movie\",\"Movie\",\"Movie\",\"Movie\",\"Movie\",\"Movie\",\"Movie\",\"Movie\",\"TV Show\",\"Movie\",\"Movie\",\"Movie\",\"Movie\",\"Movie\",\"Movie\",\"Movie\",\"Movie\",\"Movie\",\"Movie\",\"Movie\",\"TV Show\",\"Movie\",\"Movie\",\"Movie\",\"Movie\",\"Movie\",\"Movie\",\"Movie\",\"Movie\",\"Movie\",\"Movie\",\"Movie\",\"Movie\",\"Movie\",\"Movie\",\"Movie\",\"Movie\",\"Movie\",\"Movie\",\"Movie\",\"TV Show\",\"Movie\",\"Movie\",\"Movie\",\"Movie\",\"Movie\",\"Movie\",\"Movie\",\"Movie\",\"Movie\",\"Movie\",\"Movie\",\"Movie\",\"TV Show\",\"Movie\",\"Movie\",\"Movie\",\"TV Show\",\"Movie\",\"Movie\",\"Movie\",\"Movie\",\"Movie\",\"Movie\",\"Movie\",\"Movie\",\"Movie\",\"Movie\",\"TV Show\",\"Movie\",\"Movie\",\"TV Show\",\"Movie\",\"Movie\",\"Movie\",\"Movie\",\"Movie\",\"Movie\",\"Movie\",\"Movie\",\"Movie\",\"TV Show\",\"Movie\",\"Movie\",\"Movie\",\"Movie\",\"Movie\",\"Movie\",\"Movie\",\"Movie\",\"Movie\",\"Movie\",\"Movie\",\"Movie\",\"Movie\",\"Movie\",\"Movie\",\"Movie\",\"Movie\",\"Movie\",\"Movie\",\"Movie\",\"TV Show\",\"Movie\",\"Movie\",\"Movie\",\"Movie\",\"Movie\",\"Movie\",\"Movie\",\"Movie\",\"Movie\",\"Movie\",\"Movie\",\"Movie\",\"Movie\",\"Movie\",\"Movie\",\"Movie\",\"Movie\",\"Movie\",\"Movie\",\"Movie\",\"Movie\",\"Movie\",\"Movie\",\"Movie\",\"Movie\",\"Movie\",\"Movie\",\"Movie\",\"Movie\",\"Movie\",\"Movie\",\"Movie\",\"Movie\",\"Movie\",\"Movie\",\"Movie\",\"Movie\",\"Movie\",\"Movie\",\"Movie\",\"Movie\",\"Movie\",\"Movie\",\"Movie\",\"Movie\",\"Movie\",\"Movie\",\"Movie\",\"Movie\",\"Movie\",\"Movie\",\"Movie\",\"Movie\",\"Movie\",\"Movie\",\"Movie\",\"Movie\",\"Movie\",\"Movie\",\"Movie\",\"Movie\",\"Movie\",\"Movie\",\"Movie\",\"Movie\",\"Movie\",\"Movie\",\"Movie\",\"Movie\",\"Movie\",\"Movie\",\"Movie\",\"Movie\",\"Movie\",\"Movie\",\"Movie\",\"Movie\",\"Movie\",\"Movie\",\"Movie\",\"Movie\",\"Movie\",\"Movie\",\"Movie\",\"Movie\",\"Movie\",\"Movie\",\"Movie\",\"Movie\",\"Movie\",\"Movie\",\"Movie\",\"Movie\",\"Movie\",\"Movie\",\"Movie\",\"Movie\",\"Movie\",\"Movie\",\"Movie\",\"Movie\",\"Movie\",\"Movie\",\"Movie\",\"Movie\",\"Movie\",\"Movie\",\"Movie\",\"Movie\",\"Movie\",\"Movie\",\"Movie\",\"Movie\",\"Movie\",\"TV Show\",\"Movie\",\"Movie\",\"Movie\",\"Movie\",\"Movie\",\"Movie\",\"Movie\",\"Movie\",\"Movie\",\"Movie\",\"Movie\",\"Movie\",\"Movie\",\"Movie\",\"Movie\",\"Movie\",\"Movie\",\"Movie\",\"Movie\",\"Movie\",\"Movie\",\"Movie\",\"Movie\",\"Movie\",\"Movie\",\"Movie\",\"Movie\",\"Movie\",\"Movie\",\"Movie\",\"Movie\",\"TV Show\",\"Movie\",\"TV Show\",\"Movie\",\"Movie\",\"Movie\",\"Movie\",\"Movie\",\"Movie\",\"Movie\",\"Movie\",\"Movie\",\"Movie\",\"Movie\",\"Movie\",\"Movie\",\"Movie\",\"Movie\",\"Movie\",\"Movie\",\"Movie\",\"Movie\",\"Movie\",\"Movie\",\"Movie\",\"Movie\",\"Movie\",\"Movie\",\"Movie\",\"Movie\",\"Movie\",\"Movie\",\"Movie\",\"Movie\",\"Movie\",\"Movie\",\"Movie\",\"Movie\",\"Movie\",\"Movie\",\"Movie\",\"Movie\",\"Movie\",\"Movie\",\"Movie\",\"Movie\",\"Movie\",\"Movie\",\"Movie\",\"Movie\",\"Movie\",\"Movie\",\"Movie\",\"Movie\",\"Movie\",\"Movie\",\"Movie\",\"Movie\",\"Movie\",\"Movie\",\"Movie\",\"Movie\",\"Movie\",\"Movie\",\"Movie\",\"Movie\",\"Movie\",\"Movie\",\"Movie\",\"Movie\",\"Movie\",\"Movie\",\"Movie\",\"Movie\",\"Movie\",\"Movie\",\"Movie\",\"Movie\",\"Movie\",\"Movie\",\"Movie\",\"Movie\",\"Movie\",\"Movie\",\"Movie\",\"Movie\",\"Movie\",\"Movie\",\"Movie\",\"Movie\",\"Movie\",\"Movie\",\"Movie\",\"Movie\",\"Movie\",\"Movie\",\"Movie\",\"Movie\",\"Movie\",\"Movie\",\"Movie\",\"Movie\",\"Movie\",\"Movie\",\"Movie\",\"Movie\",\"Movie\",\"Movie\",\"Movie\",\"Movie\",\"Movie\",\"Movie\",\"Movie\",\"Movie\",\"Movie\",\"Movie\",\"Movie\",\"Movie\",\"Movie\",\"Movie\",\"Movie\",\"Movie\",\"Movie\",\"Movie\",\"Movie\",\"Movie\",\"Movie\",\"Movie\",\"Movie\",\"Movie\",\"Movie\",\"Movie\",\"Movie\",\"Movie\",\"Movie\",\"Movie\",\"Movie\",\"Movie\",\"Movie\",\"Movie\",\"Movie\",\"Movie\",\"Movie\",\"Movie\",\"Movie\",\"Movie\",\"Movie\",\"Movie\",\"Movie\",\"Movie\",\"Movie\",\"Movie\",\"Movie\",\"Movie\",\"Movie\",\"Movie\",\"TV Show\",\"Movie\",\"Movie\",\"Movie\",\"TV Show\",\"Movie\",\"Movie\",\"Movie\",\"Movie\",\"Movie\",\"Movie\",\"Movie\",\"Movie\",\"Movie\",\"Movie\",\"Movie\",\"Movie\",\"Movie\",\"Movie\",\"Movie\",\"Movie\",\"Movie\",\"Movie\",\"Movie\",\"Movie\",\"Movie\",\"Movie\",\"Movie\",\"Movie\",\"Movie\",\"Movie\",\"Movie\",\"Movie\",\"Movie\",\"Movie\",\"Movie\",\"Movie\",\"Movie\",\"Movie\",\"Movie\",\"Movie\",\"Movie\",\"Movie\",\"Movie\",\"Movie\",\"Movie\",\"Movie\",\"Movie\",\"Movie\",\"Movie\",\"Movie\",\"Movie\",\"Movie\",\"Movie\",\"Movie\",\"Movie\",\"TV Show\",\"Movie\",\"Movie\",\"Movie\",\"Movie\",\"Movie\",\"Movie\",\"Movie\",\"Movie\",\"Movie\",\"Movie\",\"Movie\",\"Movie\",\"Movie\",\"Movie\",\"Movie\",\"Movie\",\"TV Show\",\"TV Show\",\"Movie\",\"Movie\",\"Movie\",\"Movie\",\"Movie\",\"Movie\",\"Movie\",\"Movie\",\"Movie\",\"Movie\",\"Movie\",\"Movie\",\"Movie\",\"Movie\",\"Movie\",\"Movie\",\"Movie\",\"Movie\",\"Movie\",\"Movie\",\"Movie\",\"Movie\",\"Movie\",\"Movie\",\"Movie\",\"Movie\",\"Movie\",\"Movie\",\"Movie\",\"Movie\",\"Movie\",\"Movie\",\"Movie\",\"Movie\",\"Movie\",\"Movie\",\"Movie\",\"Movie\",\"Movie\",\"Movie\",\"Movie\",\"Movie\",\"Movie\",\"Movie\",\"Movie\",\"Movie\",\"Movie\",\"Movie\",\"Movie\",\"Movie\",\"Movie\",\"Movie\",\"Movie\",\"Movie\",\"Movie\",\"Movie\",\"Movie\",\"Movie\",\"Movie\",\"Movie\",\"Movie\",\"Movie\",\"Movie\",\"Movie\",\"Movie\",\"Movie\",\"Movie\",\"Movie\",\"Movie\",\"Movie\",\"Movie\",\"Movie\",\"Movie\",\"TV Show\",\"Movie\",\"Movie\",\"Movie\",\"Movie\",\"Movie\",\"Movie\",\"Movie\",\"Movie\",\"Movie\",\"Movie\",\"Movie\",\"Movie\",\"TV Show\",\"Movie\",\"Movie\",\"Movie\",\"Movie\",\"Movie\",\"Movie\",\"Movie\",\"Movie\",\"Movie\",\"Movie\",\"Movie\",\"Movie\",\"Movie\",\"Movie\",\"Movie\",\"Movie\",\"Movie\",\"Movie\",\"Movie\",\"Movie\",\"Movie\",\"Movie\",\"Movie\",\"Movie\",\"Movie\",\"Movie\",\"Movie\",\"Movie\",\"Movie\",\"Movie\",\"Movie\",\"Movie\",\"Movie\",\"Movie\",\"Movie\",\"Movie\",\"Movie\",\"Movie\",\"Movie\",\"Movie\",\"Movie\",\"Movie\",\"Movie\",\"Movie\",\"Movie\",\"Movie\",\"Movie\",\"Movie\",\"Movie\",\"Movie\",\"Movie\",\"Movie\",\"Movie\",\"Movie\",\"Movie\",\"Movie\",\"Movie\",\"Movie\",\"Movie\",\"Movie\",\"Movie\",\"Movie\",\"Movie\",\"Movie\",\"Movie\",\"Movie\",\"Movie\",\"Movie\",\"Movie\",\"TV Show\",\"Movie\",\"Movie\",\"Movie\",\"Movie\",\"Movie\",\"Movie\",\"Movie\",\"Movie\",\"Movie\",\"Movie\",\"Movie\",\"Movie\",\"Movie\",\"Movie\",\"Movie\",\"Movie\",\"Movie\",\"Movie\",\"Movie\",\"Movie\",\"Movie\",\"Movie\",\"Movie\",\"Movie\",\"Movie\",\"Movie\",\"Movie\",\"Movie\",\"Movie\",\"Movie\",\"Movie\",\"Movie\",\"Movie\",\"Movie\",\"Movie\",\"Movie\",\"Movie\",\"Movie\",\"Movie\",\"Movie\",\"Movie\",\"Movie\",\"Movie\",\"Movie\",\"Movie\",\"Movie\",\"Movie\",\"Movie\",\"Movie\",\"Movie\",\"Movie\",\"Movie\",\"Movie\",\"Movie\",\"Movie\",\"Movie\",\"Movie\",\"Movie\",\"Movie\",\"Movie\",\"Movie\",\"Movie\",\"Movie\",\"Movie\",\"Movie\",\"Movie\",\"Movie\",\"Movie\",\"Movie\",\"Movie\",\"Movie\",\"Movie\",\"Movie\",\"Movie\",\"Movie\",\"Movie\",\"Movie\",\"Movie\",\"Movie\",\"Movie\",\"Movie\",\"Movie\",\"Movie\",\"Movie\",\"Movie\",\"Movie\",\"Movie\",\"Movie\",\"Movie\",\"Movie\",\"TV Show\",\"Movie\",\"Movie\",\"Movie\",\"Movie\",\"Movie\",\"Movie\",\"Movie\",\"Movie\",\"Movie\",\"Movie\",\"Movie\",\"Movie\",\"TV Show\",\"Movie\",\"Movie\",\"Movie\",\"Movie\",\"Movie\",\"Movie\",\"Movie\",\"Movie\",\"Movie\",\"Movie\",\"Movie\",\"Movie\",\"Movie\",\"Movie\",\"Movie\",\"Movie\",\"Movie\",\"Movie\",\"Movie\",\"Movie\",\"Movie\",\"TV Show\",\"Movie\",\"Movie\",\"Movie\",\"Movie\",\"Movie\",\"Movie\",\"Movie\",\"Movie\",\"Movie\",\"Movie\",\"Movie\",\"Movie\",\"Movie\",\"Movie\",\"Movie\",\"Movie\",\"Movie\",\"Movie\",\"Movie\",\"Movie\",\"Movie\",\"Movie\",\"TV Show\",\"Movie\",\"Movie\",\"Movie\",\"Movie\",\"Movie\",\"Movie\",\"Movie\",\"Movie\",\"Movie\",\"Movie\",\"Movie\",\"TV Show\",\"Movie\",\"Movie\",\"Movie\",\"Movie\",\"Movie\",\"Movie\",\"Movie\",\"Movie\",\"Movie\",\"Movie\",\"Movie\",\"Movie\",\"Movie\",\"Movie\",\"Movie\",\"Movie\",\"Movie\",\"Movie\",\"Movie\",\"Movie\",\"Movie\",\"Movie\",\"Movie\",\"Movie\",\"Movie\",\"Movie\",\"Movie\",\"Movie\",\"Movie\",\"Movie\",\"Movie\",\"Movie\",\"Movie\",\"Movie\",\"Movie\",\"Movie\",\"Movie\",\"Movie\",\"Movie\",\"Movie\",\"Movie\",\"Movie\",\"Movie\",\"Movie\",\"Movie\",\"Movie\",\"Movie\",\"Movie\",\"Movie\",\"Movie\",\"Movie\",\"Movie\",\"Movie\",\"TV Show\",\"Movie\",\"Movie\",\"Movie\",\"Movie\",\"Movie\",\"Movie\",\"Movie\",\"Movie\",\"Movie\",\"Movie\",\"Movie\",\"Movie\",\"Movie\",\"Movie\",\"Movie\",\"Movie\",\"Movie\",\"Movie\",\"Movie\",\"Movie\",\"Movie\",\"Movie\",\"Movie\",\"Movie\",\"Movie\",\"Movie\",\"Movie\",\"Movie\",\"Movie\",\"Movie\",\"Movie\",\"Movie\",\"Movie\",\"Movie\",\"Movie\",\"Movie\",\"Movie\",\"Movie\",\"Movie\",\"Movie\",\"Movie\",\"Movie\",\"Movie\",\"Movie\",\"Movie\",\"Movie\",\"Movie\",\"Movie\",\"Movie\",\"Movie\",\"Movie\",\"Movie\",\"Movie\",\"Movie\",\"Movie\",\"Movie\",\"Movie\",\"Movie\",\"Movie\",\"Movie\",\"Movie\",\"Movie\",\"Movie\",\"Movie\",\"Movie\",\"Movie\",\"Movie\",\"Movie\",\"Movie\",\"Movie\",\"Movie\",\"Movie\",\"Movie\",\"Movie\",\"Movie\",\"Movie\",\"Movie\",\"Movie\",\"Movie\",\"Movie\",\"Movie\",\"Movie\",\"TV Show\",\"Movie\",\"Movie\",\"Movie\",\"Movie\",\"Movie\",\"Movie\",\"Movie\",\"Movie\",\"Movie\",\"Movie\",\"Movie\",\"Movie\",\"Movie\",\"Movie\",\"Movie\",\"Movie\",\"Movie\",\"Movie\",\"Movie\",\"Movie\",\"Movie\",\"Movie\",\"Movie\",\"Movie\",\"Movie\",\"Movie\",\"TV Show\",\"Movie\",\"Movie\",\"Movie\",\"Movie\",\"Movie\",\"Movie\",\"Movie\",\"Movie\",\"Movie\",\"Movie\",\"Movie\",\"Movie\",\"Movie\",\"Movie\",\"Movie\",\"Movie\",\"Movie\",\"Movie\",\"Movie\",\"Movie\",\"Movie\",\"Movie\",\"Movie\",\"Movie\",\"Movie\",\"Movie\",\"Movie\",\"Movie\",\"Movie\",\"Movie\",\"Movie\",\"Movie\",\"Movie\",\"Movie\",\"Movie\",\"Movie\",\"Movie\",\"Movie\",\"TV Show\",\"Movie\",\"Movie\",\"Movie\",\"Movie\",\"Movie\",\"Movie\",\"Movie\",\"Movie\",\"Movie\",\"Movie\",\"Movie\",\"Movie\",\"Movie\",\"Movie\",\"Movie\",\"Movie\",\"Movie\",\"Movie\",\"Movie\",\"Movie\",\"Movie\",\"Movie\",\"Movie\",\"Movie\",\"Movie\",\"Movie\",\"Movie\",\"Movie\",\"Movie\",\"Movie\",\"Movie\",\"Movie\",\"Movie\",\"Movie\",\"Movie\",\"Movie\",\"Movie\",\"Movie\",\"Movie\",\"Movie\",\"Movie\",\"Movie\",\"Movie\",\"Movie\",\"Movie\",\"TV Show\",\"Movie\",\"Movie\",\"Movie\",\"Movie\",\"Movie\",\"Movie\",\"Movie\",\"Movie\",\"Movie\",\"Movie\",\"TV Show\",\"Movie\",\"Movie\",\"Movie\",\"Movie\",\"Movie\",\"TV Show\",\"Movie\",\"Movie\",\"Movie\",\"Movie\",\"Movie\",\"Movie\",\"Movie\",\"Movie\",\"Movie\",\"Movie\",\"Movie\",\"Movie\",\"Movie\",\"Movie\",\"TV Show\",\"Movie\",\"Movie\",\"Movie\",\"Movie\",\"Movie\",\"Movie\",\"Movie\",\"Movie\",\"Movie\",\"Movie\",\"Movie\",\"Movie\",\"Movie\",\"Movie\",\"Movie\",\"Movie\",\"Movie\",\"Movie\",\"Movie\",\"Movie\",\"Movie\",\"Movie\",\"TV Show\",\"Movie\",\"Movie\",\"Movie\",\"Movie\",\"Movie\",\"Movie\",\"Movie\",\"Movie\",\"Movie\",\"Movie\",\"Movie\",\"Movie\",\"Movie\",\"Movie\",\"Movie\",\"Movie\",\"Movie\",\"Movie\",\"Movie\",\"Movie\",\"Movie\",\"Movie\",\"Movie\",\"Movie\",\"Movie\",\"Movie\",\"Movie\",\"Movie\",\"Movie\",\"Movie\",\"Movie\",\"Movie\",\"Movie\",\"Movie\",\"Movie\",\"Movie\",\"Movie\",\"Movie\",\"Movie\",\"Movie\",\"Movie\",\"Movie\",\"Movie\",\"Movie\",\"Movie\",\"Movie\",\"Movie\",\"Movie\",\"Movie\",\"Movie\",\"Movie\",\"Movie\",\"Movie\",\"Movie\",\"Movie\",\"Movie\",\"Movie\",\"Movie\",\"Movie\",\"Movie\",\"Movie\",\"Movie\",\"Movie\",\"Movie\",\"Movie\",\"Movie\",\"Movie\",\"Movie\",\"Movie\",\"Movie\",\"Movie\",\"Movie\",\"Movie\",\"Movie\",\"Movie\",\"Movie\",\"Movie\",\"Movie\",\"Movie\",\"Movie\",\"Movie\",\"Movie\",\"Movie\",\"Movie\",\"Movie\",\"Movie\",\"Movie\",\"TV Show\",\"Movie\",\"Movie\",\"Movie\",\"Movie\",\"Movie\",\"Movie\",\"Movie\",\"Movie\",\"Movie\",\"Movie\",\"Movie\",\"Movie\",\"Movie\",\"Movie\",\"Movie\",\"Movie\",\"Movie\",\"Movie\",\"Movie\",\"Movie\",\"Movie\",\"Movie\",\"Movie\",\"Movie\",\"Movie\",\"Movie\",\"Movie\",\"Movie\",\"Movie\",\"Movie\",\"Movie\",\"Movie\",\"Movie\",\"Movie\",\"Movie\",\"Movie\",\"Movie\",\"Movie\",\"Movie\",\"Movie\",\"Movie\",\"Movie\",\"Movie\",\"Movie\",\"Movie\",\"Movie\",\"Movie\",\"Movie\",\"Movie\",\"Movie\",\"Movie\",\"Movie\",\"Movie\",\"Movie\",\"Movie\",\"Movie\",\"Movie\",\"Movie\",\"Movie\",\"Movie\",\"Movie\",\"Movie\",\"Movie\",\"Movie\",\"Movie\",\"Movie\",\"Movie\",\"Movie\",\"Movie\",\"Movie\",\"Movie\",\"Movie\",\"Movie\",\"Movie\",\"Movie\",\"Movie\",\"Movie\",\"TV Show\",\"Movie\",\"Movie\",\"Movie\",\"Movie\",\"Movie\",\"Movie\",\"Movie\",\"Movie\",\"Movie\",\"Movie\",\"Movie\",\"Movie\",\"TV Show\",\"Movie\",\"Movie\",\"Movie\",\"Movie\",\"Movie\",\"Movie\",\"Movie\",\"Movie\",\"Movie\",\"Movie\",\"Movie\",\"Movie\",\"Movie\",\"Movie\",\"Movie\",\"Movie\",\"Movie\",\"Movie\",\"Movie\",\"Movie\",\"Movie\",\"Movie\",\"Movie\",\"Movie\",\"Movie\",\"Movie\",\"Movie\",\"Movie\",\"Movie\",\"Movie\",\"Movie\",\"Movie\",\"Movie\",\"Movie\",\"Movie\",\"Movie\",\"Movie\",\"Movie\",\"Movie\",\"Movie\",\"Movie\",\"Movie\",\"Movie\",\"Movie\",\"Movie\",\"Movie\",\"Movie\",\"Movie\",\"Movie\",\"Movie\",\"Movie\",\"Movie\",\"Movie\",\"Movie\",\"Movie\",\"Movie\",\"Movie\",\"Movie\",\"Movie\",\"Movie\",\"Movie\",\"Movie\",\"Movie\",\"Movie\",\"Movie\",\"Movie\",\"Movie\",\"Movie\",\"Movie\",\"Movie\",\"Movie\",\"Movie\",\"Movie\",\"Movie\",\"Movie\",\"Movie\",\"Movie\",\"Movie\",\"Movie\",\"Movie\",\"Movie\",\"Movie\",\"Movie\",\"Movie\",\"Movie\",\"Movie\",\"Movie\",\"Movie\",\"Movie\",\"TV Show\",\"Movie\",\"Movie\",\"Movie\",\"Movie\",\"Movie\",\"Movie\",\"Movie\",\"Movie\",\"Movie\",\"Movie\",\"Movie\",\"Movie\",\"Movie\",\"Movie\",\"Movie\",\"Movie\",\"Movie\",\"TV Show\",\"Movie\",\"Movie\",\"Movie\",\"Movie\",\"Movie\",\"Movie\",\"Movie\",\"Movie\",\"Movie\",\"Movie\",\"TV Show\",\"TV Show\",\"Movie\",\"Movie\",\"Movie\",\"Movie\",\"Movie\",\"Movie\",\"Movie\",\"TV Show\",\"Movie\",\"Movie\",\"Movie\",\"Movie\",\"Movie\",\"Movie\",\"Movie\",\"Movie\",\"Movie\",\"Movie\",\"Movie\",\"Movie\",\"Movie\",\"Movie\",\"Movie\",\"Movie\",\"Movie\",\"Movie\",\"Movie\",\"Movie\",\"Movie\",\"Movie\",\"Movie\",\"Movie\",\"Movie\",\"Movie\",\"Movie\",\"Movie\",\"Movie\",\"Movie\",\"Movie\",\"Movie\",\"Movie\",\"Movie\",\"Movie\",\"Movie\",\"Movie\",\"Movie\",\"Movie\",\"Movie\",\"Movie\",\"Movie\",\"Movie\",\"Movie\",\"Movie\",\"Movie\",\"Movie\",\"Movie\",\"Movie\",\"Movie\",\"Movie\",\"Movie\",\"Movie\",\"Movie\",\"Movie\",\"TV Show\",\"Movie\",\"Movie\",\"Movie\",\"Movie\",\"Movie\",\"Movie\",\"Movie\",\"Movie\",\"Movie\",\"Movie\",\"Movie\",\"Movie\",\"Movie\",\"TV Show\",\"Movie\",\"Movie\",\"Movie\",\"Movie\",\"Movie\",\"Movie\",\"Movie\",\"Movie\",\"Movie\",\"Movie\",\"Movie\",\"Movie\",\"Movie\",\"Movie\",\"Movie\",\"Movie\",\"Movie\",\"Movie\",\"Movie\",\"Movie\",\"Movie\",\"Movie\",\"Movie\",\"Movie\",\"Movie\",\"Movie\",\"Movie\",\"Movie\",\"Movie\",\"Movie\",\"Movie\",\"Movie\",\"Movie\",\"Movie\",\"Movie\",\"Movie\",\"Movie\",\"Movie\",\"Movie\",\"Movie\",\"Movie\",\"Movie\",\"Movie\",\"TV Show\",\"Movie\",\"Movie\",\"Movie\",\"Movie\",\"Movie\",\"Movie\",\"Movie\",\"Movie\",\"Movie\",\"Movie\",\"Movie\",\"Movie\",\"Movie\",\"Movie\",\"Movie\",\"Movie\",\"Movie\",\"Movie\",\"Movie\",\"Movie\",\"Movie\",\"TV Show\",\"Movie\",\"Movie\",\"Movie\",\"Movie\",\"Movie\",\"Movie\",\"Movie\",\"Movie\",\"Movie\",\"Movie\",\"Movie\",\"Movie\",\"Movie\",\"Movie\",\"Movie\",\"Movie\",\"Movie\",\"Movie\",\"Movie\",\"Movie\",\"Movie\",\"Movie\",\"Movie\",\"TV Show\",\"Movie\",\"Movie\",\"Movie\",\"Movie\",\"Movie\",\"Movie\",\"Movie\",\"Movie\",\"Movie\",\"TV Show\",\"Movie\",\"Movie\",\"Movie\",\"Movie\",\"Movie\",\"Movie\",\"Movie\",\"Movie\",\"Movie\",\"Movie\",\"Movie\",\"Movie\",\"Movie\",\"Movie\",\"Movie\",\"Movie\",\"Movie\",\"Movie\",\"Movie\",\"Movie\",\"Movie\",\"Movie\",\"Movie\",\"Movie\",\"Movie\",\"Movie\",\"Movie\",\"Movie\",\"Movie\",\"Movie\",\"Movie\",\"Movie\",\"Movie\",\"Movie\",\"Movie\",\"Movie\",\"Movie\",\"Movie\",\"Movie\",\"Movie\",\"Movie\",\"Movie\",\"Movie\",\"Movie\",\"Movie\",\"Movie\",\"Movie\",\"Movie\",\"Movie\",\"Movie\",\"Movie\",\"Movie\",\"Movie\",\"Movie\",\"Movie\",\"Movie\",\"Movie\",\"Movie\",\"Movie\",\"Movie\",\"Movie\",\"Movie\",\"Movie\",\"Movie\",\"Movie\",\"Movie\",\"Movie\",\"Movie\",\"Movie\",\"Movie\",\"Movie\",\"Movie\",\"Movie\",\"Movie\",\"Movie\",\"Movie\",\"Movie\",\"Movie\",\"Movie\",\"Movie\",\"Movie\",\"Movie\",\"Movie\",\"Movie\",\"Movie\",\"Movie\",\"Movie\",\"Movie\",\"Movie\",\"Movie\",\"Movie\",\"Movie\",\"Movie\",\"Movie\",\"Movie\",\"Movie\",\"Movie\",\"Movie\",\"Movie\",\"Movie\",\"Movie\",\"Movie\",\"Movie\",\"Movie\",\"Movie\",\"Movie\",\"Movie\",\"Movie\",\"Movie\",\"Movie\",\"Movie\",\"Movie\",\"Movie\",\"Movie\",\"Movie\",\"Movie\",\"Movie\",\"Movie\",\"Movie\",\"Movie\",\"Movie\",\"Movie\",\"Movie\",\"Movie\",\"Movie\",\"Movie\",\"Movie\",\"Movie\",\"Movie\",\"Movie\",\"Movie\",\"Movie\",\"Movie\",\"Movie\",\"Movie\",\"Movie\",\"Movie\",\"Movie\",\"Movie\",\"Movie\",\"Movie\",\"Movie\",\"Movie\",\"Movie\",\"Movie\",\"Movie\",\"Movie\",\"Movie\",\"Movie\",\"Movie\",\"TV Show\",\"TV Show\",\"Movie\",\"Movie\",\"Movie\",\"Movie\",\"Movie\",\"Movie\",\"Movie\",\"Movie\",\"Movie\",\"Movie\",\"Movie\",\"Movie\",\"Movie\",\"TV Show\",\"Movie\",\"Movie\",\"Movie\",\"Movie\",\"Movie\",\"Movie\",\"Movie\",\"Movie\",\"Movie\",\"Movie\",\"Movie\",\"Movie\",\"Movie\",\"Movie\",\"Movie\",\"Movie\",\"Movie\",\"Movie\",\"Movie\",\"Movie\",\"Movie\",\"Movie\",\"TV Show\",\"Movie\",\"Movie\",\"Movie\",\"Movie\",\"Movie\",\"Movie\",\"Movie\",\"Movie\",\"Movie\",\"Movie\",\"Movie\",\"Movie\",\"Movie\",\"Movie\",\"Movie\",\"Movie\",\"Movie\",\"Movie\",\"Movie\",\"Movie\",\"Movie\",\"Movie\",\"Movie\",\"Movie\",\"Movie\",\"Movie\",\"Movie\",\"Movie\",\"Movie\",\"Movie\",\"Movie\",\"Movie\",\"Movie\",\"Movie\",\"Movie\",\"Movie\",\"Movie\",\"Movie\",\"Movie\",\"Movie\",\"Movie\",\"Movie\",\"Movie\",\"Movie\",\"Movie\",\"Movie\",\"TV Show\",\"Movie\",\"Movie\",\"Movie\",\"Movie\",\"Movie\",\"Movie\",\"Movie\",\"Movie\",\"Movie\",\"Movie\",\"Movie\",\"Movie\",\"Movie\",\"Movie\",\"Movie\",\"Movie\",\"Movie\",\"Movie\",\"Movie\",\"Movie\",\"Movie\",\"Movie\",\"Movie\",\"Movie\",\"Movie\",\"Movie\",\"TV Show\",\"Movie\",\"Movie\",\"Movie\",\"TV Show\",\"Movie\",\"Movie\",\"Movie\",\"Movie\",\"Movie\",\"Movie\",\"Movie\",\"Movie\",\"Movie\",\"Movie\",\"Movie\",\"Movie\",\"Movie\",\"Movie\",\"Movie\",\"Movie\",\"Movie\",\"Movie\",\"Movie\",\"Movie\",\"Movie\",\"Movie\",\"Movie\",\"Movie\",\"Movie\",\"Movie\",\"Movie\",\"Movie\",\"Movie\",\"Movie\",\"Movie\",\"Movie\",\"Movie\",\"Movie\",\"Movie\",\"Movie\",\"Movie\",\"Movie\",\"Movie\",\"Movie\",\"Movie\",\"Movie\",\"Movie\",\"Movie\",\"Movie\",\"Movie\",\"Movie\",\"Movie\",\"Movie\",\"Movie\",\"Movie\",\"Movie\",\"Movie\",\"Movie\",\"Movie\",\"Movie\",\"Movie\",\"Movie\",\"Movie\",\"Movie\",\"Movie\",\"Movie\",\"Movie\",\"Movie\",\"Movie\",\"Movie\",\"Movie\",\"TV Show\",\"TV Show\",\"Movie\",\"Movie\",\"Movie\",\"Movie\",\"Movie\",\"Movie\",\"Movie\",\"Movie\",\"Movie\",\"Movie\",\"Movie\",\"Movie\",\"Movie\",\"Movie\",\"Movie\",\"Movie\",\"Movie\",\"Movie\",\"Movie\",\"Movie\",\"Movie\",\"Movie\",\"Movie\",\"Movie\",\"Movie\",\"Movie\",\"Movie\",\"Movie\",\"Movie\",\"Movie\",\"Movie\",\"Movie\",\"Movie\",\"Movie\",\"Movie\",\"Movie\",\"Movie\",\"Movie\",\"Movie\",\"Movie\",\"Movie\",\"Movie\",\"Movie\",\"Movie\",\"Movie\",\"Movie\",\"Movie\",\"Movie\",\"Movie\",\"Movie\",\"Movie\",\"Movie\",\"Movie\",\"Movie\",\"Movie\",\"Movie\",\"Movie\",\"Movie\",\"Movie\",\"Movie\",\"Movie\",\"Movie\",\"Movie\",\"Movie\",\"Movie\",\"Movie\",\"Movie\",\"Movie\",\"Movie\",\"Movie\",\"Movie\",\"Movie\",\"Movie\",\"Movie\",\"Movie\",\"Movie\",\"Movie\",\"Movie\",\"Movie\",\"Movie\",\"Movie\",\"Movie\",\"Movie\",\"Movie\",\"Movie\",\"Movie\",\"Movie\",\"Movie\",\"Movie\",\"Movie\",\"Movie\",\"Movie\",\"Movie\",\"Movie\",\"Movie\",\"Movie\",\"Movie\",\"Movie\",\"Movie\",\"Movie\",\"Movie\",\"Movie\",\"Movie\",\"Movie\",\"Movie\",\"Movie\",\"Movie\",\"Movie\",\"Movie\",\"Movie\",\"Movie\",\"Movie\",\"Movie\",\"Movie\",\"Movie\",\"Movie\",\"Movie\",\"Movie\",\"Movie\",\"Movie\",\"Movie\",\"Movie\",\"Movie\",\"Movie\",\"Movie\",\"Movie\",\"Movie\",\"Movie\",\"Movie\",\"Movie\",\"Movie\",\"Movie\",\"Movie\",\"Movie\",\"TV Show\",\"Movie\",\"Movie\",\"Movie\",\"Movie\",\"Movie\",\"Movie\",\"Movie\",\"Movie\",\"Movie\",\"Movie\",\"TV Show\",\"TV Show\",\"Movie\",\"Movie\",\"Movie\",\"Movie\",\"Movie\",\"Movie\",\"Movie\",\"Movie\",\"Movie\",\"Movie\",\"Movie\",\"Movie\",\"Movie\",\"Movie\",\"Movie\",\"Movie\",\"Movie\",\"Movie\",\"Movie\",\"Movie\",\"Movie\",\"Movie\",\"Movie\",\"Movie\",\"Movie\",\"Movie\",\"Movie\",\"Movie\",\"Movie\",\"TV Show\",\"Movie\",\"Movie\",\"Movie\",\"Movie\",\"Movie\",\"Movie\",\"Movie\",\"Movie\",\"Movie\",\"Movie\",\"Movie\",\"Movie\",\"Movie\",\"Movie\",\"Movie\",\"Movie\",\"Movie\",\"Movie\",\"Movie\",\"Movie\",\"Movie\",\"Movie\",\"Movie\",\"Movie\",\"Movie\",\"Movie\",\"Movie\",\"Movie\",\"Movie\",\"Movie\",\"Movie\",\"Movie\",\"Movie\",\"Movie\",\"Movie\",\"Movie\",\"Movie\",\"Movie\",\"Movie\",\"Movie\",\"Movie\",\"Movie\",\"Movie\",\"Movie\",\"Movie\",\"Movie\",\"Movie\",\"Movie\",\"Movie\",\"Movie\",\"Movie\",\"Movie\",\"Movie\",\"Movie\",\"Movie\",\"Movie\",\"Movie\",\"Movie\",\"Movie\",\"Movie\",\"Movie\",\"Movie\",\"Movie\",\"Movie\",\"Movie\",\"Movie\",\"Movie\",\"Movie\",\"Movie\",\"Movie\",\"Movie\",\"Movie\",\"Movie\",\"Movie\",\"Movie\",\"Movie\",\"Movie\",\"Movie\",\"Movie\",\"Movie\",\"Movie\",\"Movie\",\"Movie\",\"Movie\",\"Movie\",\"Movie\",\"Movie\",\"Movie\",\"Movie\",\"Movie\",\"Movie\",\"Movie\",\"Movie\",\"Movie\",\"Movie\",\"Movie\",\"Movie\",\"Movie\",\"Movie\",\"Movie\",\"Movie\",\"Movie\",\"Movie\",\"Movie\",\"Movie\",\"TV Show\",\"Movie\",\"Movie\",\"TV Show\",\"Movie\",\"Movie\",\"Movie\",\"Movie\",\"Movie\",\"Movie\",\"Movie\",\"Movie\",\"Movie\",\"Movie\",\"Movie\",\"Movie\",\"Movie\",\"Movie\",\"Movie\",\"Movie\",\"Movie\",\"Movie\",\"Movie\",\"Movie\",\"Movie\",\"Movie\",\"Movie\",\"Movie\",\"Movie\",\"Movie\",\"Movie\",\"Movie\",\"Movie\",\"Movie\",\"TV Show\",\"Movie\",\"Movie\",\"Movie\",\"Movie\",\"Movie\",\"Movie\",\"Movie\",\"Movie\",\"Movie\",\"Movie\",\"Movie\",\"Movie\",\"Movie\",\"Movie\",\"Movie\",\"Movie\",\"Movie\",\"Movie\",\"Movie\",\"Movie\",\"Movie\",\"Movie\",\"Movie\",\"Movie\",\"Movie\",\"Movie\",\"Movie\",\"Movie\",\"Movie\",\"Movie\",\"Movie\",\"Movie\",\"Movie\",\"Movie\",\"Movie\",\"Movie\",\"Movie\",\"Movie\",\"Movie\",\"Movie\",\"Movie\",\"Movie\",\"Movie\",\"Movie\",\"Movie\",\"Movie\",\"TV Show\",\"Movie\",\"Movie\",\"Movie\",\"Movie\",\"Movie\",\"Movie\",\"Movie\",\"Movie\",\"Movie\",\"Movie\",\"Movie\",\"Movie\",\"Movie\",\"Movie\",\"Movie\",\"Movie\",\"Movie\",\"Movie\",\"Movie\",\"Movie\",\"Movie\",\"Movie\",\"TV Show\",\"Movie\",\"Movie\",\"Movie\",\"Movie\",\"Movie\",\"Movie\",\"Movie\",\"Movie\",\"Movie\",\"Movie\",\"Movie\",\"Movie\",\"Movie\",\"Movie\",\"Movie\",\"Movie\",\"Movie\",\"Movie\",\"Movie\",\"Movie\",\"Movie\",\"Movie\",\"Movie\",\"Movie\",\"Movie\",\"Movie\",\"Movie\",\"Movie\",\"Movie\",\"Movie\",\"Movie\",\"Movie\",\"Movie\",\"Movie\",\"Movie\",\"Movie\",\"Movie\",\"Movie\",\"Movie\",\"Movie\",\"Movie\",\"Movie\",\"Movie\",\"Movie\",\"Movie\",\"Movie\",\"TV Show\",\"Movie\",\"Movie\",\"Movie\",\"Movie\",\"Movie\",\"Movie\",\"Movie\",\"Movie\",\"Movie\",\"Movie\",\"Movie\",\"Movie\",\"Movie\",\"Movie\",\"Movie\",\"Movie\",\"Movie\",\"Movie\",\"Movie\",\"Movie\",\"Movie\",\"Movie\",\"Movie\",\"Movie\",\"Movie\",\"Movie\",\"Movie\",\"Movie\",\"Movie\",\"Movie\",\"Movie\",\"Movie\",\"Movie\",\"Movie\",\"Movie\",\"Movie\",\"Movie\",\"Movie\",\"TV Show\",\"Movie\",\"Movie\",\"Movie\",\"Movie\",\"Movie\",\"TV Show\",\"Movie\",\"Movie\",\"Movie\",\"Movie\",\"Movie\",\"Movie\",\"Movie\",\"Movie\",\"Movie\",\"Movie\",\"Movie\",\"Movie\",\"Movie\",\"Movie\",\"Movie\",\"Movie\",\"Movie\",\"Movie\",\"Movie\",\"Movie\",\"Movie\",\"Movie\",\"Movie\",\"Movie\",\"Movie\",\"Movie\",\"Movie\",\"Movie\",\"Movie\",\"Movie\",\"Movie\",\"Movie\",\"Movie\",\"Movie\",\"Movie\",\"Movie\",\"Movie\",\"Movie\",\"Movie\",\"Movie\",\"Movie\",\"Movie\",\"Movie\",\"Movie\",\"Movie\",\"Movie\",\"Movie\",\"Movie\",\"Movie\",\"Movie\",\"TV Show\",\"Movie\",\"Movie\",\"Movie\",\"Movie\",\"Movie\",\"Movie\",\"Movie\",\"Movie\",\"Movie\",\"Movie\",\"Movie\",\"Movie\",\"Movie\",\"Movie\",\"Movie\",\"TV Show\",\"Movie\",\"Movie\",\"Movie\",\"Movie\",\"Movie\",\"Movie\",\"Movie\",\"Movie\",\"Movie\",\"Movie\",\"Movie\",\"Movie\",\"Movie\",\"TV Show\",\"Movie\",\"Movie\",\"Movie\",\"Movie\",\"Movie\",\"Movie\",\"Movie\",\"TV Show\",\"Movie\",\"TV Show\",\"Movie\",\"Movie\",\"Movie\",\"Movie\",\"Movie\",\"Movie\",\"Movie\",\"Movie\",\"TV Show\",\"Movie\",\"Movie\",\"Movie\",\"Movie\",\"Movie\",\"Movie\",\"Movie\",\"Movie\",\"Movie\",\"Movie\",\"Movie\",\"TV Show\",\"Movie\",\"Movie\",\"Movie\",\"Movie\",\"Movie\",\"Movie\",\"Movie\",\"Movie\",\"Movie\",\"Movie\",\"Movie\",\"Movie\",\"TV Show\",\"Movie\",\"Movie\",\"Movie\",\"Movie\",\"Movie\",\"Movie\",\"Movie\",\"Movie\",\"Movie\",\"Movie\",\"Movie\",\"Movie\",\"Movie\",\"Movie\",\"Movie\",\"Movie\",\"Movie\",\"Movie\",\"Movie\",\"Movie\",\"Movie\",\"Movie\",\"Movie\",\"TV Show\",\"Movie\",\"Movie\",\"Movie\",\"Movie\",\"Movie\",\"Movie\",\"Movie\",\"Movie\",\"Movie\",\"Movie\",\"TV Show\",\"Movie\",\"Movie\",\"Movie\",\"Movie\",\"Movie\",\"Movie\",\"Movie\",\"Movie\",\"Movie\",\"Movie\",\"Movie\",\"Movie\",\"Movie\",\"Movie\",\"Movie\",\"Movie\",\"Movie\",\"Movie\",\"Movie\",\"Movie\",\"Movie\",\"Movie\",\"Movie\",\"Movie\",\"Movie\",\"Movie\",\"Movie\",\"Movie\",\"Movie\",\"Movie\",\"Movie\",\"Movie\",\"Movie\",\"Movie\",\"Movie\",\"Movie\",\"Movie\",\"Movie\",\"Movie\",\"Movie\",\"Movie\",\"Movie\",\"Movie\",\"Movie\",\"Movie\",\"Movie\",\"Movie\",\"Movie\",\"Movie\",\"Movie\",\"Movie\",\"Movie\",\"Movie\",\"Movie\",\"Movie\",\"Movie\",\"Movie\",\"Movie\",\"Movie\",\"Movie\",\"Movie\",\"Movie\",\"Movie\",\"Movie\",\"Movie\",\"Movie\",\"Movie\",\"Movie\",\"Movie\",\"Movie\",\"Movie\",\"Movie\",\"Movie\",\"Movie\",\"Movie\",\"Movie\",\"Movie\",\"Movie\",\"Movie\",\"Movie\",\"Movie\",\"Movie\",\"Movie\",\"Movie\",\"Movie\",\"Movie\",\"Movie\",\"Movie\",\"Movie\",\"Movie\",\"Movie\",\"Movie\",\"Movie\",\"Movie\",\"Movie\",\"Movie\",\"Movie\",\"Movie\",\"Movie\",\"Movie\",\"Movie\",\"Movie\",\"Movie\",\"Movie\",\"Movie\",\"Movie\",\"Movie\",\"Movie\",\"Movie\",\"Movie\",\"Movie\",\"Movie\",\"Movie\",\"Movie\",\"Movie\",\"Movie\",\"Movie\",\"Movie\",\"Movie\",\"Movie\",\"TV Show\",\"TV Show\",\"Movie\",\"Movie\",\"Movie\",\"Movie\",\"Movie\",\"Movie\",\"Movie\",\"Movie\",\"Movie\",\"Movie\",\"Movie\",\"Movie\",\"Movie\",\"Movie\",\"Movie\",\"Movie\",\"Movie\",\"Movie\",\"Movie\",\"Movie\",\"Movie\",\"Movie\",\"Movie\",\"Movie\",\"Movie\",\"Movie\",\"Movie\",\"Movie\",\"Movie\",\"Movie\",\"Movie\",\"Movie\",\"Movie\",\"Movie\",\"Movie\",\"Movie\",\"Movie\",\"Movie\",\"Movie\",\"Movie\",\"Movie\",\"Movie\",\"Movie\",\"Movie\",\"Movie\",\"Movie\",\"Movie\",\"Movie\",\"Movie\",\"Movie\",\"Movie\",\"Movie\",\"Movie\",\"Movie\",\"Movie\",\"Movie\",\"Movie\",\"Movie\",\"Movie\",\"Movie\",\"Movie\",\"Movie\",\"Movie\",\"Movie\",\"Movie\",\"Movie\",\"Movie\",\"Movie\",\"Movie\",\"Movie\",\"Movie\",\"Movie\",\"Movie\",\"Movie\",\"Movie\",\"Movie\",\"Movie\",\"Movie\",\"Movie\",\"Movie\",\"Movie\",\"Movie\",\"Movie\",\"Movie\",\"Movie\",\"Movie\",\"Movie\",\"Movie\",\"Movie\",\"Movie\",\"Movie\",\"Movie\",\"Movie\",\"Movie\",\"Movie\",\"Movie\",\"Movie\",\"Movie\",\"Movie\",\"Movie\",\"Movie\",\"Movie\",\"Movie\",\"Movie\",\"Movie\",\"Movie\",\"Movie\",\"Movie\",\"Movie\",\"Movie\",\"Movie\",\"Movie\",\"Movie\",\"Movie\",\"Movie\",\"Movie\",\"Movie\",\"Movie\",\"Movie\",\"Movie\",\"Movie\",\"Movie\",\"Movie\",\"Movie\",\"Movie\",\"Movie\",\"Movie\",\"Movie\",\"Movie\",\"Movie\",\"Movie\",\"Movie\",\"Movie\",\"Movie\",\"Movie\",\"Movie\",\"Movie\",\"Movie\",\"Movie\",\"Movie\",\"Movie\",\"Movie\",\"Movie\",\"Movie\",\"Movie\",\"Movie\",\"Movie\",\"Movie\",\"Movie\",\"Movie\",\"Movie\",\"Movie\",\"Movie\",\"Movie\",\"Movie\",\"Movie\",\"Movie\",\"Movie\",\"Movie\",\"Movie\",\"Movie\",\"Movie\",\"Movie\",\"Movie\",\"TV Show\",\"Movie\",\"Movie\",\"Movie\",\"Movie\",\"Movie\",\"Movie\",\"Movie\",\"Movie\",\"TV Show\",\"Movie\",\"Movie\",\"Movie\",\"Movie\",\"TV Show\",\"Movie\",\"Movie\",\"Movie\",\"Movie\",\"Movie\",\"Movie\",\"Movie\",\"TV Show\",\"Movie\",\"Movie\",\"Movie\",\"Movie\",\"Movie\",\"Movie\",\"Movie\",\"Movie\",\"Movie\",\"Movie\",\"Movie\",\"Movie\",\"Movie\",\"Movie\",\"Movie\",\"Movie\",\"Movie\",\"Movie\",\"Movie\",\"Movie\",\"Movie\",\"Movie\",\"Movie\",\"Movie\",\"Movie\",\"Movie\",\"Movie\",\"Movie\",\"Movie\",\"Movie\",\"Movie\",\"Movie\",\"Movie\",\"Movie\",\"Movie\",\"Movie\",\"Movie\",\"Movie\",\"Movie\",\"Movie\",\"TV Show\",\"Movie\",\"Movie\",\"Movie\",\"Movie\",\"Movie\",\"Movie\",\"TV Show\",\"Movie\",\"Movie\",\"Movie\",\"Movie\",\"Movie\",\"Movie\",\"Movie\",\"Movie\",\"Movie\",\"Movie\",\"Movie\",\"Movie\",\"Movie\",\"Movie\",\"Movie\",\"Movie\",\"Movie\",\"Movie\",\"Movie\",\"Movie\",\"Movie\",\"TV Show\",\"Movie\",\"Movie\",\"Movie\",\"Movie\",\"Movie\",\"Movie\",\"Movie\",\"Movie\",\"Movie\",\"Movie\",\"Movie\",\"Movie\",\"Movie\",\"Movie\",\"Movie\",\"Movie\",\"TV Show\",\"Movie\",\"TV Show\",\"Movie\",\"Movie\",\"Movie\",\"Movie\",\"Movie\",\"Movie\",\"Movie\",\"Movie\",\"Movie\",\"Movie\",\"Movie\",\"Movie\",\"Movie\",\"Movie\",\"Movie\",\"Movie\",\"Movie\",\"Movie\",\"Movie\",\"Movie\",\"Movie\",\"Movie\",\"Movie\",\"Movie\",\"Movie\",\"Movie\",\"Movie\",\"Movie\",\"Movie\",\"Movie\",\"Movie\",\"Movie\",\"Movie\",\"Movie\",\"Movie\",\"Movie\",\"TV Show\",\"Movie\",\"Movie\",\"Movie\",\"Movie\",\"Movie\",\"Movie\",\"Movie\",\"Movie\",\"Movie\",\"Movie\",\"Movie\",\"Movie\",\"Movie\",\"Movie\",\"Movie\",\"Movie\",\"Movie\",\"Movie\",\"Movie\",\"Movie\",\"Movie\",\"Movie\",\"Movie\",\"Movie\",\"Movie\",\"Movie\",\"Movie\",\"Movie\",\"Movie\",\"Movie\",\"Movie\",\"Movie\",\"Movie\",\"Movie\",\"Movie\",\"Movie\",\"Movie\",\"Movie\",\"Movie\",\"Movie\",\"Movie\",\"Movie\",\"Movie\",\"Movie\",\"Movie\",\"Movie\",\"Movie\",\"Movie\",\"Movie\",\"Movie\",\"Movie\",\"Movie\",\"Movie\",\"Movie\",\"Movie\",\"Movie\",\"Movie\",\"Movie\",\"Movie\",\"Movie\",\"Movie\",\"Movie\",\"Movie\",\"Movie\",\"Movie\",\"Movie\",\"Movie\",\"Movie\",\"Movie\",\"TV Show\",\"Movie\",\"Movie\",\"Movie\",\"Movie\",\"Movie\",\"Movie\",\"Movie\",\"Movie\",\"Movie\",\"Movie\",\"Movie\",\"Movie\",\"Movie\",\"Movie\",\"Movie\",\"Movie\",\"Movie\",\"Movie\",\"Movie\",\"Movie\",\"Movie\",\"Movie\",\"Movie\",\"Movie\",\"Movie\",\"Movie\",\"Movie\",\"Movie\",\"Movie\",\"Movie\",\"Movie\",\"Movie\",\"Movie\",\"Movie\",\"Movie\",\"Movie\",\"Movie\",\"Movie\",\"Movie\",\"Movie\",\"Movie\",\"Movie\",\"Movie\",\"TV Show\",\"Movie\",\"Movie\",\"Movie\",\"Movie\",\"Movie\",\"Movie\",\"Movie\",\"TV Show\",\"Movie\",\"Movie\",\"Movie\",\"Movie\",\"Movie\",\"Movie\",\"Movie\",\"Movie\",\"Movie\",\"Movie\",\"Movie\",\"Movie\",\"Movie\",\"Movie\",\"Movie\",\"Movie\",\"Movie\",\"Movie\",\"Movie\",\"Movie\",\"Movie\",\"Movie\",\"Movie\",\"Movie\",\"Movie\",\"Movie\",\"Movie\",\"Movie\",\"Movie\",\"Movie\",\"Movie\",\"Movie\",\"Movie\",\"Movie\",\"Movie\",\"Movie\",\"Movie\",\"Movie\",\"Movie\",\"Movie\",\"Movie\",\"Movie\",\"Movie\",\"Movie\",\"Movie\",\"Movie\",\"Movie\",\"Movie\",\"Movie\",\"Movie\",\"Movie\",\"Movie\",\"Movie\",\"Movie\",\"Movie\",\"Movie\",\"TV Show\",\"Movie\",\"Movie\",\"Movie\",\"Movie\",\"Movie\",\"Movie\",\"Movie\",\"Movie\",\"Movie\",\"Movie\",\"Movie\",\"Movie\",\"Movie\",\"Movie\",\"Movie\",\"Movie\",\"Movie\",\"Movie\",\"Movie\",\"Movie\",\"Movie\",\"Movie\",\"Movie\",\"Movie\",\"Movie\",\"Movie\",\"Movie\",\"Movie\",\"Movie\",\"Movie\",\"Movie\",\"Movie\",\"Movie\",\"Movie\",\"Movie\",\"Movie\",\"Movie\",\"Movie\",\"Movie\",\"Movie\",\"Movie\",\"Movie\",\"Movie\",\"Movie\",\"Movie\",\"Movie\",\"Movie\",\"Movie\",\"Movie\",\"Movie\",\"Movie\",\"Movie\",\"Movie\",\"Movie\",\"Movie\",\"Movie\",\"Movie\",\"Movie\",\"Movie\",\"Movie\",\"Movie\",\"Movie\",\"Movie\",\"Movie\",\"Movie\",\"Movie\",\"Movie\",\"Movie\",\"Movie\",\"Movie\",\"Movie\",\"Movie\",\"Movie\",\"Movie\",\"Movie\",\"Movie\",\"Movie\",\"Movie\",\"Movie\",\"Movie\",\"Movie\",\"Movie\",\"Movie\",\"Movie\",\"Movie\",\"Movie\",\"Movie\",\"Movie\",\"Movie\",\"Movie\",\"Movie\",\"Movie\",\"Movie\",\"Movie\",\"TV Show\",\"Movie\",\"Movie\",\"Movie\",\"Movie\",\"Movie\",\"Movie\",\"Movie\",\"Movie\",\"Movie\",\"Movie\",\"Movie\",\"Movie\",\"Movie\",\"Movie\",\"Movie\",\"Movie\",\"Movie\",\"Movie\",\"Movie\",\"Movie\",\"Movie\",\"Movie\",\"Movie\",\"Movie\",\"Movie\",\"Movie\",\"Movie\",\"Movie\",\"Movie\",\"Movie\",\"TV Show\",\"Movie\",\"Movie\",\"Movie\",\"Movie\",\"Movie\",\"Movie\",\"Movie\",\"Movie\",\"Movie\",\"Movie\",\"Movie\",\"Movie\",\"Movie\",\"Movie\",\"Movie\",\"Movie\",\"Movie\",\"Movie\",\"Movie\",\"Movie\",\"Movie\",\"Movie\",\"Movie\",\"Movie\",\"Movie\",\"Movie\",\"Movie\",\"Movie\",\"Movie\",\"Movie\",\"Movie\",\"Movie\",\"Movie\",\"Movie\",\"Movie\",\"Movie\",\"Movie\",\"Movie\",\"Movie\",\"Movie\"],\"legendgroup\":\"\",\"name\":\"\",\"showlegend\":true,\"type\":\"pie\",\"rotation\":90,\"textinfo\":\"percent+label\",\"textposition\":\"outside\"}],                        {\"template\":{\"data\":{\"bar\":[{\"error_x\":{\"color\":\"#2a3f5f\"},\"error_y\":{\"color\":\"#2a3f5f\"},\"marker\":{\"line\":{\"color\":\"#E5ECF6\",\"width\":0.5},\"pattern\":{\"fillmode\":\"overlay\",\"size\":10,\"solidity\":0.2}},\"type\":\"bar\"}],\"barpolar\":[{\"marker\":{\"line\":{\"color\":\"#E5ECF6\",\"width\":0.5},\"pattern\":{\"fillmode\":\"overlay\",\"size\":10,\"solidity\":0.2}},\"type\":\"barpolar\"}],\"carpet\":[{\"aaxis\":{\"endlinecolor\":\"#2a3f5f\",\"gridcolor\":\"white\",\"linecolor\":\"white\",\"minorgridcolor\":\"white\",\"startlinecolor\":\"#2a3f5f\"},\"baxis\":{\"endlinecolor\":\"#2a3f5f\",\"gridcolor\":\"white\",\"linecolor\":\"white\",\"minorgridcolor\":\"white\",\"startlinecolor\":\"#2a3f5f\"},\"type\":\"carpet\"}],\"choropleth\":[{\"colorbar\":{\"outlinewidth\":0,\"ticks\":\"\"},\"type\":\"choropleth\"}],\"contour\":[{\"colorbar\":{\"outlinewidth\":0,\"ticks\":\"\"},\"colorscale\":[[0.0,\"#0d0887\"],[0.1111111111111111,\"#46039f\"],[0.2222222222222222,\"#7201a8\"],[0.3333333333333333,\"#9c179e\"],[0.4444444444444444,\"#bd3786\"],[0.5555555555555556,\"#d8576b\"],[0.6666666666666666,\"#ed7953\"],[0.7777777777777778,\"#fb9f3a\"],[0.8888888888888888,\"#fdca26\"],[1.0,\"#f0f921\"]],\"type\":\"contour\"}],\"contourcarpet\":[{\"colorbar\":{\"outlinewidth\":0,\"ticks\":\"\"},\"type\":\"contourcarpet\"}],\"heatmap\":[{\"colorbar\":{\"outlinewidth\":0,\"ticks\":\"\"},\"colorscale\":[[0.0,\"#0d0887\"],[0.1111111111111111,\"#46039f\"],[0.2222222222222222,\"#7201a8\"],[0.3333333333333333,\"#9c179e\"],[0.4444444444444444,\"#bd3786\"],[0.5555555555555556,\"#d8576b\"],[0.6666666666666666,\"#ed7953\"],[0.7777777777777778,\"#fb9f3a\"],[0.8888888888888888,\"#fdca26\"],[1.0,\"#f0f921\"]],\"type\":\"heatmap\"}],\"heatmapgl\":[{\"colorbar\":{\"outlinewidth\":0,\"ticks\":\"\"},\"colorscale\":[[0.0,\"#0d0887\"],[0.1111111111111111,\"#46039f\"],[0.2222222222222222,\"#7201a8\"],[0.3333333333333333,\"#9c179e\"],[0.4444444444444444,\"#bd3786\"],[0.5555555555555556,\"#d8576b\"],[0.6666666666666666,\"#ed7953\"],[0.7777777777777778,\"#fb9f3a\"],[0.8888888888888888,\"#fdca26\"],[1.0,\"#f0f921\"]],\"type\":\"heatmapgl\"}],\"histogram\":[{\"marker\":{\"pattern\":{\"fillmode\":\"overlay\",\"size\":10,\"solidity\":0.2}},\"type\":\"histogram\"}],\"histogram2d\":[{\"colorbar\":{\"outlinewidth\":0,\"ticks\":\"\"},\"colorscale\":[[0.0,\"#0d0887\"],[0.1111111111111111,\"#46039f\"],[0.2222222222222222,\"#7201a8\"],[0.3333333333333333,\"#9c179e\"],[0.4444444444444444,\"#bd3786\"],[0.5555555555555556,\"#d8576b\"],[0.6666666666666666,\"#ed7953\"],[0.7777777777777778,\"#fb9f3a\"],[0.8888888888888888,\"#fdca26\"],[1.0,\"#f0f921\"]],\"type\":\"histogram2d\"}],\"histogram2dcontour\":[{\"colorbar\":{\"outlinewidth\":0,\"ticks\":\"\"},\"colorscale\":[[0.0,\"#0d0887\"],[0.1111111111111111,\"#46039f\"],[0.2222222222222222,\"#7201a8\"],[0.3333333333333333,\"#9c179e\"],[0.4444444444444444,\"#bd3786\"],[0.5555555555555556,\"#d8576b\"],[0.6666666666666666,\"#ed7953\"],[0.7777777777777778,\"#fb9f3a\"],[0.8888888888888888,\"#fdca26\"],[1.0,\"#f0f921\"]],\"type\":\"histogram2dcontour\"}],\"mesh3d\":[{\"colorbar\":{\"outlinewidth\":0,\"ticks\":\"\"},\"type\":\"mesh3d\"}],\"parcoords\":[{\"line\":{\"colorbar\":{\"outlinewidth\":0,\"ticks\":\"\"}},\"type\":\"parcoords\"}],\"pie\":[{\"automargin\":true,\"type\":\"pie\"}],\"scatter\":[{\"marker\":{\"colorbar\":{\"outlinewidth\":0,\"ticks\":\"\"}},\"type\":\"scatter\"}],\"scatter3d\":[{\"line\":{\"colorbar\":{\"outlinewidth\":0,\"ticks\":\"\"}},\"marker\":{\"colorbar\":{\"outlinewidth\":0,\"ticks\":\"\"}},\"type\":\"scatter3d\"}],\"scattercarpet\":[{\"marker\":{\"colorbar\":{\"outlinewidth\":0,\"ticks\":\"\"}},\"type\":\"scattercarpet\"}],\"scattergeo\":[{\"marker\":{\"colorbar\":{\"outlinewidth\":0,\"ticks\":\"\"}},\"type\":\"scattergeo\"}],\"scattergl\":[{\"marker\":{\"colorbar\":{\"outlinewidth\":0,\"ticks\":\"\"}},\"type\":\"scattergl\"}],\"scattermapbox\":[{\"marker\":{\"colorbar\":{\"outlinewidth\":0,\"ticks\":\"\"}},\"type\":\"scattermapbox\"}],\"scatterpolar\":[{\"marker\":{\"colorbar\":{\"outlinewidth\":0,\"ticks\":\"\"}},\"type\":\"scatterpolar\"}],\"scatterpolargl\":[{\"marker\":{\"colorbar\":{\"outlinewidth\":0,\"ticks\":\"\"}},\"type\":\"scatterpolargl\"}],\"scatterternary\":[{\"marker\":{\"colorbar\":{\"outlinewidth\":0,\"ticks\":\"\"}},\"type\":\"scatterternary\"}],\"surface\":[{\"colorbar\":{\"outlinewidth\":0,\"ticks\":\"\"},\"colorscale\":[[0.0,\"#0d0887\"],[0.1111111111111111,\"#46039f\"],[0.2222222222222222,\"#7201a8\"],[0.3333333333333333,\"#9c179e\"],[0.4444444444444444,\"#bd3786\"],[0.5555555555555556,\"#d8576b\"],[0.6666666666666666,\"#ed7953\"],[0.7777777777777778,\"#fb9f3a\"],[0.8888888888888888,\"#fdca26\"],[1.0,\"#f0f921\"]],\"type\":\"surface\"}],\"table\":[{\"cells\":{\"fill\":{\"color\":\"#EBF0F8\"},\"line\":{\"color\":\"white\"}},\"header\":{\"fill\":{\"color\":\"#C8D4E3\"},\"line\":{\"color\":\"white\"}},\"type\":\"table\"}]},\"layout\":{\"annotationdefaults\":{\"arrowcolor\":\"#2a3f5f\",\"arrowhead\":0,\"arrowwidth\":1},\"autotypenumbers\":\"strict\",\"coloraxis\":{\"colorbar\":{\"outlinewidth\":0,\"ticks\":\"\"}},\"colorscale\":{\"diverging\":[[0,\"#8e0152\"],[0.1,\"#c51b7d\"],[0.2,\"#de77ae\"],[0.3,\"#f1b6da\"],[0.4,\"#fde0ef\"],[0.5,\"#f7f7f7\"],[0.6,\"#e6f5d0\"],[0.7,\"#b8e186\"],[0.8,\"#7fbc41\"],[0.9,\"#4d9221\"],[1,\"#276419\"]],\"sequential\":[[0.0,\"#0d0887\"],[0.1111111111111111,\"#46039f\"],[0.2222222222222222,\"#7201a8\"],[0.3333333333333333,\"#9c179e\"],[0.4444444444444444,\"#bd3786\"],[0.5555555555555556,\"#d8576b\"],[0.6666666666666666,\"#ed7953\"],[0.7777777777777778,\"#fb9f3a\"],[0.8888888888888888,\"#fdca26\"],[1.0,\"#f0f921\"]],\"sequentialminus\":[[0.0,\"#0d0887\"],[0.1111111111111111,\"#46039f\"],[0.2222222222222222,\"#7201a8\"],[0.3333333333333333,\"#9c179e\"],[0.4444444444444444,\"#bd3786\"],[0.5555555555555556,\"#d8576b\"],[0.6666666666666666,\"#ed7953\"],[0.7777777777777778,\"#fb9f3a\"],[0.8888888888888888,\"#fdca26\"],[1.0,\"#f0f921\"]]},\"colorway\":[\"#636efa\",\"#EF553B\",\"#00cc96\",\"#ab63fa\",\"#FFA15A\",\"#19d3f3\",\"#FF6692\",\"#B6E880\",\"#FF97FF\",\"#FECB52\"],\"font\":{\"color\":\"#2a3f5f\"},\"geo\":{\"bgcolor\":\"white\",\"lakecolor\":\"white\",\"landcolor\":\"#E5ECF6\",\"showlakes\":true,\"showland\":true,\"subunitcolor\":\"white\"},\"hoverlabel\":{\"align\":\"left\"},\"hovermode\":\"closest\",\"mapbox\":{\"style\":\"light\"},\"paper_bgcolor\":\"white\",\"plot_bgcolor\":\"#E5ECF6\",\"polar\":{\"angularaxis\":{\"gridcolor\":\"white\",\"linecolor\":\"white\",\"ticks\":\"\"},\"bgcolor\":\"#E5ECF6\",\"radialaxis\":{\"gridcolor\":\"white\",\"linecolor\":\"white\",\"ticks\":\"\"}},\"scene\":{\"xaxis\":{\"backgroundcolor\":\"#E5ECF6\",\"gridcolor\":\"white\",\"gridwidth\":2,\"linecolor\":\"white\",\"showbackground\":true,\"ticks\":\"\",\"zerolinecolor\":\"white\"},\"yaxis\":{\"backgroundcolor\":\"#E5ECF6\",\"gridcolor\":\"white\",\"gridwidth\":2,\"linecolor\":\"white\",\"showbackground\":true,\"ticks\":\"\",\"zerolinecolor\":\"white\"},\"zaxis\":{\"backgroundcolor\":\"#E5ECF6\",\"gridcolor\":\"white\",\"gridwidth\":2,\"linecolor\":\"white\",\"showbackground\":true,\"ticks\":\"\",\"zerolinecolor\":\"white\"}},\"shapedefaults\":{\"line\":{\"color\":\"#2a3f5f\"}},\"ternary\":{\"aaxis\":{\"gridcolor\":\"white\",\"linecolor\":\"white\",\"ticks\":\"\"},\"baxis\":{\"gridcolor\":\"white\",\"linecolor\":\"white\",\"ticks\":\"\"},\"bgcolor\":\"#E5ECF6\",\"caxis\":{\"gridcolor\":\"white\",\"linecolor\":\"white\",\"ticks\":\"\"}},\"title\":{\"x\":0.05},\"xaxis\":{\"automargin\":true,\"gridcolor\":\"white\",\"linecolor\":\"white\",\"ticks\":\"\",\"title\":{\"standoff\":15},\"zerolinecolor\":\"white\",\"zerolinewidth\":2},\"yaxis\":{\"automargin\":true,\"gridcolor\":\"white\",\"linecolor\":\"white\",\"ticks\":\"\",\"title\":{\"standoff\":15},\"zerolinecolor\":\"white\",\"zerolinewidth\":2}}},\"legend\":{\"tracegroupgap\":0},\"title\":{\"text\":\"Most watched on Netflix\",\"font\":{\"size\":25,\"color\":\"#8a8d93\",\"family\":\"Lato, sans-serif\"}},\"piecolorway\":[\"#b20710\",\"#221f1f\"],\"height\":300,\"width\":600,\"margin\":{\"t\":60,\"b\":30,\"l\":0,\"r\":0},\"font\":{\"size\":17,\"color\":\"#8a8d93\"},\"hoverlabel\":{\"font\":{\"size\":13,\"family\":\"Lato, sans-serif\"},\"bgcolor\":\"#444\"},\"showlegend\":false,\"plot_bgcolor\":\"#333\",\"paper_bgcolor\":\"#333\"},                        {\"responsive\": true}                    ).then(function(){\n",
              "                            \n",
              "var gd = document.getElementById('73d0f5d7-9825-4208-8bb6-09d99055b3ff');\n",
              "var x = new MutationObserver(function (mutations, observer) {{\n",
              "        var display = window.getComputedStyle(gd).display;\n",
              "        if (!display || display === 'none') {{\n",
              "            console.log([gd, 'removed!']);\n",
              "            Plotly.purge(gd);\n",
              "            observer.disconnect();\n",
              "        }}\n",
              "}});\n",
              "\n",
              "// Listen for the removal of the full notebook cells\n",
              "var notebookContainer = gd.closest('#notebook-container');\n",
              "if (notebookContainer) {{\n",
              "    x.observe(notebookContainer, {childList: true});\n",
              "}}\n",
              "\n",
              "// Listen for the clearing of the current output cell\n",
              "var outputEl = gd.closest('.output');\n",
              "if (outputEl) {{\n",
              "    x.observe(outputEl, {childList: true});\n",
              "}}\n",
              "\n",
              "                        })                };                            </script>        </div>\n",
              "</body>\n",
              "</html>"
            ]
          },
          "metadata": {}
        }
      ]
    },
    {
      "cell_type": "code",
      "source": [
        "m_s_groups = nf.groupby([\"title\", \"type\", \"country\",]).apply(lambda df: df.date_added) #Returns Pandas Series with movie / series title and original index\n",
        "m_s_groups.head(40)"
      ],
      "metadata": {
        "colab": {
          "base_uri": "https://localhost:8080/"
        },
        "id": "rBmsACVfgYdF",
        "outputId": "4bc33074-d83d-431b-98b9-5d670f69fd30"
      },
      "execution_count": 48,
      "outputs": [
        {
          "output_type": "execute_result",
          "data": {
            "text/plain": [
              "title                                  type   country                        \n",
              "#Alive                                 Movie  South Korea                  27   2020-09-08\n",
              "#AnneFrank - Parallel Stories          Movie  Italy                        28   2020-07-01\n",
              "#FriendButMarried                      Movie  Indonesia                    31   2020-05-21\n",
              "#FriendButMarried 2                    Movie  Indonesia                    32   2020-06-28\n",
              "#Roxy                                  Movie  Canada                       34   2019-04-10\n",
              "#Selfie                                Movie  Romania                      36   2019-06-01\n",
              "#Selfie 69                             Movie  Romania                      37   2019-06-01\n",
              "#realityhigh                           Movie  United States                33   2017-09-08\n",
              "1 Chance 2 Dance                       Movie  United States                46   2017-07-01\n",
              "1 Mile to You                          Movie  United States                47   2017-07-07\n",
              "10 Days in Sun City                    Movie  South Africa, Nigeria        48   2019-10-18\n",
              "10 jours en or                         Movie  France                       49   2017-07-01\n",
              "10,000 B.C.                            Movie  United States, South Africa  50   2019-06-01\n",
              "100 Meters                             Movie  Portugal, Spain              54   2017-03-10\n",
              "100% Halal                             Movie  Indonesia                    57   2021-01-07\n",
              "1000 Rupee Note                        Movie  India                        59   2016-12-01\n",
              "12 ROUND GUN                           Movie  United States                60   2019-03-14\n",
              "122                                    Movie  Egypt                        6    2020-06-01\n",
              "13 Cameras                             Movie  United States                62   2016-08-13\n",
              "13 Sins                                Movie  United States                65   2019-01-13\n",
              "14 Blades                              Movie  Hong Kong, China, Singapore  68   2019-04-03\n",
              "14 Cameras                             Movie  United States                69   2018-10-27\n",
              "15-Aug                                 Movie  India                        18   2019-03-29\n",
              "16 Blocks                              Movie  United States, Germany       71   2019-11-01\n",
              "17 Again                               Movie  United States                72   2021-01-01\n",
              "18 Presents                            Movie  Italy                        73   2020-05-08\n",
              "187                                    Movie  United States                7    2019-11-01\n",
              "1898: Our Last Men in the Philippines  Movie  Spain                        74   2017-06-02\n",
              "1920                                   Movie  India                        9    2017-12-15\n",
              "1922                                   Movie  United States                10   2017-10-20\n",
              "1BR                                    Movie  United States                75   2020-08-23\n",
              "1st Summoning                          Movie  United States                76   2019-07-26\n",
              "2 Alone in Paris                       Movie  France                       77   2020-06-01\n",
              "2 States                               Movie  India                        78   2018-08-04\n",
              "2,215                                  Movie  Thailand                     13   2019-03-01\n",
              "20 Feet From Stardom                   Movie  United States                79   2018-09-22\n",
              "2036 Origin Unknown                    Movie  United Kingdom               82   2018-12-20\n",
              "20th Century Women                     Movie  United States                83   2019-06-28\n",
              "21                                     Movie  United States                4    2020-01-01\n",
              "21 & Over                              Movie  United States                84   2019-04-16\n",
              "Name: date_added, dtype: datetime64[ns]"
            ]
          },
          "metadata": {},
          "execution_count": 48
        }
      ]
    },
    {
      "cell_type": "markdown",
      "source": [
        "**Because the quantity of movies outnumbers the number of TV series. It appears that movies are most widely available in various countries.**"
      ],
      "metadata": {
        "id": "PS_2vMazOOgl"
      }
    }
  ]
}